{
 "cells": [
  {
   "cell_type": "code",
   "execution_count": 1,
   "metadata": {},
   "outputs": [],
   "source": [
    "import numpy as np\n",
    "from scipy.spatial import distance\n",
    "import pandas as pd\n",
    "import math\n",
    "import os\n",
    "import numpy as np\n",
    "import nibabel as nibs\n",
    "import seaborn as sns\n",
    "import matplotlib.pyplot as plt\n",
    "from glob import glob\n",
    "from nilearn import image, datasets, plotting, masking\n",
    "import pandas as pd\n",
    "from scipy.spatial import distance\n",
    "\n",
    "import torch\n",
    "import matplotlib.pyplot as plt\n",
    "from models import MemNet\n",
    "from LaMemDataset import LaMemEvalDataset\n",
    "from torchvision import transforms\n",
    "import numpy as np\n",
    "import PIL.Image\n",
    "from PIL import Image\n",
    "from torchvision.models.feature_extraction import get_graph_node_names, create_feature_extractor\n",
    "from matplotlib.colors import LinearSegmentedColormap\n",
    "\n",
    "\n",
    "from layer_activity import features\n",
    "from layer_activity_random import features_random\n",
    "from rdm_plot_function import plot_rdm\n",
    "from rdm_calc_function import activity_vector_rdm\n",
    "\n",
    "\n",
    "import torchvision.models as Alexnet\n",
    "from torchvision import transforms\n",
    "\n",
    "import torch\n",
    "import torchvision.models as models\n",
    "\n",
    "\n",
    "import matplotlib.pyplot as plt\n",
    "from scipy.stats import spearmanr\n",
    "import matplotlib.pyplot as plt\n",
    "\n",
    "\n",
    "def upper(df):\n",
    "    try:\n",
    "        assert(type(df)==np.ndarray)\n",
    "    except:\n",
    "        if type(df)==pd.DataFrame:\n",
    "            df = df.values\n",
    "        else:\n",
    "            raise TypeError('Must be np.ndarray or pd.DataFrame')\n",
    "    mask = np.triu_indices(df.shape[0], k=1)\n",
    "    return df[mask]"
   ]
  },
  {
   "cell_type": "code",
   "execution_count": 2,
   "metadata": {},
   "outputs": [
    {
     "name": "stderr",
     "output_type": "stream",
     "text": [
      "/Users/ramahuja/anaconda3/envs/feature/lib/python3.8/site-packages/torchvision/models/_utils.py:208: UserWarning: The parameter 'pretrained' is deprecated since 0.13 and may be removed in the future, please use 'weights' instead.\n",
      "  warnings.warn(\n",
      "/Users/ramahuja/anaconda3/envs/feature/lib/python3.8/site-packages/torchvision/models/_utils.py:223: UserWarning: Arguments other than a weight enum or `None` for 'weights' are deprecated since 0.13 and may be removed in the future. The current behavior is equivalent to passing `weights=AlexNet_Weights.IMAGENET1K_V1`. You can also use `weights=AlexNet_Weights.DEFAULT` to get the most up-to-date weights.\n",
      "  warnings.warn(msg)\n",
      "/Users/ramahuja/anaconda3/envs/feature/lib/python3.8/site-packages/torchvision/models/_utils.py:223: UserWarning: Arguments other than a weight enum or `None` for 'weights' are deprecated since 0.13 and may be removed in the future. The current behavior is equivalent to passing `weights=ResNet18_Weights.IMAGENET1K_V1`. You can also use `weights=ResNet18_Weights.DEFAULT` to get the most up-to-date weights.\n",
      "  warnings.warn(msg)\n",
      "/Users/ramahuja/anaconda3/envs/feature/lib/python3.8/site-packages/torchvision/models/_utils.py:223: UserWarning: Arguments other than a weight enum or `None` for 'weights' are deprecated since 0.13 and may be removed in the future. The current behavior is equivalent to passing `weights=ResNet50_Weights.IMAGENET1K_V1`. You can also use `weights=ResNet50_Weights.DEFAULT` to get the most up-to-date weights.\n",
      "  warnings.warn(msg)\n",
      "/Users/ramahuja/anaconda3/envs/feature/lib/python3.8/site-packages/torchvision/models/_utils.py:223: UserWarning: Arguments other than a weight enum or `None` for 'weights' are deprecated since 0.13 and may be removed in the future. The current behavior is equivalent to passing `weights=ResNet101_Weights.IMAGENET1K_V1`. You can also use `weights=ResNet101_Weights.DEFAULT` to get the most up-to-date weights.\n",
      "  warnings.warn(msg)\n",
      "/Users/ramahuja/anaconda3/envs/feature/lib/python3.8/site-packages/torchvision/models/_utils.py:223: UserWarning: Arguments other than a weight enum or `None` for 'weights' are deprecated since 0.13 and may be removed in the future. The current behavior is equivalent to passing `weights=VGG16_Weights.IMAGENET1K_V1`. You can also use `weights=VGG16_Weights.DEFAULT` to get the most up-to-date weights.\n",
      "  warnings.warn(msg)\n",
      "/Users/ramahuja/anaconda3/envs/feature/lib/python3.8/site-packages/torchvision/models/_utils.py:223: UserWarning: Arguments other than a weight enum or `None` for 'weights' are deprecated since 0.13 and may be removed in the future. The current behavior is equivalent to passing `weights=VGG19_Weights.IMAGENET1K_V1`. You can also use `weights=VGG19_Weights.DEFAULT` to get the most up-to-date weights.\n",
      "  warnings.warn(msg)\n",
      "/Users/ramahuja/anaconda3/envs/feature/lib/python3.8/site-packages/torchvision/models/_utils.py:223: UserWarning: Arguments other than a weight enum or `None` for 'weights' are deprecated since 0.13 and may be removed in the future. The current behavior is equivalent to passing `weights=GoogLeNet_Weights.IMAGENET1K_V1`. You can also use `weights=GoogLeNet_Weights.DEFAULT` to get the most up-to-date weights.\n",
      "  warnings.warn(msg)\n",
      "/Users/ramahuja/anaconda3/envs/feature/lib/python3.8/site-packages/torchvision/models/_utils.py:223: UserWarning: Arguments other than a weight enum or `None` for 'weights' are deprecated since 0.13 and may be removed in the future. The current behavior is equivalent to passing `weights=Inception_V3_Weights.IMAGENET1K_V1`. You can also use `weights=Inception_V3_Weights.DEFAULT` to get the most up-to-date weights.\n",
      "  warnings.warn(msg)\n",
      "/Users/ramahuja/anaconda3/envs/feature/lib/python3.8/site-packages/torchvision/models/_utils.py:223: UserWarning: Arguments other than a weight enum or `None` for 'weights' are deprecated since 0.13 and may be removed in the future. The current behavior is equivalent to passing `weights=DenseNet121_Weights.IMAGENET1K_V1`. You can also use `weights=DenseNet121_Weights.DEFAULT` to get the most up-to-date weights.\n",
      "  warnings.warn(msg)\n",
      "/Users/ramahuja/anaconda3/envs/feature/lib/python3.8/site-packages/torchvision/models/_utils.py:223: UserWarning: Arguments other than a weight enum or `None` for 'weights' are deprecated since 0.13 and may be removed in the future. The current behavior is equivalent to passing `weights=MobileNet_V2_Weights.IMAGENET1K_V1`. You can also use `weights=MobileNet_V2_Weights.DEFAULT` to get the most up-to-date weights.\n",
      "  warnings.warn(msg)\n",
      "/Users/ramahuja/anaconda3/envs/feature/lib/python3.8/site-packages/torchvision/models/_utils.py:223: UserWarning: Arguments other than a weight enum or `None` for 'weights' are deprecated since 0.13 and may be removed in the future. The current behavior is equivalent to passing `weights=SqueezeNet1_0_Weights.IMAGENET1K_V1`. You can also use `weights=SqueezeNet1_0_Weights.DEFAULT` to get the most up-to-date weights.\n",
      "  warnings.warn(msg)\n",
      "/Users/ramahuja/anaconda3/envs/feature/lib/python3.8/site-packages/torchvision/models/_utils.py:223: UserWarning: Arguments other than a weight enum or `None` for 'weights' are deprecated since 0.13 and may be removed in the future. The current behavior is equivalent to passing `weights=ShuffleNet_V2_X1_0_Weights.IMAGENET1K_V1`. You can also use `weights=ShuffleNet_V2_X1_0_Weights.DEFAULT` to get the most up-to-date weights.\n",
      "  warnings.warn(msg)\n",
      "/Users/ramahuja/anaconda3/envs/feature/lib/python3.8/site-packages/torchvision/models/_utils.py:223: UserWarning: Arguments other than a weight enum or `None` for 'weights' are deprecated since 0.13 and may be removed in the future. The current behavior is equivalent to passing `weights=MNASNet1_0_Weights.IMAGENET1K_V1`. You can also use `weights=MNASNet1_0_Weights.DEFAULT` to get the most up-to-date weights.\n",
      "  warnings.warn(msg)\n",
      "/Users/ramahuja/anaconda3/envs/feature/lib/python3.8/site-packages/torchvision/models/_utils.py:223: UserWarning: Arguments other than a weight enum or `None` for 'weights' are deprecated since 0.13 and may be removed in the future. The current behavior is equivalent to passing `weights=ResNeXt50_32X4D_Weights.IMAGENET1K_V1`. You can also use `weights=ResNeXt50_32X4D_Weights.DEFAULT` to get the most up-to-date weights.\n",
      "  warnings.warn(msg)\n",
      "/Users/ramahuja/anaconda3/envs/feature/lib/python3.8/site-packages/torchvision/models/_utils.py:223: UserWarning: Arguments other than a weight enum or `None` for 'weights' are deprecated since 0.13 and may be removed in the future. The current behavior is equivalent to passing `weights=Wide_ResNet50_2_Weights.IMAGENET1K_V1`. You can also use `weights=Wide_ResNet50_2_Weights.DEFAULT` to get the most up-to-date weights.\n",
      "  warnings.warn(msg)\n"
     ]
    }
   ],
   "source": [
    "#MEMNET\n",
    "model_memnet = MemNet()\n",
    "checkpoint_memnet = torch.utils.model_zoo.load_url(\"https://github.com/andrewrkeyes/Memnet-Pytorch-Model/raw/master/model.ckpt\")\n",
    "model_memnet.load_state_dict(checkpoint_memnet[\"state_dict\"])\n",
    "\n",
    "#ALEXNET\n",
    "model_alexnet = Alexnet.alexnet(pretrained=True)\n",
    "\n",
    "#RESNET15\n",
    "model_resnet18 = models.resnet18(pretrained=True)\n",
    "\n",
    "#RESNET50\n",
    "model_resnet50 = models.resnet50(pretrained=True)\n",
    "\n",
    "#RESNET101\n",
    "model_resnet101 = models.resnet101(pretrained=True)\n",
    "\n",
    "#VGG16\n",
    "model_vgg16 = models.vgg16(pretrained=True)\n",
    "\n",
    "#VGG19\n",
    "model_vgg19 = models.vgg19(pretrained=True)\n",
    "\n",
    "#Googlenet\n",
    "model_googlenet = models.googlenet(pretrained=True)\n",
    "\n",
    "#Inception3\n",
    "model_inception = models.inception_v3(pretrained=True)\n",
    "\n",
    "#Densenet\n",
    "model_densenet = models.densenet121(pretrained=True)\n",
    "\n",
    "#MobileNet\n",
    "model_mobilenet_v2 = models.mobilenet_v2(pretrained=True)\n",
    "\n",
    "#SqueezeNet \n",
    "model_squeezenet = models.squeezenet1_0(pretrained=True)\n",
    "\n",
    "#ShuffleNetV2 \n",
    "model_shufflenet_v2 = models.shufflenet_v2_x1_0(pretrained=True)\n",
    "\n",
    "#MNASNet \n",
    "model_mnasnet = models.mnasnet1_0(pretrained=True)\n",
    "\n",
    "#ResNeXt \n",
    "model_resnext = models.resnext50_32x4d(pretrained=True)\n",
    "\n",
    "#Wideresnet\n",
    "model_wide_resnet = models.wide_resnet50_2(pretrained=True)\n",
    "\n"
   ]
  },
  {
   "cell_type": "code",
   "execution_count": 3,
   "metadata": {},
   "outputs": [
    {
     "name": "stdout",
     "output_type": "stream",
     "text": [
      "['x', 'conv1', 'relu1', 'pool1', 'norm1', 'conv2', 'relu2', 'pool2', 'norm2', 'conv3', 'relu3', 'conv4', 'relu4', 'conv5', 'relu5', 'pool5', 'getattr', 'getitem', 'view', 'fc6', 'relu6', 'drop6', 'fc7', 'relu7', 'drop7', 'fc8_euclidean']\n"
     ]
    }
   ],
   "source": [
    "#MEMNET\n",
    "model_memnet = MemNet()\n",
    "checkpoint_memnet = torch.utils.model_zoo.load_url(\"https://github.com/andrewrkeyes/Memnet-Pytorch-Model/raw/master/model.ckpt\")\n",
    "model_memnet.load_state_dict(checkpoint_memnet[\"state_dict\"])\n",
    "layer_Memnet = model_memnet.eval()\n",
    "nodes_Memnet, _ = get_graph_node_names(layer_Memnet)\n",
    "print (nodes_Memnet)"
   ]
  },
  {
   "cell_type": "code",
   "execution_count": 4,
   "metadata": {},
   "outputs": [
    {
     "name": "stdout",
     "output_type": "stream",
     "text": [
      "['x', 'features.0', 'features.1', 'features.2', 'features.3', 'features.4', 'features.5', 'features.6', 'features.7', 'features.8', 'features.9', 'features.10', 'features.11', 'features.12', 'avgpool', 'flatten', 'classifier.0', 'classifier.1', 'classifier.2', 'classifier.3', 'classifier.4', 'classifier.5', 'classifier.6']\n"
     ]
    },
    {
     "name": "stderr",
     "output_type": "stream",
     "text": [
      "/Users/ramahuja/anaconda3/envs/feature/lib/python3.8/site-packages/torch/overrides.py:110: UserWarning: 'has_cuda' is deprecated, please use 'torch.backends.cuda.is_built()'\n",
      "  torch.has_cuda,\n",
      "/Users/ramahuja/anaconda3/envs/feature/lib/python3.8/site-packages/torch/overrides.py:111: UserWarning: 'has_cudnn' is deprecated, please use 'torch.backends.cudnn.is_available()'\n",
      "  torch.has_cudnn,\n",
      "/Users/ramahuja/anaconda3/envs/feature/lib/python3.8/site-packages/torch/overrides.py:117: UserWarning: 'has_mps' is deprecated, please use 'torch.backends.mps.is_built()'\n",
      "  torch.has_mps,\n",
      "/Users/ramahuja/anaconda3/envs/feature/lib/python3.8/site-packages/torch/overrides.py:118: UserWarning: 'has_mkldnn' is deprecated, please use 'torch.backends.mkldnn.is_available()'\n",
      "  torch.has_mkldnn,\n"
     ]
    }
   ],
   "source": [
    "#ALEXNET\n",
    "model_alexnet = Alexnet.alexnet(pretrained=True)\n",
    "\n",
    "layer_Alexnet = model_alexnet.eval()\n",
    "nodes_Alexnet, _ = get_graph_node_names(layer_Alexnet)\n",
    "print (nodes_Alexnet)"
   ]
  },
  {
   "cell_type": "code",
   "execution_count": 4,
   "metadata": {},
   "outputs": [
    {
     "name": "stdout",
     "output_type": "stream",
     "text": [
      "23\n",
      "26\n"
     ]
    }
   ],
   "source": [
    "print (len(nodes_Alexnet))\n",
    "print (len(nodes_Memnet))"
   ]
  },
  {
   "cell_type": "code",
   "execution_count": 5,
   "metadata": {},
   "outputs": [
    {
     "name": "stdout",
     "output_type": "stream",
     "text": [
      "['x', 'conv1', 'bn1', 'relu', 'maxpool', 'layer1.0.conv1', 'layer1.0.bn1', 'layer1.0.relu', 'layer1.0.conv2', 'layer1.0.bn2', 'layer1.0.add', 'layer1.0.relu_1', 'layer1.1.conv1', 'layer1.1.bn1', 'layer1.1.relu', 'layer1.1.conv2', 'layer1.1.bn2', 'layer1.1.add', 'layer1.1.relu_1', 'layer2.0.conv1', 'layer2.0.bn1', 'layer2.0.relu', 'layer2.0.conv2', 'layer2.0.bn2', 'layer2.0.downsample.0', 'layer2.0.downsample.1', 'layer2.0.add', 'layer2.0.relu_1', 'layer2.1.conv1', 'layer2.1.bn1', 'layer2.1.relu', 'layer2.1.conv2', 'layer2.1.bn2', 'layer2.1.add', 'layer2.1.relu_1', 'layer3.0.conv1', 'layer3.0.bn1', 'layer3.0.relu', 'layer3.0.conv2', 'layer3.0.bn2', 'layer3.0.downsample.0', 'layer3.0.downsample.1', 'layer3.0.add', 'layer3.0.relu_1', 'layer3.1.conv1', 'layer3.1.bn1', 'layer3.1.relu', 'layer3.1.conv2', 'layer3.1.bn2', 'layer3.1.add', 'layer3.1.relu_1', 'layer4.0.conv1', 'layer4.0.bn1', 'layer4.0.relu', 'layer4.0.conv2', 'layer4.0.bn2', 'layer4.0.downsample.0', 'layer4.0.downsample.1', 'layer4.0.add', 'layer4.0.relu_1', 'layer4.1.conv1', 'layer4.1.bn1', 'layer4.1.relu', 'layer4.1.conv2', 'layer4.1.bn2', 'layer4.1.add', 'layer4.1.relu_1', 'avgpool', 'flatten', 'fc']\n"
     ]
    }
   ],
   "source": [
    "layer_resnet18 = model_resnet18.eval()\n",
    "nodes_resnet18, _ = get_graph_node_names(layer_resnet18)\n",
    "print (nodes_resnet18)"
   ]
  },
  {
   "cell_type": "code",
   "execution_count": 7,
   "metadata": {},
   "outputs": [
    {
     "name": "stdout",
     "output_type": "stream",
     "text": [
      "['x', 'conv1', 'bn1', 'relu', 'maxpool', 'layer1.0.conv1', 'layer1.0.bn1', 'layer1.0.relu', 'layer1.0.conv2', 'layer1.0.bn2', 'layer1.0.relu_1', 'layer1.0.conv3', 'layer1.0.bn3', 'layer1.0.downsample.0', 'layer1.0.downsample.1', 'layer1.0.add', 'layer1.0.relu_2', 'layer1.1.conv1', 'layer1.1.bn1', 'layer1.1.relu', 'layer1.1.conv2', 'layer1.1.bn2', 'layer1.1.relu_1', 'layer1.1.conv3', 'layer1.1.bn3', 'layer1.1.add', 'layer1.1.relu_2', 'layer1.2.conv1', 'layer1.2.bn1', 'layer1.2.relu', 'layer1.2.conv2', 'layer1.2.bn2', 'layer1.2.relu_1', 'layer1.2.conv3', 'layer1.2.bn3', 'layer1.2.add', 'layer1.2.relu_2', 'layer2.0.conv1', 'layer2.0.bn1', 'layer2.0.relu', 'layer2.0.conv2', 'layer2.0.bn2', 'layer2.0.relu_1', 'layer2.0.conv3', 'layer2.0.bn3', 'layer2.0.downsample.0', 'layer2.0.downsample.1', 'layer2.0.add', 'layer2.0.relu_2', 'layer2.1.conv1', 'layer2.1.bn1', 'layer2.1.relu', 'layer2.1.conv2', 'layer2.1.bn2', 'layer2.1.relu_1', 'layer2.1.conv3', 'layer2.1.bn3', 'layer2.1.add', 'layer2.1.relu_2', 'layer2.2.conv1', 'layer2.2.bn1', 'layer2.2.relu', 'layer2.2.conv2', 'layer2.2.bn2', 'layer2.2.relu_1', 'layer2.2.conv3', 'layer2.2.bn3', 'layer2.2.add', 'layer2.2.relu_2', 'layer2.3.conv1', 'layer2.3.bn1', 'layer2.3.relu', 'layer2.3.conv2', 'layer2.3.bn2', 'layer2.3.relu_1', 'layer2.3.conv3', 'layer2.3.bn3', 'layer2.3.add', 'layer2.3.relu_2', 'layer3.0.conv1', 'layer3.0.bn1', 'layer3.0.relu', 'layer3.0.conv2', 'layer3.0.bn2', 'layer3.0.relu_1', 'layer3.0.conv3', 'layer3.0.bn3', 'layer3.0.downsample.0', 'layer3.0.downsample.1', 'layer3.0.add', 'layer3.0.relu_2', 'layer3.1.conv1', 'layer3.1.bn1', 'layer3.1.relu', 'layer3.1.conv2', 'layer3.1.bn2', 'layer3.1.relu_1', 'layer3.1.conv3', 'layer3.1.bn3', 'layer3.1.add', 'layer3.1.relu_2', 'layer3.2.conv1', 'layer3.2.bn1', 'layer3.2.relu', 'layer3.2.conv2', 'layer3.2.bn2', 'layer3.2.relu_1', 'layer3.2.conv3', 'layer3.2.bn3', 'layer3.2.add', 'layer3.2.relu_2', 'layer3.3.conv1', 'layer3.3.bn1', 'layer3.3.relu', 'layer3.3.conv2', 'layer3.3.bn2', 'layer3.3.relu_1', 'layer3.3.conv3', 'layer3.3.bn3', 'layer3.3.add', 'layer3.3.relu_2', 'layer3.4.conv1', 'layer3.4.bn1', 'layer3.4.relu', 'layer3.4.conv2', 'layer3.4.bn2', 'layer3.4.relu_1', 'layer3.4.conv3', 'layer3.4.bn3', 'layer3.4.add', 'layer3.4.relu_2', 'layer3.5.conv1', 'layer3.5.bn1', 'layer3.5.relu', 'layer3.5.conv2', 'layer3.5.bn2', 'layer3.5.relu_1', 'layer3.5.conv3', 'layer3.5.bn3', 'layer3.5.add', 'layer3.5.relu_2', 'layer4.0.conv1', 'layer4.0.bn1', 'layer4.0.relu', 'layer4.0.conv2', 'layer4.0.bn2', 'layer4.0.relu_1', 'layer4.0.conv3', 'layer4.0.bn3', 'layer4.0.downsample.0', 'layer4.0.downsample.1', 'layer4.0.add', 'layer4.0.relu_2', 'layer4.1.conv1', 'layer4.1.bn1', 'layer4.1.relu', 'layer4.1.conv2', 'layer4.1.bn2', 'layer4.1.relu_1', 'layer4.1.conv3', 'layer4.1.bn3', 'layer4.1.add', 'layer4.1.relu_2', 'layer4.2.conv1', 'layer4.2.bn1', 'layer4.2.relu', 'layer4.2.conv2', 'layer4.2.bn2', 'layer4.2.relu_1', 'layer4.2.conv3', 'layer4.2.bn3', 'layer4.2.add', 'layer4.2.relu_2', 'avgpool', 'flatten', 'fc']\n"
     ]
    }
   ],
   "source": [
    "layer_resnet50 = model_resnet50.eval()\n",
    "nodes_resnet50, _ = get_graph_node_names(layer_resnet50)\n",
    "print (nodes_resnet50)"
   ]
  },
  {
   "cell_type": "code",
   "execution_count": 8,
   "metadata": {},
   "outputs": [
    {
     "name": "stdout",
     "output_type": "stream",
     "text": [
      "['x', 'conv1', 'bn1', 'relu', 'maxpool', 'layer1.0.conv1', 'layer1.0.bn1', 'layer1.0.relu', 'layer1.0.conv2', 'layer1.0.bn2', 'layer1.0.relu_1', 'layer1.0.conv3', 'layer1.0.bn3', 'layer1.0.downsample.0', 'layer1.0.downsample.1', 'layer1.0.add', 'layer1.0.relu_2', 'layer1.1.conv1', 'layer1.1.bn1', 'layer1.1.relu', 'layer1.1.conv2', 'layer1.1.bn2', 'layer1.1.relu_1', 'layer1.1.conv3', 'layer1.1.bn3', 'layer1.1.add', 'layer1.1.relu_2', 'layer1.2.conv1', 'layer1.2.bn1', 'layer1.2.relu', 'layer1.2.conv2', 'layer1.2.bn2', 'layer1.2.relu_1', 'layer1.2.conv3', 'layer1.2.bn3', 'layer1.2.add', 'layer1.2.relu_2', 'layer2.0.conv1', 'layer2.0.bn1', 'layer2.0.relu', 'layer2.0.conv2', 'layer2.0.bn2', 'layer2.0.relu_1', 'layer2.0.conv3', 'layer2.0.bn3', 'layer2.0.downsample.0', 'layer2.0.downsample.1', 'layer2.0.add', 'layer2.0.relu_2', 'layer2.1.conv1', 'layer2.1.bn1', 'layer2.1.relu', 'layer2.1.conv2', 'layer2.1.bn2', 'layer2.1.relu_1', 'layer2.1.conv3', 'layer2.1.bn3', 'layer2.1.add', 'layer2.1.relu_2', 'layer2.2.conv1', 'layer2.2.bn1', 'layer2.2.relu', 'layer2.2.conv2', 'layer2.2.bn2', 'layer2.2.relu_1', 'layer2.2.conv3', 'layer2.2.bn3', 'layer2.2.add', 'layer2.2.relu_2', 'layer2.3.conv1', 'layer2.3.bn1', 'layer2.3.relu', 'layer2.3.conv2', 'layer2.3.bn2', 'layer2.3.relu_1', 'layer2.3.conv3', 'layer2.3.bn3', 'layer2.3.add', 'layer2.3.relu_2', 'layer3.0.conv1', 'layer3.0.bn1', 'layer3.0.relu', 'layer3.0.conv2', 'layer3.0.bn2', 'layer3.0.relu_1', 'layer3.0.conv3', 'layer3.0.bn3', 'layer3.0.downsample.0', 'layer3.0.downsample.1', 'layer3.0.add', 'layer3.0.relu_2', 'layer3.1.conv1', 'layer3.1.bn1', 'layer3.1.relu', 'layer3.1.conv2', 'layer3.1.bn2', 'layer3.1.relu_1', 'layer3.1.conv3', 'layer3.1.bn3', 'layer3.1.add', 'layer3.1.relu_2', 'layer3.2.conv1', 'layer3.2.bn1', 'layer3.2.relu', 'layer3.2.conv2', 'layer3.2.bn2', 'layer3.2.relu_1', 'layer3.2.conv3', 'layer3.2.bn3', 'layer3.2.add', 'layer3.2.relu_2', 'layer3.3.conv1', 'layer3.3.bn1', 'layer3.3.relu', 'layer3.3.conv2', 'layer3.3.bn2', 'layer3.3.relu_1', 'layer3.3.conv3', 'layer3.3.bn3', 'layer3.3.add', 'layer3.3.relu_2', 'layer3.4.conv1', 'layer3.4.bn1', 'layer3.4.relu', 'layer3.4.conv2', 'layer3.4.bn2', 'layer3.4.relu_1', 'layer3.4.conv3', 'layer3.4.bn3', 'layer3.4.add', 'layer3.4.relu_2', 'layer3.5.conv1', 'layer3.5.bn1', 'layer3.5.relu', 'layer3.5.conv2', 'layer3.5.bn2', 'layer3.5.relu_1', 'layer3.5.conv3', 'layer3.5.bn3', 'layer3.5.add', 'layer3.5.relu_2', 'layer3.6.conv1', 'layer3.6.bn1', 'layer3.6.relu', 'layer3.6.conv2', 'layer3.6.bn2', 'layer3.6.relu_1', 'layer3.6.conv3', 'layer3.6.bn3', 'layer3.6.add', 'layer3.6.relu_2', 'layer3.7.conv1', 'layer3.7.bn1', 'layer3.7.relu', 'layer3.7.conv2', 'layer3.7.bn2', 'layer3.7.relu_1', 'layer3.7.conv3', 'layer3.7.bn3', 'layer3.7.add', 'layer3.7.relu_2', 'layer3.8.conv1', 'layer3.8.bn1', 'layer3.8.relu', 'layer3.8.conv2', 'layer3.8.bn2', 'layer3.8.relu_1', 'layer3.8.conv3', 'layer3.8.bn3', 'layer3.8.add', 'layer3.8.relu_2', 'layer3.9.conv1', 'layer3.9.bn1', 'layer3.9.relu', 'layer3.9.conv2', 'layer3.9.bn2', 'layer3.9.relu_1', 'layer3.9.conv3', 'layer3.9.bn3', 'layer3.9.add', 'layer3.9.relu_2', 'layer3.10.conv1', 'layer3.10.bn1', 'layer3.10.relu', 'layer3.10.conv2', 'layer3.10.bn2', 'layer3.10.relu_1', 'layer3.10.conv3', 'layer3.10.bn3', 'layer3.10.add', 'layer3.10.relu_2', 'layer3.11.conv1', 'layer3.11.bn1', 'layer3.11.relu', 'layer3.11.conv2', 'layer3.11.bn2', 'layer3.11.relu_1', 'layer3.11.conv3', 'layer3.11.bn3', 'layer3.11.add', 'layer3.11.relu_2', 'layer3.12.conv1', 'layer3.12.bn1', 'layer3.12.relu', 'layer3.12.conv2', 'layer3.12.bn2', 'layer3.12.relu_1', 'layer3.12.conv3', 'layer3.12.bn3', 'layer3.12.add', 'layer3.12.relu_2', 'layer3.13.conv1', 'layer3.13.bn1', 'layer3.13.relu', 'layer3.13.conv2', 'layer3.13.bn2', 'layer3.13.relu_1', 'layer3.13.conv3', 'layer3.13.bn3', 'layer3.13.add', 'layer3.13.relu_2', 'layer3.14.conv1', 'layer3.14.bn1', 'layer3.14.relu', 'layer3.14.conv2', 'layer3.14.bn2', 'layer3.14.relu_1', 'layer3.14.conv3', 'layer3.14.bn3', 'layer3.14.add', 'layer3.14.relu_2', 'layer3.15.conv1', 'layer3.15.bn1', 'layer3.15.relu', 'layer3.15.conv2', 'layer3.15.bn2', 'layer3.15.relu_1', 'layer3.15.conv3', 'layer3.15.bn3', 'layer3.15.add', 'layer3.15.relu_2', 'layer3.16.conv1', 'layer3.16.bn1', 'layer3.16.relu', 'layer3.16.conv2', 'layer3.16.bn2', 'layer3.16.relu_1', 'layer3.16.conv3', 'layer3.16.bn3', 'layer3.16.add', 'layer3.16.relu_2', 'layer3.17.conv1', 'layer3.17.bn1', 'layer3.17.relu', 'layer3.17.conv2', 'layer3.17.bn2', 'layer3.17.relu_1', 'layer3.17.conv3', 'layer3.17.bn3', 'layer3.17.add', 'layer3.17.relu_2', 'layer3.18.conv1', 'layer3.18.bn1', 'layer3.18.relu', 'layer3.18.conv2', 'layer3.18.bn2', 'layer3.18.relu_1', 'layer3.18.conv3', 'layer3.18.bn3', 'layer3.18.add', 'layer3.18.relu_2', 'layer3.19.conv1', 'layer3.19.bn1', 'layer3.19.relu', 'layer3.19.conv2', 'layer3.19.bn2', 'layer3.19.relu_1', 'layer3.19.conv3', 'layer3.19.bn3', 'layer3.19.add', 'layer3.19.relu_2', 'layer3.20.conv1', 'layer3.20.bn1', 'layer3.20.relu', 'layer3.20.conv2', 'layer3.20.bn2', 'layer3.20.relu_1', 'layer3.20.conv3', 'layer3.20.bn3', 'layer3.20.add', 'layer3.20.relu_2', 'layer3.21.conv1', 'layer3.21.bn1', 'layer3.21.relu', 'layer3.21.conv2', 'layer3.21.bn2', 'layer3.21.relu_1', 'layer3.21.conv3', 'layer3.21.bn3', 'layer3.21.add', 'layer3.21.relu_2', 'layer3.22.conv1', 'layer3.22.bn1', 'layer3.22.relu', 'layer3.22.conv2', 'layer3.22.bn2', 'layer3.22.relu_1', 'layer3.22.conv3', 'layer3.22.bn3', 'layer3.22.add', 'layer3.22.relu_2', 'layer4.0.conv1', 'layer4.0.bn1', 'layer4.0.relu', 'layer4.0.conv2', 'layer4.0.bn2', 'layer4.0.relu_1', 'layer4.0.conv3', 'layer4.0.bn3', 'layer4.0.downsample.0', 'layer4.0.downsample.1', 'layer4.0.add', 'layer4.0.relu_2', 'layer4.1.conv1', 'layer4.1.bn1', 'layer4.1.relu', 'layer4.1.conv2', 'layer4.1.bn2', 'layer4.1.relu_1', 'layer4.1.conv3', 'layer4.1.bn3', 'layer4.1.add', 'layer4.1.relu_2', 'layer4.2.conv1', 'layer4.2.bn1', 'layer4.2.relu', 'layer4.2.conv2', 'layer4.2.bn2', 'layer4.2.relu_1', 'layer4.2.conv3', 'layer4.2.bn3', 'layer4.2.add', 'layer4.2.relu_2', 'avgpool', 'flatten', 'fc']\n"
     ]
    }
   ],
   "source": [
    "layer_resnet101 = model_resnet101.eval()\n",
    "nodes_resnet101, _ = get_graph_node_names(layer_resnet101)\n",
    "print (nodes_resnet101)"
   ]
  },
  {
   "cell_type": "code",
   "execution_count": 9,
   "metadata": {},
   "outputs": [
    {
     "name": "stdout",
     "output_type": "stream",
     "text": [
      "['x', 'features.0', 'features.1', 'features.2', 'features.3', 'features.4', 'features.5', 'features.6', 'features.7', 'features.8', 'features.9', 'features.10', 'features.11', 'features.12', 'features.13', 'features.14', 'features.15', 'features.16', 'features.17', 'features.18', 'features.19', 'features.20', 'features.21', 'features.22', 'features.23', 'features.24', 'features.25', 'features.26', 'features.27', 'features.28', 'features.29', 'features.30', 'avgpool', 'flatten', 'classifier.0', 'classifier.1', 'classifier.2', 'classifier.3', 'classifier.4', 'classifier.5', 'classifier.6']\n"
     ]
    }
   ],
   "source": [
    "layer_vgg16= model_vgg16.eval()\n",
    "nodes_vgg16, _ = get_graph_node_names(layer_vgg16)\n",
    "print (nodes_vgg16)"
   ]
  },
  {
   "cell_type": "code",
   "execution_count": 10,
   "metadata": {},
   "outputs": [
    {
     "name": "stdout",
     "output_type": "stream",
     "text": [
      "['x', 'features.0', 'features.1', 'features.2', 'features.3', 'features.4', 'features.5', 'features.6', 'features.7', 'features.8', 'features.9', 'features.10', 'features.11', 'features.12', 'features.13', 'features.14', 'features.15', 'features.16', 'features.17', 'features.18', 'features.19', 'features.20', 'features.21', 'features.22', 'features.23', 'features.24', 'features.25', 'features.26', 'features.27', 'features.28', 'features.29', 'features.30', 'avgpool', 'flatten', 'classifier.0', 'classifier.1', 'classifier.2', 'classifier.3', 'classifier.4', 'classifier.5', 'classifier.6']\n"
     ]
    }
   ],
   "source": [
    "layer_vgg19= model_vgg19.eval()\n",
    "nodes_vgg19, _ = get_graph_node_names(layer_vgg19)\n",
    "print (nodes_vgg16)"
   ]
  },
  {
   "cell_type": "code",
   "execution_count": 11,
   "metadata": {},
   "outputs": [
    {
     "name": "stdout",
     "output_type": "stream",
     "text": [
      "['x', 'getitem', 'unsqueeze', 'mul', 'add', 'getitem_1', 'unsqueeze_1', 'mul_1', 'add_1', 'getitem_2', 'unsqueeze_2', 'mul_2', 'add_2', 'cat', 'conv1.conv', 'conv1.bn', 'conv1.relu', 'maxpool1', 'conv2.conv', 'conv2.bn', 'conv2.relu', 'conv3.conv', 'conv3.bn', 'conv3.relu', 'maxpool2', 'inception3a.branch1.conv', 'inception3a.branch1.bn', 'inception3a.branch1.relu', 'inception3a.branch2.0.conv', 'inception3a.branch2.0.bn', 'inception3a.branch2.0.relu', 'inception3a.branch2.1.conv', 'inception3a.branch2.1.bn', 'inception3a.branch2.1.relu', 'inception3a.branch3.0.conv', 'inception3a.branch3.0.bn', 'inception3a.branch3.0.relu', 'inception3a.branch3.1.conv', 'inception3a.branch3.1.bn', 'inception3a.branch3.1.relu', 'inception3a.branch4.0', 'inception3a.branch4.1.conv', 'inception3a.branch4.1.bn', 'inception3a.branch4.1.relu', 'inception3a.cat', 'inception3b.branch1.conv', 'inception3b.branch1.bn', 'inception3b.branch1.relu', 'inception3b.branch2.0.conv', 'inception3b.branch2.0.bn', 'inception3b.branch2.0.relu', 'inception3b.branch2.1.conv', 'inception3b.branch2.1.bn', 'inception3b.branch2.1.relu', 'inception3b.branch3.0.conv', 'inception3b.branch3.0.bn', 'inception3b.branch3.0.relu', 'inception3b.branch3.1.conv', 'inception3b.branch3.1.bn', 'inception3b.branch3.1.relu', 'inception3b.branch4.0', 'inception3b.branch4.1.conv', 'inception3b.branch4.1.bn', 'inception3b.branch4.1.relu', 'inception3b.cat', 'maxpool3', 'inception4a.branch1.conv', 'inception4a.branch1.bn', 'inception4a.branch1.relu', 'inception4a.branch2.0.conv', 'inception4a.branch2.0.bn', 'inception4a.branch2.0.relu', 'inception4a.branch2.1.conv', 'inception4a.branch2.1.bn', 'inception4a.branch2.1.relu', 'inception4a.branch3.0.conv', 'inception4a.branch3.0.bn', 'inception4a.branch3.0.relu', 'inception4a.branch3.1.conv', 'inception4a.branch3.1.bn', 'inception4a.branch3.1.relu', 'inception4a.branch4.0', 'inception4a.branch4.1.conv', 'inception4a.branch4.1.bn', 'inception4a.branch4.1.relu', 'inception4a.cat', 'inception4b.branch1.conv', 'inception4b.branch1.bn', 'inception4b.branch1.relu', 'inception4b.branch2.0.conv', 'inception4b.branch2.0.bn', 'inception4b.branch2.0.relu', 'inception4b.branch2.1.conv', 'inception4b.branch2.1.bn', 'inception4b.branch2.1.relu', 'inception4b.branch3.0.conv', 'inception4b.branch3.0.bn', 'inception4b.branch3.0.relu', 'inception4b.branch3.1.conv', 'inception4b.branch3.1.bn', 'inception4b.branch3.1.relu', 'inception4b.branch4.0', 'inception4b.branch4.1.conv', 'inception4b.branch4.1.bn', 'inception4b.branch4.1.relu', 'inception4b.cat', 'inception4c.branch1.conv', 'inception4c.branch1.bn', 'inception4c.branch1.relu', 'inception4c.branch2.0.conv', 'inception4c.branch2.0.bn', 'inception4c.branch2.0.relu', 'inception4c.branch2.1.conv', 'inception4c.branch2.1.bn', 'inception4c.branch2.1.relu', 'inception4c.branch3.0.conv', 'inception4c.branch3.0.bn', 'inception4c.branch3.0.relu', 'inception4c.branch3.1.conv', 'inception4c.branch3.1.bn', 'inception4c.branch3.1.relu', 'inception4c.branch4.0', 'inception4c.branch4.1.conv', 'inception4c.branch4.1.bn', 'inception4c.branch4.1.relu', 'inception4c.cat', 'inception4d.branch1.conv', 'inception4d.branch1.bn', 'inception4d.branch1.relu', 'inception4d.branch2.0.conv', 'inception4d.branch2.0.bn', 'inception4d.branch2.0.relu', 'inception4d.branch2.1.conv', 'inception4d.branch2.1.bn', 'inception4d.branch2.1.relu', 'inception4d.branch3.0.conv', 'inception4d.branch3.0.bn', 'inception4d.branch3.0.relu', 'inception4d.branch3.1.conv', 'inception4d.branch3.1.bn', 'inception4d.branch3.1.relu', 'inception4d.branch4.0', 'inception4d.branch4.1.conv', 'inception4d.branch4.1.bn', 'inception4d.branch4.1.relu', 'inception4d.cat', 'inception4e.branch1.conv', 'inception4e.branch1.bn', 'inception4e.branch1.relu', 'inception4e.branch2.0.conv', 'inception4e.branch2.0.bn', 'inception4e.branch2.0.relu', 'inception4e.branch2.1.conv', 'inception4e.branch2.1.bn', 'inception4e.branch2.1.relu', 'inception4e.branch3.0.conv', 'inception4e.branch3.0.bn', 'inception4e.branch3.0.relu', 'inception4e.branch3.1.conv', 'inception4e.branch3.1.bn', 'inception4e.branch3.1.relu', 'inception4e.branch4.0', 'inception4e.branch4.1.conv', 'inception4e.branch4.1.bn', 'inception4e.branch4.1.relu', 'inception4e.cat', 'maxpool4', 'inception5a.branch1.conv', 'inception5a.branch1.bn', 'inception5a.branch1.relu', 'inception5a.branch2.0.conv', 'inception5a.branch2.0.bn', 'inception5a.branch2.0.relu', 'inception5a.branch2.1.conv', 'inception5a.branch2.1.bn', 'inception5a.branch2.1.relu', 'inception5a.branch3.0.conv', 'inception5a.branch3.0.bn', 'inception5a.branch3.0.relu', 'inception5a.branch3.1.conv', 'inception5a.branch3.1.bn', 'inception5a.branch3.1.relu', 'inception5a.branch4.0', 'inception5a.branch4.1.conv', 'inception5a.branch4.1.bn', 'inception5a.branch4.1.relu', 'inception5a.cat', 'inception5b.branch1.conv', 'inception5b.branch1.bn', 'inception5b.branch1.relu', 'inception5b.branch2.0.conv', 'inception5b.branch2.0.bn', 'inception5b.branch2.0.relu', 'inception5b.branch2.1.conv', 'inception5b.branch2.1.bn', 'inception5b.branch2.1.relu', 'inception5b.branch3.0.conv', 'inception5b.branch3.0.bn', 'inception5b.branch3.0.relu', 'inception5b.branch3.1.conv', 'inception5b.branch3.1.bn', 'inception5b.branch3.1.relu', 'inception5b.branch4.0', 'inception5b.branch4.1.conv', 'inception5b.branch4.1.bn', 'inception5b.branch4.1.relu', 'inception5b.cat', 'avgpool', 'flatten', 'dropout', 'fc']\n"
     ]
    }
   ],
   "source": [
    "layer_googlenet= model_googlenet.eval()\n",
    "nodes_googlenet, _ = get_graph_node_names(layer_googlenet)\n",
    "print (nodes_googlenet)"
   ]
  },
  {
   "cell_type": "code",
   "execution_count": 12,
   "metadata": {},
   "outputs": [
    {
     "name": "stdout",
     "output_type": "stream",
     "text": [
      "['x', 'getitem', 'unsqueeze', 'mul', 'add', 'getitem_1', 'unsqueeze_1', 'mul_1', 'add_1', 'getitem_2', 'unsqueeze_2', 'mul_2', 'add_2', 'cat', 'Conv2d_1a_3x3.conv', 'Conv2d_1a_3x3.bn', 'Conv2d_1a_3x3.relu', 'Conv2d_2a_3x3.conv', 'Conv2d_2a_3x3.bn', 'Conv2d_2a_3x3.relu', 'Conv2d_2b_3x3.conv', 'Conv2d_2b_3x3.bn', 'Conv2d_2b_3x3.relu', 'maxpool1', 'Conv2d_3b_1x1.conv', 'Conv2d_3b_1x1.bn', 'Conv2d_3b_1x1.relu', 'Conv2d_4a_3x3.conv', 'Conv2d_4a_3x3.bn', 'Conv2d_4a_3x3.relu', 'maxpool2', 'Mixed_5b.branch1x1.conv', 'Mixed_5b.branch1x1.bn', 'Mixed_5b.branch1x1.relu', 'Mixed_5b.branch5x5_1.conv', 'Mixed_5b.branch5x5_1.bn', 'Mixed_5b.branch5x5_1.relu', 'Mixed_5b.branch5x5_2.conv', 'Mixed_5b.branch5x5_2.bn', 'Mixed_5b.branch5x5_2.relu', 'Mixed_5b.branch3x3dbl_1.conv', 'Mixed_5b.branch3x3dbl_1.bn', 'Mixed_5b.branch3x3dbl_1.relu', 'Mixed_5b.branch3x3dbl_2.conv', 'Mixed_5b.branch3x3dbl_2.bn', 'Mixed_5b.branch3x3dbl_2.relu', 'Mixed_5b.branch3x3dbl_3.conv', 'Mixed_5b.branch3x3dbl_3.bn', 'Mixed_5b.branch3x3dbl_3.relu', 'Mixed_5b.avg_pool2d', 'Mixed_5b.branch_pool.conv', 'Mixed_5b.branch_pool.bn', 'Mixed_5b.branch_pool.relu', 'Mixed_5b.cat', 'Mixed_5c.branch1x1.conv', 'Mixed_5c.branch1x1.bn', 'Mixed_5c.branch1x1.relu', 'Mixed_5c.branch5x5_1.conv', 'Mixed_5c.branch5x5_1.bn', 'Mixed_5c.branch5x5_1.relu', 'Mixed_5c.branch5x5_2.conv', 'Mixed_5c.branch5x5_2.bn', 'Mixed_5c.branch5x5_2.relu', 'Mixed_5c.branch3x3dbl_1.conv', 'Mixed_5c.branch3x3dbl_1.bn', 'Mixed_5c.branch3x3dbl_1.relu', 'Mixed_5c.branch3x3dbl_2.conv', 'Mixed_5c.branch3x3dbl_2.bn', 'Mixed_5c.branch3x3dbl_2.relu', 'Mixed_5c.branch3x3dbl_3.conv', 'Mixed_5c.branch3x3dbl_3.bn', 'Mixed_5c.branch3x3dbl_3.relu', 'Mixed_5c.avg_pool2d', 'Mixed_5c.branch_pool.conv', 'Mixed_5c.branch_pool.bn', 'Mixed_5c.branch_pool.relu', 'Mixed_5c.cat', 'Mixed_5d.branch1x1.conv', 'Mixed_5d.branch1x1.bn', 'Mixed_5d.branch1x1.relu', 'Mixed_5d.branch5x5_1.conv', 'Mixed_5d.branch5x5_1.bn', 'Mixed_5d.branch5x5_1.relu', 'Mixed_5d.branch5x5_2.conv', 'Mixed_5d.branch5x5_2.bn', 'Mixed_5d.branch5x5_2.relu', 'Mixed_5d.branch3x3dbl_1.conv', 'Mixed_5d.branch3x3dbl_1.bn', 'Mixed_5d.branch3x3dbl_1.relu', 'Mixed_5d.branch3x3dbl_2.conv', 'Mixed_5d.branch3x3dbl_2.bn', 'Mixed_5d.branch3x3dbl_2.relu', 'Mixed_5d.branch3x3dbl_3.conv', 'Mixed_5d.branch3x3dbl_3.bn', 'Mixed_5d.branch3x3dbl_3.relu', 'Mixed_5d.avg_pool2d', 'Mixed_5d.branch_pool.conv', 'Mixed_5d.branch_pool.bn', 'Mixed_5d.branch_pool.relu', 'Mixed_5d.cat', 'Mixed_6a.branch3x3.conv', 'Mixed_6a.branch3x3.bn', 'Mixed_6a.branch3x3.relu', 'Mixed_6a.branch3x3dbl_1.conv', 'Mixed_6a.branch3x3dbl_1.bn', 'Mixed_6a.branch3x3dbl_1.relu', 'Mixed_6a.branch3x3dbl_2.conv', 'Mixed_6a.branch3x3dbl_2.bn', 'Mixed_6a.branch3x3dbl_2.relu', 'Mixed_6a.branch3x3dbl_3.conv', 'Mixed_6a.branch3x3dbl_3.bn', 'Mixed_6a.branch3x3dbl_3.relu', 'Mixed_6a.max_pool2d', 'Mixed_6a.cat', 'Mixed_6b.branch1x1.conv', 'Mixed_6b.branch1x1.bn', 'Mixed_6b.branch1x1.relu', 'Mixed_6b.branch7x7_1.conv', 'Mixed_6b.branch7x7_1.bn', 'Mixed_6b.branch7x7_1.relu', 'Mixed_6b.branch7x7_2.conv', 'Mixed_6b.branch7x7_2.bn', 'Mixed_6b.branch7x7_2.relu', 'Mixed_6b.branch7x7_3.conv', 'Mixed_6b.branch7x7_3.bn', 'Mixed_6b.branch7x7_3.relu', 'Mixed_6b.branch7x7dbl_1.conv', 'Mixed_6b.branch7x7dbl_1.bn', 'Mixed_6b.branch7x7dbl_1.relu', 'Mixed_6b.branch7x7dbl_2.conv', 'Mixed_6b.branch7x7dbl_2.bn', 'Mixed_6b.branch7x7dbl_2.relu', 'Mixed_6b.branch7x7dbl_3.conv', 'Mixed_6b.branch7x7dbl_3.bn', 'Mixed_6b.branch7x7dbl_3.relu', 'Mixed_6b.branch7x7dbl_4.conv', 'Mixed_6b.branch7x7dbl_4.bn', 'Mixed_6b.branch7x7dbl_4.relu', 'Mixed_6b.branch7x7dbl_5.conv', 'Mixed_6b.branch7x7dbl_5.bn', 'Mixed_6b.branch7x7dbl_5.relu', 'Mixed_6b.avg_pool2d', 'Mixed_6b.branch_pool.conv', 'Mixed_6b.branch_pool.bn', 'Mixed_6b.branch_pool.relu', 'Mixed_6b.cat', 'Mixed_6c.branch1x1.conv', 'Mixed_6c.branch1x1.bn', 'Mixed_6c.branch1x1.relu', 'Mixed_6c.branch7x7_1.conv', 'Mixed_6c.branch7x7_1.bn', 'Mixed_6c.branch7x7_1.relu', 'Mixed_6c.branch7x7_2.conv', 'Mixed_6c.branch7x7_2.bn', 'Mixed_6c.branch7x7_2.relu', 'Mixed_6c.branch7x7_3.conv', 'Mixed_6c.branch7x7_3.bn', 'Mixed_6c.branch7x7_3.relu', 'Mixed_6c.branch7x7dbl_1.conv', 'Mixed_6c.branch7x7dbl_1.bn', 'Mixed_6c.branch7x7dbl_1.relu', 'Mixed_6c.branch7x7dbl_2.conv', 'Mixed_6c.branch7x7dbl_2.bn', 'Mixed_6c.branch7x7dbl_2.relu', 'Mixed_6c.branch7x7dbl_3.conv', 'Mixed_6c.branch7x7dbl_3.bn', 'Mixed_6c.branch7x7dbl_3.relu', 'Mixed_6c.branch7x7dbl_4.conv', 'Mixed_6c.branch7x7dbl_4.bn', 'Mixed_6c.branch7x7dbl_4.relu', 'Mixed_6c.branch7x7dbl_5.conv', 'Mixed_6c.branch7x7dbl_5.bn', 'Mixed_6c.branch7x7dbl_5.relu', 'Mixed_6c.avg_pool2d', 'Mixed_6c.branch_pool.conv', 'Mixed_6c.branch_pool.bn', 'Mixed_6c.branch_pool.relu', 'Mixed_6c.cat', 'Mixed_6d.branch1x1.conv', 'Mixed_6d.branch1x1.bn', 'Mixed_6d.branch1x1.relu', 'Mixed_6d.branch7x7_1.conv', 'Mixed_6d.branch7x7_1.bn', 'Mixed_6d.branch7x7_1.relu', 'Mixed_6d.branch7x7_2.conv', 'Mixed_6d.branch7x7_2.bn', 'Mixed_6d.branch7x7_2.relu', 'Mixed_6d.branch7x7_3.conv', 'Mixed_6d.branch7x7_3.bn', 'Mixed_6d.branch7x7_3.relu', 'Mixed_6d.branch7x7dbl_1.conv', 'Mixed_6d.branch7x7dbl_1.bn', 'Mixed_6d.branch7x7dbl_1.relu', 'Mixed_6d.branch7x7dbl_2.conv', 'Mixed_6d.branch7x7dbl_2.bn', 'Mixed_6d.branch7x7dbl_2.relu', 'Mixed_6d.branch7x7dbl_3.conv', 'Mixed_6d.branch7x7dbl_3.bn', 'Mixed_6d.branch7x7dbl_3.relu', 'Mixed_6d.branch7x7dbl_4.conv', 'Mixed_6d.branch7x7dbl_4.bn', 'Mixed_6d.branch7x7dbl_4.relu', 'Mixed_6d.branch7x7dbl_5.conv', 'Mixed_6d.branch7x7dbl_5.bn', 'Mixed_6d.branch7x7dbl_5.relu', 'Mixed_6d.avg_pool2d', 'Mixed_6d.branch_pool.conv', 'Mixed_6d.branch_pool.bn', 'Mixed_6d.branch_pool.relu', 'Mixed_6d.cat', 'Mixed_6e.branch1x1.conv', 'Mixed_6e.branch1x1.bn', 'Mixed_6e.branch1x1.relu', 'Mixed_6e.branch7x7_1.conv', 'Mixed_6e.branch7x7_1.bn', 'Mixed_6e.branch7x7_1.relu', 'Mixed_6e.branch7x7_2.conv', 'Mixed_6e.branch7x7_2.bn', 'Mixed_6e.branch7x7_2.relu', 'Mixed_6e.branch7x7_3.conv', 'Mixed_6e.branch7x7_3.bn', 'Mixed_6e.branch7x7_3.relu', 'Mixed_6e.branch7x7dbl_1.conv', 'Mixed_6e.branch7x7dbl_1.bn', 'Mixed_6e.branch7x7dbl_1.relu', 'Mixed_6e.branch7x7dbl_2.conv', 'Mixed_6e.branch7x7dbl_2.bn', 'Mixed_6e.branch7x7dbl_2.relu', 'Mixed_6e.branch7x7dbl_3.conv', 'Mixed_6e.branch7x7dbl_3.bn', 'Mixed_6e.branch7x7dbl_3.relu', 'Mixed_6e.branch7x7dbl_4.conv', 'Mixed_6e.branch7x7dbl_4.bn', 'Mixed_6e.branch7x7dbl_4.relu', 'Mixed_6e.branch7x7dbl_5.conv', 'Mixed_6e.branch7x7dbl_5.bn', 'Mixed_6e.branch7x7dbl_5.relu', 'Mixed_6e.avg_pool2d', 'Mixed_6e.branch_pool.conv', 'Mixed_6e.branch_pool.bn', 'Mixed_6e.branch_pool.relu', 'Mixed_6e.cat', 'AuxLogits.avg_pool2d', 'AuxLogits.conv0.conv', 'AuxLogits.conv0.bn', 'AuxLogits.conv0.relu', 'AuxLogits.conv1.conv', 'AuxLogits.conv1.bn', 'AuxLogits.conv1.relu', 'AuxLogits.adaptive_avg_pool2d', 'AuxLogits.flatten', 'AuxLogits.fc', 'Mixed_7a.branch3x3_1.conv', 'Mixed_7a.branch3x3_1.bn', 'Mixed_7a.branch3x3_1.relu', 'Mixed_7a.branch3x3_2.conv', 'Mixed_7a.branch3x3_2.bn', 'Mixed_7a.branch3x3_2.relu', 'Mixed_7a.branch7x7x3_1.conv', 'Mixed_7a.branch7x7x3_1.bn', 'Mixed_7a.branch7x7x3_1.relu', 'Mixed_7a.branch7x7x3_2.conv', 'Mixed_7a.branch7x7x3_2.bn', 'Mixed_7a.branch7x7x3_2.relu', 'Mixed_7a.branch7x7x3_3.conv', 'Mixed_7a.branch7x7x3_3.bn', 'Mixed_7a.branch7x7x3_3.relu', 'Mixed_7a.branch7x7x3_4.conv', 'Mixed_7a.branch7x7x3_4.bn', 'Mixed_7a.branch7x7x3_4.relu', 'Mixed_7a.max_pool2d', 'Mixed_7a.cat', 'Mixed_7b.branch1x1.conv', 'Mixed_7b.branch1x1.bn', 'Mixed_7b.branch1x1.relu', 'Mixed_7b.branch3x3_1.conv', 'Mixed_7b.branch3x3_1.bn', 'Mixed_7b.branch3x3_1.relu', 'Mixed_7b.branch3x3_2a.conv', 'Mixed_7b.branch3x3_2a.bn', 'Mixed_7b.branch3x3_2a.relu', 'Mixed_7b.branch3x3_2b.conv', 'Mixed_7b.branch3x3_2b.bn', 'Mixed_7b.branch3x3_2b.relu', 'Mixed_7b.cat', 'Mixed_7b.branch3x3dbl_1.conv', 'Mixed_7b.branch3x3dbl_1.bn', 'Mixed_7b.branch3x3dbl_1.relu', 'Mixed_7b.branch3x3dbl_2.conv', 'Mixed_7b.branch3x3dbl_2.bn', 'Mixed_7b.branch3x3dbl_2.relu', 'Mixed_7b.branch3x3dbl_3a.conv', 'Mixed_7b.branch3x3dbl_3a.bn', 'Mixed_7b.branch3x3dbl_3a.relu', 'Mixed_7b.branch3x3dbl_3b.conv', 'Mixed_7b.branch3x3dbl_3b.bn', 'Mixed_7b.branch3x3dbl_3b.relu', 'Mixed_7b.cat_1', 'Mixed_7b.avg_pool2d', 'Mixed_7b.branch_pool.conv', 'Mixed_7b.branch_pool.bn', 'Mixed_7b.branch_pool.relu', 'Mixed_7b.cat_2', 'Mixed_7c.branch1x1.conv', 'Mixed_7c.branch1x1.bn', 'Mixed_7c.branch1x1.relu', 'Mixed_7c.branch3x3_1.conv', 'Mixed_7c.branch3x3_1.bn', 'Mixed_7c.branch3x3_1.relu', 'Mixed_7c.branch3x3_2a.conv', 'Mixed_7c.branch3x3_2a.bn', 'Mixed_7c.branch3x3_2a.relu', 'Mixed_7c.branch3x3_2b.conv', 'Mixed_7c.branch3x3_2b.bn', 'Mixed_7c.branch3x3_2b.relu', 'Mixed_7c.cat', 'Mixed_7c.branch3x3dbl_1.conv', 'Mixed_7c.branch3x3dbl_1.bn', 'Mixed_7c.branch3x3dbl_1.relu', 'Mixed_7c.branch3x3dbl_2.conv', 'Mixed_7c.branch3x3dbl_2.bn', 'Mixed_7c.branch3x3dbl_2.relu', 'Mixed_7c.branch3x3dbl_3a.conv', 'Mixed_7c.branch3x3dbl_3a.bn', 'Mixed_7c.branch3x3dbl_3a.relu', 'Mixed_7c.branch3x3dbl_3b.conv', 'Mixed_7c.branch3x3dbl_3b.bn', 'Mixed_7c.branch3x3dbl_3b.relu', 'Mixed_7c.cat_1', 'Mixed_7c.avg_pool2d', 'Mixed_7c.branch_pool.conv', 'Mixed_7c.branch_pool.bn', 'Mixed_7c.branch_pool.relu', 'Mixed_7c.cat_2', 'avgpool', 'dropout', 'flatten', 'fc']\n"
     ]
    },
    {
     "name": "stderr",
     "output_type": "stream",
     "text": [
      "/Users/ramahuja/anaconda3/envs/feature/lib/python3.8/site-packages/torchvision/models/feature_extraction.py:174: UserWarning: NOTE: The nodes obtained by tracing the model in eval mode are a subsequence of those obtained in train mode. When choosing nodes for feature extraction, you may need to specify output nodes for train and eval mode separately.\n",
      "  warnings.warn(msg + suggestion_msg)\n"
     ]
    }
   ],
   "source": [
    "layer_inception= model_inception.eval()\n",
    "nodes_inception, _ = get_graph_node_names(layer_inception)\n",
    "print (nodes_inception)"
   ]
  },
  {
   "cell_type": "code",
   "execution_count": 13,
   "metadata": {},
   "outputs": [
    {
     "name": "stdout",
     "output_type": "stream",
     "text": [
      "['x', 'features.conv0', 'features.norm0', 'features.relu0', 'features.pool0', 'features.denseblock1.denselayer1.cat', 'features.denseblock1.denselayer1.norm1', 'features.denseblock1.denselayer1.relu1', 'features.denseblock1.denselayer1.conv1', 'features.denseblock1.denselayer1.norm2', 'features.denseblock1.denselayer1.relu2', 'features.denseblock1.denselayer1.conv2', 'features.denseblock1.denselayer2.cat', 'features.denseblock1.denselayer2.norm1', 'features.denseblock1.denselayer2.relu1', 'features.denseblock1.denselayer2.conv1', 'features.denseblock1.denselayer2.norm2', 'features.denseblock1.denselayer2.relu2', 'features.denseblock1.denselayer2.conv2', 'features.denseblock1.denselayer3.cat', 'features.denseblock1.denselayer3.norm1', 'features.denseblock1.denselayer3.relu1', 'features.denseblock1.denselayer3.conv1', 'features.denseblock1.denselayer3.norm2', 'features.denseblock1.denselayer3.relu2', 'features.denseblock1.denselayer3.conv2', 'features.denseblock1.denselayer4.cat', 'features.denseblock1.denselayer4.norm1', 'features.denseblock1.denselayer4.relu1', 'features.denseblock1.denselayer4.conv1', 'features.denseblock1.denselayer4.norm2', 'features.denseblock1.denselayer4.relu2', 'features.denseblock1.denselayer4.conv2', 'features.denseblock1.denselayer5.cat', 'features.denseblock1.denselayer5.norm1', 'features.denseblock1.denselayer5.relu1', 'features.denseblock1.denselayer5.conv1', 'features.denseblock1.denselayer5.norm2', 'features.denseblock1.denselayer5.relu2', 'features.denseblock1.denselayer5.conv2', 'features.denseblock1.denselayer6.cat', 'features.denseblock1.denselayer6.norm1', 'features.denseblock1.denselayer6.relu1', 'features.denseblock1.denselayer6.conv1', 'features.denseblock1.denselayer6.norm2', 'features.denseblock1.denselayer6.relu2', 'features.denseblock1.denselayer6.conv2', 'features.denseblock1.cat', 'features.transition1.norm', 'features.transition1.relu', 'features.transition1.conv', 'features.transition1.pool', 'features.denseblock2.denselayer1.cat', 'features.denseblock2.denselayer1.norm1', 'features.denseblock2.denselayer1.relu1', 'features.denseblock2.denselayer1.conv1', 'features.denseblock2.denselayer1.norm2', 'features.denseblock2.denselayer1.relu2', 'features.denseblock2.denselayer1.conv2', 'features.denseblock2.denselayer2.cat', 'features.denseblock2.denselayer2.norm1', 'features.denseblock2.denselayer2.relu1', 'features.denseblock2.denselayer2.conv1', 'features.denseblock2.denselayer2.norm2', 'features.denseblock2.denselayer2.relu2', 'features.denseblock2.denselayer2.conv2', 'features.denseblock2.denselayer3.cat', 'features.denseblock2.denselayer3.norm1', 'features.denseblock2.denselayer3.relu1', 'features.denseblock2.denselayer3.conv1', 'features.denseblock2.denselayer3.norm2', 'features.denseblock2.denselayer3.relu2', 'features.denseblock2.denselayer3.conv2', 'features.denseblock2.denselayer4.cat', 'features.denseblock2.denselayer4.norm1', 'features.denseblock2.denselayer4.relu1', 'features.denseblock2.denselayer4.conv1', 'features.denseblock2.denselayer4.norm2', 'features.denseblock2.denselayer4.relu2', 'features.denseblock2.denselayer4.conv2', 'features.denseblock2.denselayer5.cat', 'features.denseblock2.denselayer5.norm1', 'features.denseblock2.denselayer5.relu1', 'features.denseblock2.denselayer5.conv1', 'features.denseblock2.denselayer5.norm2', 'features.denseblock2.denselayer5.relu2', 'features.denseblock2.denselayer5.conv2', 'features.denseblock2.denselayer6.cat', 'features.denseblock2.denselayer6.norm1', 'features.denseblock2.denselayer6.relu1', 'features.denseblock2.denselayer6.conv1', 'features.denseblock2.denselayer6.norm2', 'features.denseblock2.denselayer6.relu2', 'features.denseblock2.denselayer6.conv2', 'features.denseblock2.denselayer7.cat', 'features.denseblock2.denselayer7.norm1', 'features.denseblock2.denselayer7.relu1', 'features.denseblock2.denselayer7.conv1', 'features.denseblock2.denselayer7.norm2', 'features.denseblock2.denselayer7.relu2', 'features.denseblock2.denselayer7.conv2', 'features.denseblock2.denselayer8.cat', 'features.denseblock2.denselayer8.norm1', 'features.denseblock2.denselayer8.relu1', 'features.denseblock2.denselayer8.conv1', 'features.denseblock2.denselayer8.norm2', 'features.denseblock2.denselayer8.relu2', 'features.denseblock2.denselayer8.conv2', 'features.denseblock2.denselayer9.cat', 'features.denseblock2.denselayer9.norm1', 'features.denseblock2.denselayer9.relu1', 'features.denseblock2.denselayer9.conv1', 'features.denseblock2.denselayer9.norm2', 'features.denseblock2.denselayer9.relu2', 'features.denseblock2.denselayer9.conv2', 'features.denseblock2.denselayer10.cat', 'features.denseblock2.denselayer10.norm1', 'features.denseblock2.denselayer10.relu1', 'features.denseblock2.denselayer10.conv1', 'features.denseblock2.denselayer10.norm2', 'features.denseblock2.denselayer10.relu2', 'features.denseblock2.denselayer10.conv2', 'features.denseblock2.denselayer11.cat', 'features.denseblock2.denselayer11.norm1', 'features.denseblock2.denselayer11.relu1', 'features.denseblock2.denselayer11.conv1', 'features.denseblock2.denselayer11.norm2', 'features.denseblock2.denselayer11.relu2', 'features.denseblock2.denselayer11.conv2', 'features.denseblock2.denselayer12.cat', 'features.denseblock2.denselayer12.norm1', 'features.denseblock2.denselayer12.relu1', 'features.denseblock2.denselayer12.conv1', 'features.denseblock2.denselayer12.norm2', 'features.denseblock2.denselayer12.relu2', 'features.denseblock2.denselayer12.conv2', 'features.denseblock2.cat', 'features.transition2.norm', 'features.transition2.relu', 'features.transition2.conv', 'features.transition2.pool', 'features.denseblock3.denselayer1.cat', 'features.denseblock3.denselayer1.norm1', 'features.denseblock3.denselayer1.relu1', 'features.denseblock3.denselayer1.conv1', 'features.denseblock3.denselayer1.norm2', 'features.denseblock3.denselayer1.relu2', 'features.denseblock3.denselayer1.conv2', 'features.denseblock3.denselayer2.cat', 'features.denseblock3.denselayer2.norm1', 'features.denseblock3.denselayer2.relu1', 'features.denseblock3.denselayer2.conv1', 'features.denseblock3.denselayer2.norm2', 'features.denseblock3.denselayer2.relu2', 'features.denseblock3.denselayer2.conv2', 'features.denseblock3.denselayer3.cat', 'features.denseblock3.denselayer3.norm1', 'features.denseblock3.denselayer3.relu1', 'features.denseblock3.denselayer3.conv1', 'features.denseblock3.denselayer3.norm2', 'features.denseblock3.denselayer3.relu2', 'features.denseblock3.denselayer3.conv2', 'features.denseblock3.denselayer4.cat', 'features.denseblock3.denselayer4.norm1', 'features.denseblock3.denselayer4.relu1', 'features.denseblock3.denselayer4.conv1', 'features.denseblock3.denselayer4.norm2', 'features.denseblock3.denselayer4.relu2', 'features.denseblock3.denselayer4.conv2', 'features.denseblock3.denselayer5.cat', 'features.denseblock3.denselayer5.norm1', 'features.denseblock3.denselayer5.relu1', 'features.denseblock3.denselayer5.conv1', 'features.denseblock3.denselayer5.norm2', 'features.denseblock3.denselayer5.relu2', 'features.denseblock3.denselayer5.conv2', 'features.denseblock3.denselayer6.cat', 'features.denseblock3.denselayer6.norm1', 'features.denseblock3.denselayer6.relu1', 'features.denseblock3.denselayer6.conv1', 'features.denseblock3.denselayer6.norm2', 'features.denseblock3.denselayer6.relu2', 'features.denseblock3.denselayer6.conv2', 'features.denseblock3.denselayer7.cat', 'features.denseblock3.denselayer7.norm1', 'features.denseblock3.denselayer7.relu1', 'features.denseblock3.denselayer7.conv1', 'features.denseblock3.denselayer7.norm2', 'features.denseblock3.denselayer7.relu2', 'features.denseblock3.denselayer7.conv2', 'features.denseblock3.denselayer8.cat', 'features.denseblock3.denselayer8.norm1', 'features.denseblock3.denselayer8.relu1', 'features.denseblock3.denselayer8.conv1', 'features.denseblock3.denselayer8.norm2', 'features.denseblock3.denselayer8.relu2', 'features.denseblock3.denselayer8.conv2', 'features.denseblock3.denselayer9.cat', 'features.denseblock3.denselayer9.norm1', 'features.denseblock3.denselayer9.relu1', 'features.denseblock3.denselayer9.conv1', 'features.denseblock3.denselayer9.norm2', 'features.denseblock3.denselayer9.relu2', 'features.denseblock3.denselayer9.conv2', 'features.denseblock3.denselayer10.cat', 'features.denseblock3.denselayer10.norm1', 'features.denseblock3.denselayer10.relu1', 'features.denseblock3.denselayer10.conv1', 'features.denseblock3.denselayer10.norm2', 'features.denseblock3.denselayer10.relu2', 'features.denseblock3.denselayer10.conv2', 'features.denseblock3.denselayer11.cat', 'features.denseblock3.denselayer11.norm1', 'features.denseblock3.denselayer11.relu1', 'features.denseblock3.denselayer11.conv1', 'features.denseblock3.denselayer11.norm2', 'features.denseblock3.denselayer11.relu2', 'features.denseblock3.denselayer11.conv2', 'features.denseblock3.denselayer12.cat', 'features.denseblock3.denselayer12.norm1', 'features.denseblock3.denselayer12.relu1', 'features.denseblock3.denselayer12.conv1', 'features.denseblock3.denselayer12.norm2', 'features.denseblock3.denselayer12.relu2', 'features.denseblock3.denselayer12.conv2', 'features.denseblock3.denselayer13.cat', 'features.denseblock3.denselayer13.norm1', 'features.denseblock3.denselayer13.relu1', 'features.denseblock3.denselayer13.conv1', 'features.denseblock3.denselayer13.norm2', 'features.denseblock3.denselayer13.relu2', 'features.denseblock3.denselayer13.conv2', 'features.denseblock3.denselayer14.cat', 'features.denseblock3.denselayer14.norm1', 'features.denseblock3.denselayer14.relu1', 'features.denseblock3.denselayer14.conv1', 'features.denseblock3.denselayer14.norm2', 'features.denseblock3.denselayer14.relu2', 'features.denseblock3.denselayer14.conv2', 'features.denseblock3.denselayer15.cat', 'features.denseblock3.denselayer15.norm1', 'features.denseblock3.denselayer15.relu1', 'features.denseblock3.denselayer15.conv1', 'features.denseblock3.denselayer15.norm2', 'features.denseblock3.denselayer15.relu2', 'features.denseblock3.denselayer15.conv2', 'features.denseblock3.denselayer16.cat', 'features.denseblock3.denselayer16.norm1', 'features.denseblock3.denselayer16.relu1', 'features.denseblock3.denselayer16.conv1', 'features.denseblock3.denselayer16.norm2', 'features.denseblock3.denselayer16.relu2', 'features.denseblock3.denselayer16.conv2', 'features.denseblock3.denselayer17.cat', 'features.denseblock3.denselayer17.norm1', 'features.denseblock3.denselayer17.relu1', 'features.denseblock3.denselayer17.conv1', 'features.denseblock3.denselayer17.norm2', 'features.denseblock3.denselayer17.relu2', 'features.denseblock3.denselayer17.conv2', 'features.denseblock3.denselayer18.cat', 'features.denseblock3.denselayer18.norm1', 'features.denseblock3.denselayer18.relu1', 'features.denseblock3.denselayer18.conv1', 'features.denseblock3.denselayer18.norm2', 'features.denseblock3.denselayer18.relu2', 'features.denseblock3.denselayer18.conv2', 'features.denseblock3.denselayer19.cat', 'features.denseblock3.denselayer19.norm1', 'features.denseblock3.denselayer19.relu1', 'features.denseblock3.denselayer19.conv1', 'features.denseblock3.denselayer19.norm2', 'features.denseblock3.denselayer19.relu2', 'features.denseblock3.denselayer19.conv2', 'features.denseblock3.denselayer20.cat', 'features.denseblock3.denselayer20.norm1', 'features.denseblock3.denselayer20.relu1', 'features.denseblock3.denselayer20.conv1', 'features.denseblock3.denselayer20.norm2', 'features.denseblock3.denselayer20.relu2', 'features.denseblock3.denselayer20.conv2', 'features.denseblock3.denselayer21.cat', 'features.denseblock3.denselayer21.norm1', 'features.denseblock3.denselayer21.relu1', 'features.denseblock3.denselayer21.conv1', 'features.denseblock3.denselayer21.norm2', 'features.denseblock3.denselayer21.relu2', 'features.denseblock3.denselayer21.conv2', 'features.denseblock3.denselayer22.cat', 'features.denseblock3.denselayer22.norm1', 'features.denseblock3.denselayer22.relu1', 'features.denseblock3.denselayer22.conv1', 'features.denseblock3.denselayer22.norm2', 'features.denseblock3.denselayer22.relu2', 'features.denseblock3.denselayer22.conv2', 'features.denseblock3.denselayer23.cat', 'features.denseblock3.denselayer23.norm1', 'features.denseblock3.denselayer23.relu1', 'features.denseblock3.denselayer23.conv1', 'features.denseblock3.denselayer23.norm2', 'features.denseblock3.denselayer23.relu2', 'features.denseblock3.denselayer23.conv2', 'features.denseblock3.denselayer24.cat', 'features.denseblock3.denselayer24.norm1', 'features.denseblock3.denselayer24.relu1', 'features.denseblock3.denselayer24.conv1', 'features.denseblock3.denselayer24.norm2', 'features.denseblock3.denselayer24.relu2', 'features.denseblock3.denselayer24.conv2', 'features.denseblock3.cat', 'features.transition3.norm', 'features.transition3.relu', 'features.transition3.conv', 'features.transition3.pool', 'features.denseblock4.denselayer1.cat', 'features.denseblock4.denselayer1.norm1', 'features.denseblock4.denselayer1.relu1', 'features.denseblock4.denselayer1.conv1', 'features.denseblock4.denselayer1.norm2', 'features.denseblock4.denselayer1.relu2', 'features.denseblock4.denselayer1.conv2', 'features.denseblock4.denselayer2.cat', 'features.denseblock4.denselayer2.norm1', 'features.denseblock4.denselayer2.relu1', 'features.denseblock4.denselayer2.conv1', 'features.denseblock4.denselayer2.norm2', 'features.denseblock4.denselayer2.relu2', 'features.denseblock4.denselayer2.conv2', 'features.denseblock4.denselayer3.cat', 'features.denseblock4.denselayer3.norm1', 'features.denseblock4.denselayer3.relu1', 'features.denseblock4.denselayer3.conv1', 'features.denseblock4.denselayer3.norm2', 'features.denseblock4.denselayer3.relu2', 'features.denseblock4.denselayer3.conv2', 'features.denseblock4.denselayer4.cat', 'features.denseblock4.denselayer4.norm1', 'features.denseblock4.denselayer4.relu1', 'features.denseblock4.denselayer4.conv1', 'features.denseblock4.denselayer4.norm2', 'features.denseblock4.denselayer4.relu2', 'features.denseblock4.denselayer4.conv2', 'features.denseblock4.denselayer5.cat', 'features.denseblock4.denselayer5.norm1', 'features.denseblock4.denselayer5.relu1', 'features.denseblock4.denselayer5.conv1', 'features.denseblock4.denselayer5.norm2', 'features.denseblock4.denselayer5.relu2', 'features.denseblock4.denselayer5.conv2', 'features.denseblock4.denselayer6.cat', 'features.denseblock4.denselayer6.norm1', 'features.denseblock4.denselayer6.relu1', 'features.denseblock4.denselayer6.conv1', 'features.denseblock4.denselayer6.norm2', 'features.denseblock4.denselayer6.relu2', 'features.denseblock4.denselayer6.conv2', 'features.denseblock4.denselayer7.cat', 'features.denseblock4.denselayer7.norm1', 'features.denseblock4.denselayer7.relu1', 'features.denseblock4.denselayer7.conv1', 'features.denseblock4.denselayer7.norm2', 'features.denseblock4.denselayer7.relu2', 'features.denseblock4.denselayer7.conv2', 'features.denseblock4.denselayer8.cat', 'features.denseblock4.denselayer8.norm1', 'features.denseblock4.denselayer8.relu1', 'features.denseblock4.denselayer8.conv1', 'features.denseblock4.denselayer8.norm2', 'features.denseblock4.denselayer8.relu2', 'features.denseblock4.denselayer8.conv2', 'features.denseblock4.denselayer9.cat', 'features.denseblock4.denselayer9.norm1', 'features.denseblock4.denselayer9.relu1', 'features.denseblock4.denselayer9.conv1', 'features.denseblock4.denselayer9.norm2', 'features.denseblock4.denselayer9.relu2', 'features.denseblock4.denselayer9.conv2', 'features.denseblock4.denselayer10.cat', 'features.denseblock4.denselayer10.norm1', 'features.denseblock4.denselayer10.relu1', 'features.denseblock4.denselayer10.conv1', 'features.denseblock4.denselayer10.norm2', 'features.denseblock4.denselayer10.relu2', 'features.denseblock4.denselayer10.conv2', 'features.denseblock4.denselayer11.cat', 'features.denseblock4.denselayer11.norm1', 'features.denseblock4.denselayer11.relu1', 'features.denseblock4.denselayer11.conv1', 'features.denseblock4.denselayer11.norm2', 'features.denseblock4.denselayer11.relu2', 'features.denseblock4.denselayer11.conv2', 'features.denseblock4.denselayer12.cat', 'features.denseblock4.denselayer12.norm1', 'features.denseblock4.denselayer12.relu1', 'features.denseblock4.denselayer12.conv1', 'features.denseblock4.denselayer12.norm2', 'features.denseblock4.denselayer12.relu2', 'features.denseblock4.denselayer12.conv2', 'features.denseblock4.denselayer13.cat', 'features.denseblock4.denselayer13.norm1', 'features.denseblock4.denselayer13.relu1', 'features.denseblock4.denselayer13.conv1', 'features.denseblock4.denselayer13.norm2', 'features.denseblock4.denselayer13.relu2', 'features.denseblock4.denselayer13.conv2', 'features.denseblock4.denselayer14.cat', 'features.denseblock4.denselayer14.norm1', 'features.denseblock4.denselayer14.relu1', 'features.denseblock4.denselayer14.conv1', 'features.denseblock4.denselayer14.norm2', 'features.denseblock4.denselayer14.relu2', 'features.denseblock4.denselayer14.conv2', 'features.denseblock4.denselayer15.cat', 'features.denseblock4.denselayer15.norm1', 'features.denseblock4.denselayer15.relu1', 'features.denseblock4.denselayer15.conv1', 'features.denseblock4.denselayer15.norm2', 'features.denseblock4.denselayer15.relu2', 'features.denseblock4.denselayer15.conv2', 'features.denseblock4.denselayer16.cat', 'features.denseblock4.denselayer16.norm1', 'features.denseblock4.denselayer16.relu1', 'features.denseblock4.denselayer16.conv1', 'features.denseblock4.denselayer16.norm2', 'features.denseblock4.denselayer16.relu2', 'features.denseblock4.denselayer16.conv2', 'features.denseblock4.cat', 'features.norm5', 'relu', 'adaptive_avg_pool2d', 'flatten', 'classifier']\n"
     ]
    }
   ],
   "source": [
    "layer_densenet= model_densenet.eval()\n",
    "nodes_densenet, _ = get_graph_node_names(layer_densenet)\n",
    "print (nodes_densenet)"
   ]
  },
  {
   "cell_type": "code",
   "execution_count": 14,
   "metadata": {},
   "outputs": [
    {
     "name": "stdout",
     "output_type": "stream",
     "text": [
      "['x', 'features.0', 'features.1.conv.0', 'features.1.conv.1', 'features.1.conv.2', 'features.2.conv.0', 'features.2.conv.1', 'features.2.conv.2', 'features.2.conv.3', 'features.3.conv.0', 'features.3.conv.1', 'features.3.conv.2', 'features.3.conv.3', 'features.3.add', 'features.4.conv.0', 'features.4.conv.1', 'features.4.conv.2', 'features.4.conv.3', 'features.5.conv.0', 'features.5.conv.1', 'features.5.conv.2', 'features.5.conv.3', 'features.5.add', 'features.6.conv.0', 'features.6.conv.1', 'features.6.conv.2', 'features.6.conv.3', 'features.6.add', 'features.7.conv.0', 'features.7.conv.1', 'features.7.conv.2', 'features.7.conv.3', 'features.8.conv.0', 'features.8.conv.1', 'features.8.conv.2', 'features.8.conv.3', 'features.8.add', 'features.9.conv.0', 'features.9.conv.1', 'features.9.conv.2', 'features.9.conv.3', 'features.9.add', 'features.10.conv.0', 'features.10.conv.1', 'features.10.conv.2', 'features.10.conv.3', 'features.10.add', 'features.11.conv.0', 'features.11.conv.1', 'features.11.conv.2', 'features.11.conv.3', 'features.12.conv.0', 'features.12.conv.1', 'features.12.conv.2', 'features.12.conv.3', 'features.12.add', 'features.13.conv.0', 'features.13.conv.1', 'features.13.conv.2', 'features.13.conv.3', 'features.13.add', 'features.14.conv.0', 'features.14.conv.1', 'features.14.conv.2', 'features.14.conv.3', 'features.15.conv.0', 'features.15.conv.1', 'features.15.conv.2', 'features.15.conv.3', 'features.15.add', 'features.16.conv.0', 'features.16.conv.1', 'features.16.conv.2', 'features.16.conv.3', 'features.16.add', 'features.17.conv.0', 'features.17.conv.1', 'features.17.conv.2', 'features.17.conv.3', 'features.18', 'adaptive_avg_pool2d', 'flatten', 'classifier.0', 'classifier.1']\n"
     ]
    }
   ],
   "source": [
    "layer_mobilenet_v2= model_mobilenet_v2.eval()\n",
    "nodes_mobilenet_v2, _ = get_graph_node_names(layer_mobilenet_v2)\n",
    "print (nodes_mobilenet_v2)"
   ]
  },
  {
   "cell_type": "code",
   "execution_count": 15,
   "metadata": {},
   "outputs": [
    {
     "name": "stdout",
     "output_type": "stream",
     "text": [
      "['x', 'features.0', 'features.1', 'features.2', 'features.3.squeeze', 'features.3.squeeze_activation', 'features.3.expand1x1', 'features.3.expand1x1_activation', 'features.3.expand3x3', 'features.3.expand3x3_activation', 'features.3.cat', 'features.4.squeeze', 'features.4.squeeze_activation', 'features.4.expand1x1', 'features.4.expand1x1_activation', 'features.4.expand3x3', 'features.4.expand3x3_activation', 'features.4.cat', 'features.5.squeeze', 'features.5.squeeze_activation', 'features.5.expand1x1', 'features.5.expand1x1_activation', 'features.5.expand3x3', 'features.5.expand3x3_activation', 'features.5.cat', 'features.6', 'features.7.squeeze', 'features.7.squeeze_activation', 'features.7.expand1x1', 'features.7.expand1x1_activation', 'features.7.expand3x3', 'features.7.expand3x3_activation', 'features.7.cat', 'features.8.squeeze', 'features.8.squeeze_activation', 'features.8.expand1x1', 'features.8.expand1x1_activation', 'features.8.expand3x3', 'features.8.expand3x3_activation', 'features.8.cat', 'features.9.squeeze', 'features.9.squeeze_activation', 'features.9.expand1x1', 'features.9.expand1x1_activation', 'features.9.expand3x3', 'features.9.expand3x3_activation', 'features.9.cat', 'features.10.squeeze', 'features.10.squeeze_activation', 'features.10.expand1x1', 'features.10.expand1x1_activation', 'features.10.expand3x3', 'features.10.expand3x3_activation', 'features.10.cat', 'features.11', 'features.12.squeeze', 'features.12.squeeze_activation', 'features.12.expand1x1', 'features.12.expand1x1_activation', 'features.12.expand3x3', 'features.12.expand3x3_activation', 'features.12.cat', 'classifier.0', 'classifier.1', 'classifier.2', 'classifier.3', 'flatten']\n"
     ]
    }
   ],
   "source": [
    "layer_squeezenet= model_squeezenet.eval()\n",
    "nodes_squeezenet, _ = get_graph_node_names(layer_squeezenet)\n",
    "print (nodes_squeezenet)"
   ]
  },
  {
   "cell_type": "code",
   "execution_count": 16,
   "metadata": {},
   "outputs": [
    {
     "name": "stdout",
     "output_type": "stream",
     "text": [
      "['x', 'conv1.0', 'conv1.1', 'conv1.2', 'maxpool', 'stage2.0.branch1.0', 'stage2.0.branch1.1', 'stage2.0.branch1.2', 'stage2.0.branch1.3', 'stage2.0.branch1.4', 'stage2.0.branch2.0', 'stage2.0.branch2.1', 'stage2.0.branch2.2', 'stage2.0.branch2.3', 'stage2.0.branch2.4', 'stage2.0.branch2.5', 'stage2.0.branch2.6', 'stage2.0.branch2.7', 'stage2.0.cat', 'stage2.0.size', 'stage2.0.getitem', 'stage2.0.getitem_1', 'stage2.0.getitem_2', 'stage2.0.getitem_3', 'stage2.0.floordiv', 'stage2.0.view', 'stage2.0.transpose', 'stage2.0.contiguous', 'stage2.0.view_1', 'stage2.1.chunk', 'stage2.1.getitem', 'stage2.1.getitem_1', 'stage2.1.branch2.0', 'stage2.1.branch2.1', 'stage2.1.branch2.2', 'stage2.1.branch2.3', 'stage2.1.branch2.4', 'stage2.1.branch2.5', 'stage2.1.branch2.6', 'stage2.1.branch2.7', 'stage2.1.cat', 'stage2.1.size', 'stage2.1.getitem_2', 'stage2.1.getitem_3', 'stage2.1.getitem_4', 'stage2.1.getitem_5', 'stage2.1.floordiv', 'stage2.1.view', 'stage2.1.transpose', 'stage2.1.contiguous', 'stage2.1.view_1', 'stage2.2.chunk', 'stage2.2.getitem', 'stage2.2.getitem_1', 'stage2.2.branch2.0', 'stage2.2.branch2.1', 'stage2.2.branch2.2', 'stage2.2.branch2.3', 'stage2.2.branch2.4', 'stage2.2.branch2.5', 'stage2.2.branch2.6', 'stage2.2.branch2.7', 'stage2.2.cat', 'stage2.2.size', 'stage2.2.getitem_2', 'stage2.2.getitem_3', 'stage2.2.getitem_4', 'stage2.2.getitem_5', 'stage2.2.floordiv', 'stage2.2.view', 'stage2.2.transpose', 'stage2.2.contiguous', 'stage2.2.view_1', 'stage2.3.chunk', 'stage2.3.getitem', 'stage2.3.getitem_1', 'stage2.3.branch2.0', 'stage2.3.branch2.1', 'stage2.3.branch2.2', 'stage2.3.branch2.3', 'stage2.3.branch2.4', 'stage2.3.branch2.5', 'stage2.3.branch2.6', 'stage2.3.branch2.7', 'stage2.3.cat', 'stage2.3.size', 'stage2.3.getitem_2', 'stage2.3.getitem_3', 'stage2.3.getitem_4', 'stage2.3.getitem_5', 'stage2.3.floordiv', 'stage2.3.view', 'stage2.3.transpose', 'stage2.3.contiguous', 'stage2.3.view_1', 'stage3.0.branch1.0', 'stage3.0.branch1.1', 'stage3.0.branch1.2', 'stage3.0.branch1.3', 'stage3.0.branch1.4', 'stage3.0.branch2.0', 'stage3.0.branch2.1', 'stage3.0.branch2.2', 'stage3.0.branch2.3', 'stage3.0.branch2.4', 'stage3.0.branch2.5', 'stage3.0.branch2.6', 'stage3.0.branch2.7', 'stage3.0.cat', 'stage3.0.size', 'stage3.0.getitem', 'stage3.0.getitem_1', 'stage3.0.getitem_2', 'stage3.0.getitem_3', 'stage3.0.floordiv', 'stage3.0.view', 'stage3.0.transpose', 'stage3.0.contiguous', 'stage3.0.view_1', 'stage3.1.chunk', 'stage3.1.getitem', 'stage3.1.getitem_1', 'stage3.1.branch2.0', 'stage3.1.branch2.1', 'stage3.1.branch2.2', 'stage3.1.branch2.3', 'stage3.1.branch2.4', 'stage3.1.branch2.5', 'stage3.1.branch2.6', 'stage3.1.branch2.7', 'stage3.1.cat', 'stage3.1.size', 'stage3.1.getitem_2', 'stage3.1.getitem_3', 'stage3.1.getitem_4', 'stage3.1.getitem_5', 'stage3.1.floordiv', 'stage3.1.view', 'stage3.1.transpose', 'stage3.1.contiguous', 'stage3.1.view_1', 'stage3.2.chunk', 'stage3.2.getitem', 'stage3.2.getitem_1', 'stage3.2.branch2.0', 'stage3.2.branch2.1', 'stage3.2.branch2.2', 'stage3.2.branch2.3', 'stage3.2.branch2.4', 'stage3.2.branch2.5', 'stage3.2.branch2.6', 'stage3.2.branch2.7', 'stage3.2.cat', 'stage3.2.size', 'stage3.2.getitem_2', 'stage3.2.getitem_3', 'stage3.2.getitem_4', 'stage3.2.getitem_5', 'stage3.2.floordiv', 'stage3.2.view', 'stage3.2.transpose', 'stage3.2.contiguous', 'stage3.2.view_1', 'stage3.3.chunk', 'stage3.3.getitem', 'stage3.3.getitem_1', 'stage3.3.branch2.0', 'stage3.3.branch2.1', 'stage3.3.branch2.2', 'stage3.3.branch2.3', 'stage3.3.branch2.4', 'stage3.3.branch2.5', 'stage3.3.branch2.6', 'stage3.3.branch2.7', 'stage3.3.cat', 'stage3.3.size', 'stage3.3.getitem_2', 'stage3.3.getitem_3', 'stage3.3.getitem_4', 'stage3.3.getitem_5', 'stage3.3.floordiv', 'stage3.3.view', 'stage3.3.transpose', 'stage3.3.contiguous', 'stage3.3.view_1', 'stage3.4.chunk', 'stage3.4.getitem', 'stage3.4.getitem_1', 'stage3.4.branch2.0', 'stage3.4.branch2.1', 'stage3.4.branch2.2', 'stage3.4.branch2.3', 'stage3.4.branch2.4', 'stage3.4.branch2.5', 'stage3.4.branch2.6', 'stage3.4.branch2.7', 'stage3.4.cat', 'stage3.4.size', 'stage3.4.getitem_2', 'stage3.4.getitem_3', 'stage3.4.getitem_4', 'stage3.4.getitem_5', 'stage3.4.floordiv', 'stage3.4.view', 'stage3.4.transpose', 'stage3.4.contiguous', 'stage3.4.view_1', 'stage3.5.chunk', 'stage3.5.getitem', 'stage3.5.getitem_1', 'stage3.5.branch2.0', 'stage3.5.branch2.1', 'stage3.5.branch2.2', 'stage3.5.branch2.3', 'stage3.5.branch2.4', 'stage3.5.branch2.5', 'stage3.5.branch2.6', 'stage3.5.branch2.7', 'stage3.5.cat', 'stage3.5.size', 'stage3.5.getitem_2', 'stage3.5.getitem_3', 'stage3.5.getitem_4', 'stage3.5.getitem_5', 'stage3.5.floordiv', 'stage3.5.view', 'stage3.5.transpose', 'stage3.5.contiguous', 'stage3.5.view_1', 'stage3.6.chunk', 'stage3.6.getitem', 'stage3.6.getitem_1', 'stage3.6.branch2.0', 'stage3.6.branch2.1', 'stage3.6.branch2.2', 'stage3.6.branch2.3', 'stage3.6.branch2.4', 'stage3.6.branch2.5', 'stage3.6.branch2.6', 'stage3.6.branch2.7', 'stage3.6.cat', 'stage3.6.size', 'stage3.6.getitem_2', 'stage3.6.getitem_3', 'stage3.6.getitem_4', 'stage3.6.getitem_5', 'stage3.6.floordiv', 'stage3.6.view', 'stage3.6.transpose', 'stage3.6.contiguous', 'stage3.6.view_1', 'stage3.7.chunk', 'stage3.7.getitem', 'stage3.7.getitem_1', 'stage3.7.branch2.0', 'stage3.7.branch2.1', 'stage3.7.branch2.2', 'stage3.7.branch2.3', 'stage3.7.branch2.4', 'stage3.7.branch2.5', 'stage3.7.branch2.6', 'stage3.7.branch2.7', 'stage3.7.cat', 'stage3.7.size', 'stage3.7.getitem_2', 'stage3.7.getitem_3', 'stage3.7.getitem_4', 'stage3.7.getitem_5', 'stage3.7.floordiv', 'stage3.7.view', 'stage3.7.transpose', 'stage3.7.contiguous', 'stage3.7.view_1', 'stage4.0.branch1.0', 'stage4.0.branch1.1', 'stage4.0.branch1.2', 'stage4.0.branch1.3', 'stage4.0.branch1.4', 'stage4.0.branch2.0', 'stage4.0.branch2.1', 'stage4.0.branch2.2', 'stage4.0.branch2.3', 'stage4.0.branch2.4', 'stage4.0.branch2.5', 'stage4.0.branch2.6', 'stage4.0.branch2.7', 'stage4.0.cat', 'stage4.0.size', 'stage4.0.getitem', 'stage4.0.getitem_1', 'stage4.0.getitem_2', 'stage4.0.getitem_3', 'stage4.0.floordiv', 'stage4.0.view', 'stage4.0.transpose', 'stage4.0.contiguous', 'stage4.0.view_1', 'stage4.1.chunk', 'stage4.1.getitem', 'stage4.1.getitem_1', 'stage4.1.branch2.0', 'stage4.1.branch2.1', 'stage4.1.branch2.2', 'stage4.1.branch2.3', 'stage4.1.branch2.4', 'stage4.1.branch2.5', 'stage4.1.branch2.6', 'stage4.1.branch2.7', 'stage4.1.cat', 'stage4.1.size', 'stage4.1.getitem_2', 'stage4.1.getitem_3', 'stage4.1.getitem_4', 'stage4.1.getitem_5', 'stage4.1.floordiv', 'stage4.1.view', 'stage4.1.transpose', 'stage4.1.contiguous', 'stage4.1.view_1', 'stage4.2.chunk', 'stage4.2.getitem', 'stage4.2.getitem_1', 'stage4.2.branch2.0', 'stage4.2.branch2.1', 'stage4.2.branch2.2', 'stage4.2.branch2.3', 'stage4.2.branch2.4', 'stage4.2.branch2.5', 'stage4.2.branch2.6', 'stage4.2.branch2.7', 'stage4.2.cat', 'stage4.2.size', 'stage4.2.getitem_2', 'stage4.2.getitem_3', 'stage4.2.getitem_4', 'stage4.2.getitem_5', 'stage4.2.floordiv', 'stage4.2.view', 'stage4.2.transpose', 'stage4.2.contiguous', 'stage4.2.view_1', 'stage4.3.chunk', 'stage4.3.getitem', 'stage4.3.getitem_1', 'stage4.3.branch2.0', 'stage4.3.branch2.1', 'stage4.3.branch2.2', 'stage4.3.branch2.3', 'stage4.3.branch2.4', 'stage4.3.branch2.5', 'stage4.3.branch2.6', 'stage4.3.branch2.7', 'stage4.3.cat', 'stage4.3.size', 'stage4.3.getitem_2', 'stage4.3.getitem_3', 'stage4.3.getitem_4', 'stage4.3.getitem_5', 'stage4.3.floordiv', 'stage4.3.view', 'stage4.3.transpose', 'stage4.3.contiguous', 'stage4.3.view_1', 'conv5.0', 'conv5.1', 'conv5.2', 'mean', 'fc']\n"
     ]
    }
   ],
   "source": [
    "layer_shufflenet_v2= model_shufflenet_v2.eval()\n",
    "nodes_shufflenet_v2, _ = get_graph_node_names(layer_shufflenet_v2)\n",
    "print (nodes_shufflenet_v2)"
   ]
  },
  {
   "cell_type": "code",
   "execution_count": 17,
   "metadata": {},
   "outputs": [
    {
     "name": "stdout",
     "output_type": "stream",
     "text": [
      "['x', 'layers.0', 'layers.1', 'layers.2', 'layers.3', 'layers.4', 'layers.5', 'layers.6', 'layers.7', 'layers.8.0.layers.0', 'layers.8.0.layers.1', 'layers.8.0.layers.2', 'layers.8.0.layers.3', 'layers.8.0.layers.4', 'layers.8.0.layers.5', 'layers.8.0.layers.6', 'layers.8.0.layers.7', 'layers.8.1.layers.0', 'layers.8.1.layers.1', 'layers.8.1.layers.2', 'layers.8.1.layers.3', 'layers.8.1.layers.4', 'layers.8.1.layers.5', 'layers.8.1.layers.6', 'layers.8.1.layers.7', 'layers.8.1.add', 'layers.8.2.layers.0', 'layers.8.2.layers.1', 'layers.8.2.layers.2', 'layers.8.2.layers.3', 'layers.8.2.layers.4', 'layers.8.2.layers.5', 'layers.8.2.layers.6', 'layers.8.2.layers.7', 'layers.8.2.add', 'layers.9.0.layers.0', 'layers.9.0.layers.1', 'layers.9.0.layers.2', 'layers.9.0.layers.3', 'layers.9.0.layers.4', 'layers.9.0.layers.5', 'layers.9.0.layers.6', 'layers.9.0.layers.7', 'layers.9.1.layers.0', 'layers.9.1.layers.1', 'layers.9.1.layers.2', 'layers.9.1.layers.3', 'layers.9.1.layers.4', 'layers.9.1.layers.5', 'layers.9.1.layers.6', 'layers.9.1.layers.7', 'layers.9.1.add', 'layers.9.2.layers.0', 'layers.9.2.layers.1', 'layers.9.2.layers.2', 'layers.9.2.layers.3', 'layers.9.2.layers.4', 'layers.9.2.layers.5', 'layers.9.2.layers.6', 'layers.9.2.layers.7', 'layers.9.2.add', 'layers.10.0.layers.0', 'layers.10.0.layers.1', 'layers.10.0.layers.2', 'layers.10.0.layers.3', 'layers.10.0.layers.4', 'layers.10.0.layers.5', 'layers.10.0.layers.6', 'layers.10.0.layers.7', 'layers.10.1.layers.0', 'layers.10.1.layers.1', 'layers.10.1.layers.2', 'layers.10.1.layers.3', 'layers.10.1.layers.4', 'layers.10.1.layers.5', 'layers.10.1.layers.6', 'layers.10.1.layers.7', 'layers.10.1.add', 'layers.10.2.layers.0', 'layers.10.2.layers.1', 'layers.10.2.layers.2', 'layers.10.2.layers.3', 'layers.10.2.layers.4', 'layers.10.2.layers.5', 'layers.10.2.layers.6', 'layers.10.2.layers.7', 'layers.10.2.add', 'layers.11.0.layers.0', 'layers.11.0.layers.1', 'layers.11.0.layers.2', 'layers.11.0.layers.3', 'layers.11.0.layers.4', 'layers.11.0.layers.5', 'layers.11.0.layers.6', 'layers.11.0.layers.7', 'layers.11.1.layers.0', 'layers.11.1.layers.1', 'layers.11.1.layers.2', 'layers.11.1.layers.3', 'layers.11.1.layers.4', 'layers.11.1.layers.5', 'layers.11.1.layers.6', 'layers.11.1.layers.7', 'layers.11.1.add', 'layers.12.0.layers.0', 'layers.12.0.layers.1', 'layers.12.0.layers.2', 'layers.12.0.layers.3', 'layers.12.0.layers.4', 'layers.12.0.layers.5', 'layers.12.0.layers.6', 'layers.12.0.layers.7', 'layers.12.1.layers.0', 'layers.12.1.layers.1', 'layers.12.1.layers.2', 'layers.12.1.layers.3', 'layers.12.1.layers.4', 'layers.12.1.layers.5', 'layers.12.1.layers.6', 'layers.12.1.layers.7', 'layers.12.1.add', 'layers.12.2.layers.0', 'layers.12.2.layers.1', 'layers.12.2.layers.2', 'layers.12.2.layers.3', 'layers.12.2.layers.4', 'layers.12.2.layers.5', 'layers.12.2.layers.6', 'layers.12.2.layers.7', 'layers.12.2.add', 'layers.12.3.layers.0', 'layers.12.3.layers.1', 'layers.12.3.layers.2', 'layers.12.3.layers.3', 'layers.12.3.layers.4', 'layers.12.3.layers.5', 'layers.12.3.layers.6', 'layers.12.3.layers.7', 'layers.12.3.add', 'layers.13.0.layers.0', 'layers.13.0.layers.1', 'layers.13.0.layers.2', 'layers.13.0.layers.3', 'layers.13.0.layers.4', 'layers.13.0.layers.5', 'layers.13.0.layers.6', 'layers.13.0.layers.7', 'layers.14', 'layers.15', 'layers.16', 'mean', 'classifier.0', 'classifier.1']\n"
     ]
    }
   ],
   "source": [
    "layer_mnasnet= model_mnasnet.eval()\n",
    "nodes_mnasnet, _ = get_graph_node_names(layer_mnasnet)\n",
    "print (nodes_mnasnet)"
   ]
  },
  {
   "cell_type": "code",
   "execution_count": 18,
   "metadata": {},
   "outputs": [
    {
     "name": "stdout",
     "output_type": "stream",
     "text": [
      "['x', 'conv1', 'bn1', 'relu', 'maxpool', 'layer1.0.conv1', 'layer1.0.bn1', 'layer1.0.relu', 'layer1.0.conv2', 'layer1.0.bn2', 'layer1.0.relu_1', 'layer1.0.conv3', 'layer1.0.bn3', 'layer1.0.downsample.0', 'layer1.0.downsample.1', 'layer1.0.add', 'layer1.0.relu_2', 'layer1.1.conv1', 'layer1.1.bn1', 'layer1.1.relu', 'layer1.1.conv2', 'layer1.1.bn2', 'layer1.1.relu_1', 'layer1.1.conv3', 'layer1.1.bn3', 'layer1.1.add', 'layer1.1.relu_2', 'layer1.2.conv1', 'layer1.2.bn1', 'layer1.2.relu', 'layer1.2.conv2', 'layer1.2.bn2', 'layer1.2.relu_1', 'layer1.2.conv3', 'layer1.2.bn3', 'layer1.2.add', 'layer1.2.relu_2', 'layer2.0.conv1', 'layer2.0.bn1', 'layer2.0.relu', 'layer2.0.conv2', 'layer2.0.bn2', 'layer2.0.relu_1', 'layer2.0.conv3', 'layer2.0.bn3', 'layer2.0.downsample.0', 'layer2.0.downsample.1', 'layer2.0.add', 'layer2.0.relu_2', 'layer2.1.conv1', 'layer2.1.bn1', 'layer2.1.relu', 'layer2.1.conv2', 'layer2.1.bn2', 'layer2.1.relu_1', 'layer2.1.conv3', 'layer2.1.bn3', 'layer2.1.add', 'layer2.1.relu_2', 'layer2.2.conv1', 'layer2.2.bn1', 'layer2.2.relu', 'layer2.2.conv2', 'layer2.2.bn2', 'layer2.2.relu_1', 'layer2.2.conv3', 'layer2.2.bn3', 'layer2.2.add', 'layer2.2.relu_2', 'layer2.3.conv1', 'layer2.3.bn1', 'layer2.3.relu', 'layer2.3.conv2', 'layer2.3.bn2', 'layer2.3.relu_1', 'layer2.3.conv3', 'layer2.3.bn3', 'layer2.3.add', 'layer2.3.relu_2', 'layer3.0.conv1', 'layer3.0.bn1', 'layer3.0.relu', 'layer3.0.conv2', 'layer3.0.bn2', 'layer3.0.relu_1', 'layer3.0.conv3', 'layer3.0.bn3', 'layer3.0.downsample.0', 'layer3.0.downsample.1', 'layer3.0.add', 'layer3.0.relu_2', 'layer3.1.conv1', 'layer3.1.bn1', 'layer3.1.relu', 'layer3.1.conv2', 'layer3.1.bn2', 'layer3.1.relu_1', 'layer3.1.conv3', 'layer3.1.bn3', 'layer3.1.add', 'layer3.1.relu_2', 'layer3.2.conv1', 'layer3.2.bn1', 'layer3.2.relu', 'layer3.2.conv2', 'layer3.2.bn2', 'layer3.2.relu_1', 'layer3.2.conv3', 'layer3.2.bn3', 'layer3.2.add', 'layer3.2.relu_2', 'layer3.3.conv1', 'layer3.3.bn1', 'layer3.3.relu', 'layer3.3.conv2', 'layer3.3.bn2', 'layer3.3.relu_1', 'layer3.3.conv3', 'layer3.3.bn3', 'layer3.3.add', 'layer3.3.relu_2', 'layer3.4.conv1', 'layer3.4.bn1', 'layer3.4.relu', 'layer3.4.conv2', 'layer3.4.bn2', 'layer3.4.relu_1', 'layer3.4.conv3', 'layer3.4.bn3', 'layer3.4.add', 'layer3.4.relu_2', 'layer3.5.conv1', 'layer3.5.bn1', 'layer3.5.relu', 'layer3.5.conv2', 'layer3.5.bn2', 'layer3.5.relu_1', 'layer3.5.conv3', 'layer3.5.bn3', 'layer3.5.add', 'layer3.5.relu_2', 'layer4.0.conv1', 'layer4.0.bn1', 'layer4.0.relu', 'layer4.0.conv2', 'layer4.0.bn2', 'layer4.0.relu_1', 'layer4.0.conv3', 'layer4.0.bn3', 'layer4.0.downsample.0', 'layer4.0.downsample.1', 'layer4.0.add', 'layer4.0.relu_2', 'layer4.1.conv1', 'layer4.1.bn1', 'layer4.1.relu', 'layer4.1.conv2', 'layer4.1.bn2', 'layer4.1.relu_1', 'layer4.1.conv3', 'layer4.1.bn3', 'layer4.1.add', 'layer4.1.relu_2', 'layer4.2.conv1', 'layer4.2.bn1', 'layer4.2.relu', 'layer4.2.conv2', 'layer4.2.bn2', 'layer4.2.relu_1', 'layer4.2.conv3', 'layer4.2.bn3', 'layer4.2.add', 'layer4.2.relu_2', 'avgpool', 'flatten', 'fc']\n"
     ]
    }
   ],
   "source": [
    "layer_resnext= model_resnext.eval()\n",
    "nodes_resnext, _ = get_graph_node_names(layer_resnext)\n",
    "print (nodes_resnext)"
   ]
  },
  {
   "cell_type": "code",
   "execution_count": 19,
   "metadata": {},
   "outputs": [
    {
     "name": "stdout",
     "output_type": "stream",
     "text": [
      "['x', 'conv1', 'bn1', 'relu', 'maxpool', 'layer1.0.conv1', 'layer1.0.bn1', 'layer1.0.relu', 'layer1.0.conv2', 'layer1.0.bn2', 'layer1.0.relu_1', 'layer1.0.conv3', 'layer1.0.bn3', 'layer1.0.downsample.0', 'layer1.0.downsample.1', 'layer1.0.add', 'layer1.0.relu_2', 'layer1.1.conv1', 'layer1.1.bn1', 'layer1.1.relu', 'layer1.1.conv2', 'layer1.1.bn2', 'layer1.1.relu_1', 'layer1.1.conv3', 'layer1.1.bn3', 'layer1.1.add', 'layer1.1.relu_2', 'layer1.2.conv1', 'layer1.2.bn1', 'layer1.2.relu', 'layer1.2.conv2', 'layer1.2.bn2', 'layer1.2.relu_1', 'layer1.2.conv3', 'layer1.2.bn3', 'layer1.2.add', 'layer1.2.relu_2', 'layer2.0.conv1', 'layer2.0.bn1', 'layer2.0.relu', 'layer2.0.conv2', 'layer2.0.bn2', 'layer2.0.relu_1', 'layer2.0.conv3', 'layer2.0.bn3', 'layer2.0.downsample.0', 'layer2.0.downsample.1', 'layer2.0.add', 'layer2.0.relu_2', 'layer2.1.conv1', 'layer2.1.bn1', 'layer2.1.relu', 'layer2.1.conv2', 'layer2.1.bn2', 'layer2.1.relu_1', 'layer2.1.conv3', 'layer2.1.bn3', 'layer2.1.add', 'layer2.1.relu_2', 'layer2.2.conv1', 'layer2.2.bn1', 'layer2.2.relu', 'layer2.2.conv2', 'layer2.2.bn2', 'layer2.2.relu_1', 'layer2.2.conv3', 'layer2.2.bn3', 'layer2.2.add', 'layer2.2.relu_2', 'layer2.3.conv1', 'layer2.3.bn1', 'layer2.3.relu', 'layer2.3.conv2', 'layer2.3.bn2', 'layer2.3.relu_1', 'layer2.3.conv3', 'layer2.3.bn3', 'layer2.3.add', 'layer2.3.relu_2', 'layer3.0.conv1', 'layer3.0.bn1', 'layer3.0.relu', 'layer3.0.conv2', 'layer3.0.bn2', 'layer3.0.relu_1', 'layer3.0.conv3', 'layer3.0.bn3', 'layer3.0.downsample.0', 'layer3.0.downsample.1', 'layer3.0.add', 'layer3.0.relu_2', 'layer3.1.conv1', 'layer3.1.bn1', 'layer3.1.relu', 'layer3.1.conv2', 'layer3.1.bn2', 'layer3.1.relu_1', 'layer3.1.conv3', 'layer3.1.bn3', 'layer3.1.add', 'layer3.1.relu_2', 'layer3.2.conv1', 'layer3.2.bn1', 'layer3.2.relu', 'layer3.2.conv2', 'layer3.2.bn2', 'layer3.2.relu_1', 'layer3.2.conv3', 'layer3.2.bn3', 'layer3.2.add', 'layer3.2.relu_2', 'layer3.3.conv1', 'layer3.3.bn1', 'layer3.3.relu', 'layer3.3.conv2', 'layer3.3.bn2', 'layer3.3.relu_1', 'layer3.3.conv3', 'layer3.3.bn3', 'layer3.3.add', 'layer3.3.relu_2', 'layer3.4.conv1', 'layer3.4.bn1', 'layer3.4.relu', 'layer3.4.conv2', 'layer3.4.bn2', 'layer3.4.relu_1', 'layer3.4.conv3', 'layer3.4.bn3', 'layer3.4.add', 'layer3.4.relu_2', 'layer3.5.conv1', 'layer3.5.bn1', 'layer3.5.relu', 'layer3.5.conv2', 'layer3.5.bn2', 'layer3.5.relu_1', 'layer3.5.conv3', 'layer3.5.bn3', 'layer3.5.add', 'layer3.5.relu_2', 'layer4.0.conv1', 'layer4.0.bn1', 'layer4.0.relu', 'layer4.0.conv2', 'layer4.0.bn2', 'layer4.0.relu_1', 'layer4.0.conv3', 'layer4.0.bn3', 'layer4.0.downsample.0', 'layer4.0.downsample.1', 'layer4.0.add', 'layer4.0.relu_2', 'layer4.1.conv1', 'layer4.1.bn1', 'layer4.1.relu', 'layer4.1.conv2', 'layer4.1.bn2', 'layer4.1.relu_1', 'layer4.1.conv3', 'layer4.1.bn3', 'layer4.1.add', 'layer4.1.relu_2', 'layer4.2.conv1', 'layer4.2.bn1', 'layer4.2.relu', 'layer4.2.conv2', 'layer4.2.bn2', 'layer4.2.relu_1', 'layer4.2.conv3', 'layer4.2.bn3', 'layer4.2.add', 'layer4.2.relu_2', 'avgpool', 'flatten', 'fc']\n"
     ]
    }
   ],
   "source": [
    "layer_wide_resnet= model_wide_resnet.eval()\n",
    "nodes_wide_resnet, _ = get_graph_node_names(layer_wide_resnet)\n",
    "print (nodes_wide_resnet)"
   ]
  },
  {
   "cell_type": "code",
   "execution_count": 20,
   "metadata": {},
   "outputs": [
    {
     "ename": "KeyboardInterrupt",
     "evalue": "",
     "output_type": "error",
     "traceback": [
      "\u001b[0;31m---------------------------------------------------------------------------\u001b[0m",
      "\u001b[0;31mKeyboardInterrupt\u001b[0m                         Traceback (most recent call last)",
      "\u001b[1;32m/Users/ramahuja/Library/CloudStorage/Dropbox-KoLab/ViTA Lab Datastore/users/ram/thesis/code/features_extraction/feature_extractions.ipynb Cell 20\u001b[0m line \u001b[0;36m5\n\u001b[1;32m      <a href='vscode-notebook-cell:/Users/ramahuja/Library/CloudStorage/Dropbox-KoLab/ViTA%20Lab%20Datastore/users/ram/thesis/code/features_extraction/feature_extractions.ipynb#W4sZmlsZQ%3D%3D?line=2'>3</a>\u001b[0m \u001b[39mfor\u001b[39;00m x \u001b[39min\u001b[39;00m \u001b[39mrange\u001b[39m(\u001b[39m0\u001b[39m,\u001b[39m25\u001b[39m):\n\u001b[1;32m      <a href='vscode-notebook-cell:/Users/ramahuja/Library/CloudStorage/Dropbox-KoLab/ViTA%20Lab%20Datastore/users/ram/thesis/code/features_extraction/feature_extractions.ipynb#W4sZmlsZQ%3D%3D?line=3'>4</a>\u001b[0m     Memnet_layers \u001b[39m=\u001b[39m features(nodes_Memnet[x], layer_Memnet)\n\u001b[0;32m----> <a href='vscode-notebook-cell:/Users/ramahuja/Library/CloudStorage/Dropbox-KoLab/ViTA%20Lab%20Datastore/users/ram/thesis/code/features_extraction/feature_extractions.ipynb#W4sZmlsZQ%3D%3D?line=4'>5</a>\u001b[0m     Memnet_layers\u001b[39m.\u001b[39;49mto_csv(\u001b[39m'\u001b[39;49m\u001b[39m/Users/ramahuja/Library/CloudStorage/Dropbox-KoLab/ViTA Lab Datastore/users/ram/thesis/data/model_features/memnet/\u001b[39;49m\u001b[39m'\u001b[39;49m\u001b[39m+\u001b[39;49mnodes_Memnet[x]\u001b[39m+\u001b[39;49m\u001b[39m'\u001b[39;49m\u001b[39m.csv\u001b[39;49m\u001b[39m'\u001b[39;49m, index\u001b[39m=\u001b[39;49m\u001b[39mFalse\u001b[39;49;00m)\n",
      "File \u001b[0;32m~/anaconda3/envs/feature/lib/python3.8/site-packages/pandas/core/generic.py:3772\u001b[0m, in \u001b[0;36mNDFrame.to_csv\u001b[0;34m(self, path_or_buf, sep, na_rep, float_format, columns, header, index, index_label, mode, encoding, compression, quoting, quotechar, lineterminator, chunksize, date_format, doublequote, escapechar, decimal, errors, storage_options)\u001b[0m\n\u001b[1;32m   3761\u001b[0m df \u001b[39m=\u001b[39m \u001b[39mself\u001b[39m \u001b[39mif\u001b[39;00m \u001b[39misinstance\u001b[39m(\u001b[39mself\u001b[39m, ABCDataFrame) \u001b[39melse\u001b[39;00m \u001b[39mself\u001b[39m\u001b[39m.\u001b[39mto_frame()\n\u001b[1;32m   3763\u001b[0m formatter \u001b[39m=\u001b[39m DataFrameFormatter(\n\u001b[1;32m   3764\u001b[0m     frame\u001b[39m=\u001b[39mdf,\n\u001b[1;32m   3765\u001b[0m     header\u001b[39m=\u001b[39mheader,\n\u001b[0;32m   (...)\u001b[0m\n\u001b[1;32m   3769\u001b[0m     decimal\u001b[39m=\u001b[39mdecimal,\n\u001b[1;32m   3770\u001b[0m )\n\u001b[0;32m-> 3772\u001b[0m \u001b[39mreturn\u001b[39;00m DataFrameRenderer(formatter)\u001b[39m.\u001b[39;49mto_csv(\n\u001b[1;32m   3773\u001b[0m     path_or_buf,\n\u001b[1;32m   3774\u001b[0m     lineterminator\u001b[39m=\u001b[39;49mlineterminator,\n\u001b[1;32m   3775\u001b[0m     sep\u001b[39m=\u001b[39;49msep,\n\u001b[1;32m   3776\u001b[0m     encoding\u001b[39m=\u001b[39;49mencoding,\n\u001b[1;32m   3777\u001b[0m     errors\u001b[39m=\u001b[39;49merrors,\n\u001b[1;32m   3778\u001b[0m     compression\u001b[39m=\u001b[39;49mcompression,\n\u001b[1;32m   3779\u001b[0m     quoting\u001b[39m=\u001b[39;49mquoting,\n\u001b[1;32m   3780\u001b[0m     columns\u001b[39m=\u001b[39;49mcolumns,\n\u001b[1;32m   3781\u001b[0m     index_label\u001b[39m=\u001b[39;49mindex_label,\n\u001b[1;32m   3782\u001b[0m     mode\u001b[39m=\u001b[39;49mmode,\n\u001b[1;32m   3783\u001b[0m     chunksize\u001b[39m=\u001b[39;49mchunksize,\n\u001b[1;32m   3784\u001b[0m     quotechar\u001b[39m=\u001b[39;49mquotechar,\n\u001b[1;32m   3785\u001b[0m     date_format\u001b[39m=\u001b[39;49mdate_format,\n\u001b[1;32m   3786\u001b[0m     doublequote\u001b[39m=\u001b[39;49mdoublequote,\n\u001b[1;32m   3787\u001b[0m     escapechar\u001b[39m=\u001b[39;49mescapechar,\n\u001b[1;32m   3788\u001b[0m     storage_options\u001b[39m=\u001b[39;49mstorage_options,\n\u001b[1;32m   3789\u001b[0m )\n",
      "File \u001b[0;32m~/anaconda3/envs/feature/lib/python3.8/site-packages/pandas/io/formats/format.py:1186\u001b[0m, in \u001b[0;36mDataFrameRenderer.to_csv\u001b[0;34m(self, path_or_buf, encoding, sep, columns, index_label, mode, compression, quoting, quotechar, lineterminator, chunksize, date_format, doublequote, escapechar, errors, storage_options)\u001b[0m\n\u001b[1;32m   1165\u001b[0m     created_buffer \u001b[39m=\u001b[39m \u001b[39mFalse\u001b[39;00m\n\u001b[1;32m   1167\u001b[0m csv_formatter \u001b[39m=\u001b[39m CSVFormatter(\n\u001b[1;32m   1168\u001b[0m     path_or_buf\u001b[39m=\u001b[39mpath_or_buf,\n\u001b[1;32m   1169\u001b[0m     lineterminator\u001b[39m=\u001b[39mlineterminator,\n\u001b[0;32m   (...)\u001b[0m\n\u001b[1;32m   1184\u001b[0m     formatter\u001b[39m=\u001b[39m\u001b[39mself\u001b[39m\u001b[39m.\u001b[39mfmt,\n\u001b[1;32m   1185\u001b[0m )\n\u001b[0;32m-> 1186\u001b[0m csv_formatter\u001b[39m.\u001b[39;49msave()\n\u001b[1;32m   1188\u001b[0m \u001b[39mif\u001b[39;00m created_buffer:\n\u001b[1;32m   1189\u001b[0m     \u001b[39massert\u001b[39;00m \u001b[39misinstance\u001b[39m(path_or_buf, StringIO)\n",
      "File \u001b[0;32m~/anaconda3/envs/feature/lib/python3.8/site-packages/pandas/io/formats/csvs.py:259\u001b[0m, in \u001b[0;36mCSVFormatter.save\u001b[0;34m(self)\u001b[0m\n\u001b[1;32m    240\u001b[0m \u001b[39mwith\u001b[39;00m get_handle(\n\u001b[1;32m    241\u001b[0m     \u001b[39mself\u001b[39m\u001b[39m.\u001b[39mfilepath_or_buffer,\n\u001b[1;32m    242\u001b[0m     \u001b[39mself\u001b[39m\u001b[39m.\u001b[39mmode,\n\u001b[0;32m   (...)\u001b[0m\n\u001b[1;32m    247\u001b[0m ) \u001b[39mas\u001b[39;00m handles:\n\u001b[1;32m    248\u001b[0m     \u001b[39m# Note: self.encoding is irrelevant here\u001b[39;00m\n\u001b[1;32m    249\u001b[0m     \u001b[39mself\u001b[39m\u001b[39m.\u001b[39mwriter \u001b[39m=\u001b[39m csvlib\u001b[39m.\u001b[39mwriter(\n\u001b[1;32m    250\u001b[0m         handles\u001b[39m.\u001b[39mhandle,\n\u001b[1;32m    251\u001b[0m         lineterminator\u001b[39m=\u001b[39m\u001b[39mself\u001b[39m\u001b[39m.\u001b[39mlineterminator,\n\u001b[0;32m   (...)\u001b[0m\n\u001b[1;32m    256\u001b[0m         quotechar\u001b[39m=\u001b[39m\u001b[39mself\u001b[39m\u001b[39m.\u001b[39mquotechar,\n\u001b[1;32m    257\u001b[0m     )\n\u001b[0;32m--> 259\u001b[0m     \u001b[39mself\u001b[39;49m\u001b[39m.\u001b[39;49m_save()\n",
      "File \u001b[0;32m~/anaconda3/envs/feature/lib/python3.8/site-packages/pandas/io/formats/csvs.py:264\u001b[0m, in \u001b[0;36mCSVFormatter._save\u001b[0;34m(self)\u001b[0m\n\u001b[1;32m    262\u001b[0m \u001b[39mif\u001b[39;00m \u001b[39mself\u001b[39m\u001b[39m.\u001b[39m_need_to_save_header:\n\u001b[1;32m    263\u001b[0m     \u001b[39mself\u001b[39m\u001b[39m.\u001b[39m_save_header()\n\u001b[0;32m--> 264\u001b[0m \u001b[39mself\u001b[39;49m\u001b[39m.\u001b[39;49m_save_body()\n",
      "File \u001b[0;32m~/anaconda3/envs/feature/lib/python3.8/site-packages/pandas/io/formats/csvs.py:302\u001b[0m, in \u001b[0;36mCSVFormatter._save_body\u001b[0;34m(self)\u001b[0m\n\u001b[1;32m    300\u001b[0m \u001b[39mif\u001b[39;00m start_i \u001b[39m>\u001b[39m\u001b[39m=\u001b[39m end_i:\n\u001b[1;32m    301\u001b[0m     \u001b[39mbreak\u001b[39;00m\n\u001b[0;32m--> 302\u001b[0m \u001b[39mself\u001b[39;49m\u001b[39m.\u001b[39;49m_save_chunk(start_i, end_i)\n",
      "File \u001b[0;32m~/anaconda3/envs/feature/lib/python3.8/site-packages/pandas/io/formats/csvs.py:313\u001b[0m, in \u001b[0;36mCSVFormatter._save_chunk\u001b[0;34m(self, start_i, end_i)\u001b[0m\n\u001b[1;32m    310\u001b[0m data \u001b[39m=\u001b[39m [res\u001b[39m.\u001b[39miget_values(i) \u001b[39mfor\u001b[39;00m i \u001b[39min\u001b[39;00m \u001b[39mrange\u001b[39m(\u001b[39mlen\u001b[39m(res\u001b[39m.\u001b[39mitems))]\n\u001b[1;32m    312\u001b[0m ix \u001b[39m=\u001b[39m \u001b[39mself\u001b[39m\u001b[39m.\u001b[39mdata_index[slicer]\u001b[39m.\u001b[39m_format_native_types(\u001b[39m*\u001b[39m\u001b[39m*\u001b[39m\u001b[39mself\u001b[39m\u001b[39m.\u001b[39m_number_format)\n\u001b[0;32m--> 313\u001b[0m libwriters\u001b[39m.\u001b[39;49mwrite_csv_rows(\n\u001b[1;32m    314\u001b[0m     data,\n\u001b[1;32m    315\u001b[0m     ix,\n\u001b[1;32m    316\u001b[0m     \u001b[39mself\u001b[39;49m\u001b[39m.\u001b[39;49mnlevels,\n\u001b[1;32m    317\u001b[0m     \u001b[39mself\u001b[39;49m\u001b[39m.\u001b[39;49mcols,\n\u001b[1;32m    318\u001b[0m     \u001b[39mself\u001b[39;49m\u001b[39m.\u001b[39;49mwriter,\n\u001b[1;32m    319\u001b[0m )\n",
      "File \u001b[0;32m~/anaconda3/envs/feature/lib/python3.8/site-packages/pandas/_libs/writers.pyx:72\u001b[0m, in \u001b[0;36mpandas._libs.writers.write_csv_rows\u001b[0;34m()\u001b[0m\n",
      "\u001b[0;31mKeyboardInterrupt\u001b[0m: "
     ]
    }
   ],
   "source": [
    "import csv\n",
    "\n",
    "for x in range(0,25):\n",
    "    Memnet_layers = features(nodes_Memnet[x], layer_Memnet)\n",
    "    Memnet_layers.to_csv('/Users/ramahuja/Library/CloudStorage/Dropbox-KoLab/ViTA Lab Datastore/users/ram/thesis/data/model_features/memnet/'+nodes_Memnet[x]+'.csv', index=False)"
   ]
  },
  {
   "cell_type": "code",
   "execution_count": null,
   "metadata": {},
   "outputs": [],
   "source": [
    "for x in range(0,22):\n",
    "    Alexnet_layers = features(nodes_Alexnet[x], layer_Alexnet)\n",
    "    Alexnet_layers.to_csv('/Users/ramahuja/Library/CloudStorage/Dropbox-KoLab/ViTA Lab Datastore/users/ram/thesis/data/model_features/alexnet/'+nodes_Alexnet[x]+'.csv', index=False)"
   ]
  },
  {
   "cell_type": "code",
   "execution_count": null,
   "metadata": {},
   "outputs": [],
   "source": [
    "for x in range(0,len(nodes_resnet18)):\n",
    "    Resnet18_layers = features(nodes_resnet18[x], layer_resnet18)\n",
    "    Resnet18_layers.to_csv('/Users/ramahuja/Library/CloudStorage/Dropbox-KoLab/ViTA Lab Datastore/users/ram/thesis/data/model_features/resnet18/'+nodes_resnet18[x]+'.csv', index=False)"
   ]
  },
  {
   "cell_type": "code",
   "execution_count": 24,
   "metadata": {},
   "outputs": [
    {
     "ename": "KeyboardInterrupt",
     "evalue": "",
     "output_type": "error",
     "traceback": [
      "\u001b[0;31m---------------------------------------------------------------------------\u001b[0m",
      "\u001b[0;31mKeyboardInterrupt\u001b[0m                         Traceback (most recent call last)",
      "\u001b[1;32m/Users/ramahuja/Library/CloudStorage/Dropbox-KoLab/ViTA Lab Datastore/users/ram/thesis/code/features_extraction/feature_extractions.ipynb Cell 23\u001b[0m line \u001b[0;36m2\n\u001b[1;32m      <a href='vscode-notebook-cell:/Users/ramahuja/Library/CloudStorage/Dropbox-KoLab/ViTA%20Lab%20Datastore/users/ram/thesis/code/features_extraction/feature_extractions.ipynb#X33sZmlsZQ%3D%3D?line=0'>1</a>\u001b[0m \u001b[39mfor\u001b[39;00m x \u001b[39min\u001b[39;00m \u001b[39mrange\u001b[39m(\u001b[39m90\u001b[39m,\u001b[39mlen\u001b[39m(nodes_resnet50)):\n\u001b[0;32m----> <a href='vscode-notebook-cell:/Users/ramahuja/Library/CloudStorage/Dropbox-KoLab/ViTA%20Lab%20Datastore/users/ram/thesis/code/features_extraction/feature_extractions.ipynb#X33sZmlsZQ%3D%3D?line=1'>2</a>\u001b[0m     Resnet50_layers \u001b[39m=\u001b[39m features(nodes_resnet50[x], layer_resnet50)\n\u001b[1;32m      <a href='vscode-notebook-cell:/Users/ramahuja/Library/CloudStorage/Dropbox-KoLab/ViTA%20Lab%20Datastore/users/ram/thesis/code/features_extraction/feature_extractions.ipynb#X33sZmlsZQ%3D%3D?line=2'>3</a>\u001b[0m     Resnet50_layers\u001b[39m.\u001b[39mto_csv(\u001b[39m'\u001b[39m\u001b[39m/Users/ramahuja/Library/CloudStorage/Dropbox-KoLab/ViTA Lab Datastore/users/ram/thesis/data/model_features/resnet50/\u001b[39m\u001b[39m'\u001b[39m\u001b[39m+\u001b[39mnodes_resnet50[x]\u001b[39m+\u001b[39m\u001b[39m'\u001b[39m\u001b[39m.csv\u001b[39m\u001b[39m'\u001b[39m, index\u001b[39m=\u001b[39m\u001b[39mFalse\u001b[39;00m)\n",
      "File \u001b[0;32m~/Library/CloudStorage/Dropbox-KoLab/ViTA Lab Datastore/users/ram/thesis/code/features_extraction/layer_activity.py:39\u001b[0m, in \u001b[0;36mfeatures\u001b[0;34m(node, model)\u001b[0m\n\u001b[1;32m     37\u001b[0m \u001b[39minput\u001b[39m \u001b[39m=\u001b[39m \u001b[39minput\u001b[39m\u001b[39m.\u001b[39munsqueeze(\u001b[39m0\u001b[39m)  \n\u001b[1;32m     38\u001b[0m out \u001b[39m=\u001b[39m feature_extractor(\u001b[39minput\u001b[39m)\n\u001b[0;32m---> 39\u001b[0m \u001b[39mtry\u001b[39;00m:\n\u001b[1;32m     40\u001b[0m     tmp\u001b[39m=\u001b[39mtorch\u001b[39m.\u001b[39mreshape(out[node],(\u001b[39m-\u001b[39m\u001b[39m1\u001b[39m,\u001b[39m1\u001b[39m))\u001b[39m.\u001b[39mdetach()\u001b[39m.\u001b[39mnumpy()\n\u001b[1;32m     41\u001b[0m     model_features \u001b[39m=\u001b[39m tmp\u001b[39m.\u001b[39mravel()\n",
      "File \u001b[0;32m~/anaconda3/envs/feature/lib/python3.8/site-packages/torch/fx/graph_module.py:678\u001b[0m, in \u001b[0;36mGraphModule.recompile.<locals>.call_wrapped\u001b[0;34m(self, *args, **kwargs)\u001b[0m\n\u001b[1;32m    677\u001b[0m \u001b[39mdef\u001b[39;00m \u001b[39mcall_wrapped\u001b[39m(\u001b[39mself\u001b[39m, \u001b[39m*\u001b[39margs, \u001b[39m*\u001b[39m\u001b[39m*\u001b[39mkwargs):\n\u001b[0;32m--> 678\u001b[0m     \u001b[39mreturn\u001b[39;00m \u001b[39mself\u001b[39;49m\u001b[39m.\u001b[39;49m_wrapped_call(\u001b[39mself\u001b[39;49m, \u001b[39m*\u001b[39;49margs, \u001b[39m*\u001b[39;49m\u001b[39m*\u001b[39;49mkwargs)\n",
      "File \u001b[0;32m~/anaconda3/envs/feature/lib/python3.8/site-packages/torch/fx/graph_module.py:274\u001b[0m, in \u001b[0;36m_WrappedCall.__call__\u001b[0;34m(self, obj, *args, **kwargs)\u001b[0m\n\u001b[1;32m    272\u001b[0m         \u001b[39mreturn\u001b[39;00m \u001b[39mself\u001b[39m\u001b[39m.\u001b[39mcls_call(obj, \u001b[39m*\u001b[39margs, \u001b[39m*\u001b[39m\u001b[39m*\u001b[39mkwargs)\n\u001b[1;32m    273\u001b[0m     \u001b[39melse\u001b[39;00m:\n\u001b[0;32m--> 274\u001b[0m         \u001b[39mreturn\u001b[39;00m \u001b[39msuper\u001b[39;49m(\u001b[39mself\u001b[39;49m\u001b[39m.\u001b[39;49mcls, obj)\u001b[39m.\u001b[39;49m\u001b[39m__call__\u001b[39;49m(\u001b[39m*\u001b[39;49margs, \u001b[39m*\u001b[39;49m\u001b[39m*\u001b[39;49mkwargs)  \u001b[39m# type: ignore[misc]\u001b[39;00m\n\u001b[1;32m    275\u001b[0m \u001b[39mexcept\u001b[39;00m \u001b[39mException\u001b[39;00m \u001b[39mas\u001b[39;00m e:\n\u001b[1;32m    276\u001b[0m     \u001b[39massert\u001b[39;00m e\u001b[39m.\u001b[39m__traceback__\n",
      "File \u001b[0;32m~/anaconda3/envs/feature/lib/python3.8/site-packages/torch/nn/modules/module.py:1518\u001b[0m, in \u001b[0;36mModule._wrapped_call_impl\u001b[0;34m(self, *args, **kwargs)\u001b[0m\n\u001b[1;32m   1516\u001b[0m     \u001b[39mreturn\u001b[39;00m \u001b[39mself\u001b[39m\u001b[39m.\u001b[39m_compiled_call_impl(\u001b[39m*\u001b[39margs, \u001b[39m*\u001b[39m\u001b[39m*\u001b[39mkwargs)  \u001b[39m# type: ignore[misc]\u001b[39;00m\n\u001b[1;32m   1517\u001b[0m \u001b[39melse\u001b[39;00m:\n\u001b[0;32m-> 1518\u001b[0m     \u001b[39mreturn\u001b[39;00m \u001b[39mself\u001b[39;49m\u001b[39m.\u001b[39;49m_call_impl(\u001b[39m*\u001b[39;49margs, \u001b[39m*\u001b[39;49m\u001b[39m*\u001b[39;49mkwargs)\n",
      "File \u001b[0;32m~/anaconda3/envs/feature/lib/python3.8/site-packages/torch/nn/modules/module.py:1527\u001b[0m, in \u001b[0;36mModule._call_impl\u001b[0;34m(self, *args, **kwargs)\u001b[0m\n\u001b[1;32m   1522\u001b[0m \u001b[39m# If we don't have any hooks, we want to skip the rest of the logic in\u001b[39;00m\n\u001b[1;32m   1523\u001b[0m \u001b[39m# this function, and just call forward.\u001b[39;00m\n\u001b[1;32m   1524\u001b[0m \u001b[39mif\u001b[39;00m \u001b[39mnot\u001b[39;00m (\u001b[39mself\u001b[39m\u001b[39m.\u001b[39m_backward_hooks \u001b[39mor\u001b[39;00m \u001b[39mself\u001b[39m\u001b[39m.\u001b[39m_backward_pre_hooks \u001b[39mor\u001b[39;00m \u001b[39mself\u001b[39m\u001b[39m.\u001b[39m_forward_hooks \u001b[39mor\u001b[39;00m \u001b[39mself\u001b[39m\u001b[39m.\u001b[39m_forward_pre_hooks\n\u001b[1;32m   1525\u001b[0m         \u001b[39mor\u001b[39;00m _global_backward_pre_hooks \u001b[39mor\u001b[39;00m _global_backward_hooks\n\u001b[1;32m   1526\u001b[0m         \u001b[39mor\u001b[39;00m _global_forward_hooks \u001b[39mor\u001b[39;00m _global_forward_pre_hooks):\n\u001b[0;32m-> 1527\u001b[0m     \u001b[39mreturn\u001b[39;00m forward_call(\u001b[39m*\u001b[39;49margs, \u001b[39m*\u001b[39;49m\u001b[39m*\u001b[39;49mkwargs)\n\u001b[1;32m   1529\u001b[0m \u001b[39mtry\u001b[39;00m:\n\u001b[1;32m   1530\u001b[0m     result \u001b[39m=\u001b[39m \u001b[39mNone\u001b[39;00m\n",
      "File \u001b[0;32m<eval_with_key>.1205 from /Users/ramahuja/anaconda3/envs/feature/lib/python3.8/site-packages/torchvision/models/resnet.py:284 in forward:41\u001b[0m, in \u001b[0;36mforward\u001b[0;34m(self, x)\u001b[0m\n\u001b[1;32m     39\u001b[0m add_2 \u001b[39m=\u001b[39m layer1_2_bn3 \u001b[39m+\u001b[39m layer1_1_relu_2;  layer1_2_bn3 \u001b[39m=\u001b[39m layer1_1_relu_2 \u001b[39m=\u001b[39m \u001b[39mNone\u001b[39;00m\n\u001b[1;32m     40\u001b[0m layer1_2_relu_2 \u001b[39m=\u001b[39m \u001b[39mgetattr\u001b[39m(\u001b[39mself\u001b[39m\u001b[39m.\u001b[39mlayer1, \u001b[39m\"\u001b[39m\u001b[39m2\u001b[39m\u001b[39m\"\u001b[39m)\u001b[39m.\u001b[39mrelu(add_2);  add_2 \u001b[39m=\u001b[39m \u001b[39mNone\u001b[39;00m\n\u001b[0;32m---> 41\u001b[0m layer2_0_conv1 \u001b[39m=\u001b[39m \u001b[39mgetattr\u001b[39;49m(\u001b[39mself\u001b[39;49m\u001b[39m.\u001b[39;49mlayer2, \u001b[39m\"\u001b[39;49m\u001b[39m0\u001b[39;49m\u001b[39m\"\u001b[39;49m)\u001b[39m.\u001b[39;49mconv1(layer1_2_relu_2)\n\u001b[1;32m     42\u001b[0m layer2_0_bn1 \u001b[39m=\u001b[39m \u001b[39mgetattr\u001b[39m(\u001b[39mself\u001b[39m\u001b[39m.\u001b[39mlayer2, \u001b[39m\"\u001b[39m\u001b[39m0\u001b[39m\u001b[39m\"\u001b[39m)\u001b[39m.\u001b[39mbn1(layer2_0_conv1);  layer2_0_conv1 \u001b[39m=\u001b[39m \u001b[39mNone\u001b[39;00m\n\u001b[1;32m     43\u001b[0m layer2_0_relu \u001b[39m=\u001b[39m \u001b[39mgetattr\u001b[39m(\u001b[39mself\u001b[39m\u001b[39m.\u001b[39mlayer2, \u001b[39m\"\u001b[39m\u001b[39m0\u001b[39m\u001b[39m\"\u001b[39m)\u001b[39m.\u001b[39mrelu(layer2_0_bn1);  layer2_0_bn1 \u001b[39m=\u001b[39m \u001b[39mNone\u001b[39;00m\n",
      "File \u001b[0;32m~/anaconda3/envs/feature/lib/python3.8/site-packages/torch/nn/modules/module.py:1518\u001b[0m, in \u001b[0;36mModule._wrapped_call_impl\u001b[0;34m(self, *args, **kwargs)\u001b[0m\n\u001b[1;32m   1516\u001b[0m     \u001b[39mreturn\u001b[39;00m \u001b[39mself\u001b[39m\u001b[39m.\u001b[39m_compiled_call_impl(\u001b[39m*\u001b[39margs, \u001b[39m*\u001b[39m\u001b[39m*\u001b[39mkwargs)  \u001b[39m# type: ignore[misc]\u001b[39;00m\n\u001b[1;32m   1517\u001b[0m \u001b[39melse\u001b[39;00m:\n\u001b[0;32m-> 1518\u001b[0m     \u001b[39mreturn\u001b[39;00m \u001b[39mself\u001b[39;49m\u001b[39m.\u001b[39;49m_call_impl(\u001b[39m*\u001b[39;49margs, \u001b[39m*\u001b[39;49m\u001b[39m*\u001b[39;49mkwargs)\n",
      "File \u001b[0;32m~/anaconda3/envs/feature/lib/python3.8/site-packages/torch/nn/modules/module.py:1527\u001b[0m, in \u001b[0;36mModule._call_impl\u001b[0;34m(self, *args, **kwargs)\u001b[0m\n\u001b[1;32m   1522\u001b[0m \u001b[39m# If we don't have any hooks, we want to skip the rest of the logic in\u001b[39;00m\n\u001b[1;32m   1523\u001b[0m \u001b[39m# this function, and just call forward.\u001b[39;00m\n\u001b[1;32m   1524\u001b[0m \u001b[39mif\u001b[39;00m \u001b[39mnot\u001b[39;00m (\u001b[39mself\u001b[39m\u001b[39m.\u001b[39m_backward_hooks \u001b[39mor\u001b[39;00m \u001b[39mself\u001b[39m\u001b[39m.\u001b[39m_backward_pre_hooks \u001b[39mor\u001b[39;00m \u001b[39mself\u001b[39m\u001b[39m.\u001b[39m_forward_hooks \u001b[39mor\u001b[39;00m \u001b[39mself\u001b[39m\u001b[39m.\u001b[39m_forward_pre_hooks\n\u001b[1;32m   1525\u001b[0m         \u001b[39mor\u001b[39;00m _global_backward_pre_hooks \u001b[39mor\u001b[39;00m _global_backward_hooks\n\u001b[1;32m   1526\u001b[0m         \u001b[39mor\u001b[39;00m _global_forward_hooks \u001b[39mor\u001b[39;00m _global_forward_pre_hooks):\n\u001b[0;32m-> 1527\u001b[0m     \u001b[39mreturn\u001b[39;00m forward_call(\u001b[39m*\u001b[39;49margs, \u001b[39m*\u001b[39;49m\u001b[39m*\u001b[39;49mkwargs)\n\u001b[1;32m   1529\u001b[0m \u001b[39mtry\u001b[39;00m:\n\u001b[1;32m   1530\u001b[0m     result \u001b[39m=\u001b[39m \u001b[39mNone\u001b[39;00m\n",
      "File \u001b[0;32m~/anaconda3/envs/feature/lib/python3.8/site-packages/torch/nn/modules/conv.py:460\u001b[0m, in \u001b[0;36mConv2d.forward\u001b[0;34m(self, input)\u001b[0m\n\u001b[1;32m    459\u001b[0m \u001b[39mdef\u001b[39;00m \u001b[39mforward\u001b[39m(\u001b[39mself\u001b[39m, \u001b[39minput\u001b[39m: Tensor) \u001b[39m-\u001b[39m\u001b[39m>\u001b[39m Tensor:\n\u001b[0;32m--> 460\u001b[0m     \u001b[39mreturn\u001b[39;00m \u001b[39mself\u001b[39;49m\u001b[39m.\u001b[39;49m_conv_forward(\u001b[39minput\u001b[39;49m, \u001b[39mself\u001b[39;49m\u001b[39m.\u001b[39;49mweight, \u001b[39mself\u001b[39;49m\u001b[39m.\u001b[39;49mbias)\n",
      "File \u001b[0;32m~/anaconda3/envs/feature/lib/python3.8/site-packages/torch/nn/modules/conv.py:456\u001b[0m, in \u001b[0;36mConv2d._conv_forward\u001b[0;34m(self, input, weight, bias)\u001b[0m\n\u001b[1;32m    452\u001b[0m \u001b[39mif\u001b[39;00m \u001b[39mself\u001b[39m\u001b[39m.\u001b[39mpadding_mode \u001b[39m!=\u001b[39m \u001b[39m'\u001b[39m\u001b[39mzeros\u001b[39m\u001b[39m'\u001b[39m:\n\u001b[1;32m    453\u001b[0m     \u001b[39mreturn\u001b[39;00m F\u001b[39m.\u001b[39mconv2d(F\u001b[39m.\u001b[39mpad(\u001b[39minput\u001b[39m, \u001b[39mself\u001b[39m\u001b[39m.\u001b[39m_reversed_padding_repeated_twice, mode\u001b[39m=\u001b[39m\u001b[39mself\u001b[39m\u001b[39m.\u001b[39mpadding_mode),\n\u001b[1;32m    454\u001b[0m                     weight, bias, \u001b[39mself\u001b[39m\u001b[39m.\u001b[39mstride,\n\u001b[1;32m    455\u001b[0m                     _pair(\u001b[39m0\u001b[39m), \u001b[39mself\u001b[39m\u001b[39m.\u001b[39mdilation, \u001b[39mself\u001b[39m\u001b[39m.\u001b[39mgroups)\n\u001b[0;32m--> 456\u001b[0m \u001b[39mreturn\u001b[39;00m F\u001b[39m.\u001b[39;49mconv2d(\u001b[39minput\u001b[39;49m, weight, bias, \u001b[39mself\u001b[39;49m\u001b[39m.\u001b[39;49mstride,\n\u001b[1;32m    457\u001b[0m                 \u001b[39mself\u001b[39;49m\u001b[39m.\u001b[39;49mpadding, \u001b[39mself\u001b[39;49m\u001b[39m.\u001b[39;49mdilation, \u001b[39mself\u001b[39;49m\u001b[39m.\u001b[39;49mgroups)\n",
      "\u001b[0;31mKeyboardInterrupt\u001b[0m: "
     ]
    }
   ],
   "source": [
    "for x in range(90,len(nodes_resnet50)):\n",
    "    Resnet50_layers = features(nodes_resnet50[x], layer_resnet50)\n",
    "    Resnet50_layers.to_csv('/Users/ramahuja/Library/CloudStorage/Dropbox-KoLab/ViTA Lab Datastore/users/ram/thesis/data/model_features/resnet50/'+nodes_resnet50[x]+'.csv', index=False)"
   ]
  },
  {
   "cell_type": "code",
   "execution_count": null,
   "metadata": {},
   "outputs": [],
   "source": [
    "for x in range(0,len(nodes_resnet101)):\n",
    "    Resnet101_layers = features(nodes_resnet101[x], layer_resnet101)\n",
    "    Resnet101_layers.to_csv('/Users/ramahuja/Library/CloudStorage/Dropbox-KoLab/ViTA Lab Datastore/users/ram/thesis/data/model_features/resnet101/'+nodes_resnet101[x]+'.csv', index=False)\n",
    "    print (nodes_resnet101[x])"
   ]
  },
  {
   "cell_type": "code",
   "execution_count": null,
   "metadata": {},
   "outputs": [],
   "source": [
    "for x in range(0,len(nodes_vgg16)):\n",
    "    vgg16_layers = features(nodes_vgg16[x], layer_vgg16)\n",
    "    vgg16_layers.to_csv('/Users/ramahuja/Library/CloudStorage/Dropbox-KoLab/ViTA Lab Datastore/users/ram/thesis/data/model_features/vgg16/'+nodes_vgg16[x]+'.csv', index=False)\n",
    "    print (nodes_vgg16[x])"
   ]
  },
  {
   "cell_type": "code",
   "execution_count": null,
   "metadata": {},
   "outputs": [],
   "source": [
    "for x in range(0,len(nodes_vgg19)):\n",
    "    vgg19_layers = features(nodes_vgg19[x], layer_vgg19)\n",
    "    vgg19_layers.to_csv('/Users/ramahuja/Library/CloudStorage/Dropbox-KoLab/ViTA Lab Datastore/users/ram/thesis/data/model_features/vgg19/'+nodes_vgg19[x]+'.csv', index=False)\n",
    "    print (nodes_vgg19[x])"
   ]
  },
  {
   "cell_type": "code",
   "execution_count": null,
   "metadata": {},
   "outputs": [],
   "source": [
    "for x in range(0,len(nodes_googlenet)):\n",
    "    googlenet_layers = features(nodes_googlenet[x], layer_googlenet)\n",
    "    googlenet_layers.to_csv('/Users/ramahuja/Library/CloudStorage/Dropbox-KoLab/ViTA Lab Datastore/users/ram/thesis/data/model_features/googlenet/'+nodes_googlenet[x]+'.csv', index=False)\n",
    "    print (nodes_googlenet[x])"
   ]
  },
  {
   "cell_type": "code",
   "execution_count": null,
   "metadata": {},
   "outputs": [],
   "source": [
    "for x in range(0,len(nodes_inception)):\n",
    "    inception_layers = features(nodes_inception[x], layer_inception)\n",
    "    inception_layers.to_csv('/Users/ramahuja/Library/CloudStorage/Dropbox-KoLab/ViTA Lab Datastore/users/ram/thesis/data/model_features/inception/'+nodes_inception[x]+'.csv', index=False)\n",
    "    print (nodes_inception[x])"
   ]
  },
  {
   "cell_type": "code",
   "execution_count": null,
   "metadata": {},
   "outputs": [],
   "source": [
    "for x in range(0,len(nodes_densenet)):\n",
    "    densenet_layers = features(nodes_densenet[x], layer_densenet)\n",
    "    densenet_layers.to_csv('/Users/ramahuja/Library/CloudStorage/Dropbox-KoLab/ViTA Lab Datastore/users/ram/thesis/data/model_features/densenet/'+nodes_densenet[x]+'.csv', index=False)\n",
    "    print (nodes_densenet[x])"
   ]
  },
  {
   "cell_type": "code",
   "execution_count": null,
   "metadata": {},
   "outputs": [],
   "source": [
    "for x in range(0,len(nodes_mobilenet_v2)):\n",
    "    mobilenet_v2_layers = features(nodes_mobilenet_v2[x], layer_mobilenet_v2)\n",
    "    mobilenet_v2_layers.to_csv('/Users/ramahuja/Library/CloudStorage/Dropbox-KoLab/ViTA Lab Datastore/users/ram/thesis/data/model_features/mobilenet_v2/'+nodes_mobilenet_v2[x]+'.csv', index=False)\n",
    "    print (nodes_mobilenet_v2[x])"
   ]
  },
  {
   "cell_type": "code",
   "execution_count": null,
   "metadata": {},
   "outputs": [],
   "source": [
    "for x in range(0,len(nodes_squeezenet)):\n",
    "    squeezenet_layers  = features(nodes_squeezenet[x], layer_mobilenet_v2)\n",
    "    squeezenet_layers .to_csv('/Users/ramahuja/Library/CloudStorage/Dropbox-KoLab/ViTA Lab Datastore/users/ram/thesis/data/model_features/squeezenet/'+nodes_squeezenet[x]+'.csv', index=False)\n",
    "    print (nodes_squeezenet[x])"
   ]
  },
  {
   "cell_type": "code",
   "execution_count": null,
   "metadata": {},
   "outputs": [],
   "source": [
    "for x in range(0,len(nodes_shufflenet_v2)):\n",
    "    shufflenet_v2_layers  = features(nodes_shufflenet_v2[x], layer_shufflenet_v2)\n",
    "    shufflenet_v2_layers .to_csv('/Users/ramahuja/Library/CloudStorage/Dropbox-KoLab/ViTA Lab Datastore/users/ram/thesis/data/model_features/shufflenet_v2/'+nodes_shufflenet_v2[x]+'.csv', index=False)\n",
    "    print(nodes_shufflenet_v2[x])"
   ]
  },
  {
   "cell_type": "code",
   "execution_count": null,
   "metadata": {},
   "outputs": [],
   "source": [
    "for x in range(0,len(nodes_mnasnet)):\n",
    "    mnasnet_layers  = features(nodes_mnasnet[x], layer_mnasnet)\n",
    "    mnasnet_layers.to_csv('/Users/ramahuja/Library/CloudStorage/Dropbox-KoLab/ViTA Lab Datastore/users/ram/thesis/data/model_features/mnasnet/'+nodes_mnasnet[x]+'.csv', index=False)\n",
    "    print(nodes_mnasnet[x])"
   ]
  },
  {
   "cell_type": "code",
   "execution_count": null,
   "metadata": {},
   "outputs": [],
   "source": [
    "for x in range(0,len(nodes_resnext)):\n",
    "    resnext_layers  = features(nodes_resnext[x], layer_resnext)\n",
    "    resnext_layers.to_csv('/Users/ramahuja/Library/CloudStorage/Dropbox-KoLab/ViTA Lab Datastore/users/ram/thesis/data/model_features/resnext/'+nodes_resnext[x]+'.csv', index=False)\n",
    "    print (nodes_resnext[x])"
   ]
  },
  {
   "cell_type": "code",
   "execution_count": null,
   "metadata": {},
   "outputs": [],
   "source": [
    "for x in range(0,len(nodes_wide_resnet)):\n",
    "    wide_resnet_layers  = features(nodes_wide_resnet[x], layer_wide_resnet)\n",
    "    wide_resnet_layers.to_csv('/Users/ramahuja/Library/CloudStorage/Dropbox-KoLab/ViTA Lab Datastore/users/ram/thesis/data/model_features/wide_resnet/'+nodes_wide_resnet[x]+'.csv', index=False)\n",
    "    print (nodes_wide_resnet[x])"
   ]
  },
  {
   "cell_type": "code",
   "execution_count": null,
   "metadata": {},
   "outputs": [],
   "source": []
  },
  {
   "cell_type": "code",
   "execution_count": null,
   "metadata": {},
   "outputs": [],
   "source": []
  },
  {
   "cell_type": "code",
   "execution_count": null,
   "metadata": {},
   "outputs": [],
   "source": []
  }
 ],
 "metadata": {
  "kernelspec": {
   "display_name": "feature",
   "language": "python",
   "name": "python3"
  },
  "language_info": {
   "codemirror_mode": {
    "name": "ipython",
    "version": 3
   },
   "file_extension": ".py",
   "mimetype": "text/x-python",
   "name": "python",
   "nbconvert_exporter": "python",
   "pygments_lexer": "ipython3",
   "version": "3.8.18"
  }
 },
 "nbformat": 4,
 "nbformat_minor": 2
}
