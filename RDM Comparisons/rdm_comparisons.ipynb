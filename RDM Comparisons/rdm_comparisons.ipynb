{
 "cells": [
  {
   "cell_type": "code",
   "execution_count": 1,
   "metadata": {},
   "outputs": [],
   "source": [
    "import numpy as np\n",
    "from scipy.spatial import distance\n",
    "import pandas as pd\n",
    "import math\n",
    "import os\n",
    "import numpy as np\n",
    "import nibabel as nibs\n",
    "import seaborn as sns\n",
    "import matplotlib.pyplot as plt\n",
    "from glob import glob\n",
    "from nilearn import image, datasets, plotting, masking\n",
    "import pandas as pd\n",
    "from scipy.spatial import distance\n",
    "\n",
    "import matplotlib.pyplot as plt\n",
    "from scipy.stats import spearmanr\n",
    "import matplotlib.pyplot as plt\n",
    "\n",
    "import csv\n",
    "\n",
    "from rdm_plot_function import plot_rdm\n",
    "from rdm_calc_function import activity_vector_rdm\n",
    "\n",
    "def upper(df):\n",
    "    try:\n",
    "        assert(type(df)==np.ndarray)\n",
    "    except:\n",
    "        if type(df)==pd.DataFrame:\n",
    "            df = df.values\n",
    "        else:\n",
    "            raise TypeError('Must be np.ndarray or pd.DataFrame')\n",
    "    mask = np.triu_indices(df.shape[0], k=1)\n",
    "    return df[mask]"
   ]
  },
  {
   "cell_type": "code",
   "execution_count": 11,
   "metadata": {},
   "outputs": [
    {
     "name": "stdout",
     "output_type": "stream",
     "text": [
      "0\n",
      "1\n",
      "2\n",
      "3\n",
      "4\n",
      "5\n",
      "6\n",
      "7\n",
      "8\n",
      "9\n",
      "10\n",
      "11\n",
      "12\n",
      "13\n",
      "14\n",
      "15\n",
      "16\n",
      "17\n",
      "18\n",
      "19\n",
      "20\n",
      "21\n",
      "22\n",
      "23\n",
      "24\n"
     ]
    }
   ],
   "source": [
    "\n",
    "\n",
    "nodes_Memnet = ['x', 'conv1', 'relu1', 'pool1', 'norm1', 'conv2', 'relu2', 'pool2', 'norm2', 'conv3', 'relu3', 'conv4', 'relu4', 'conv5', 'relu5', 'pool5', 'getattr', 'getitem', 'view', 'fc6', 'relu6', 'drop6', 'fc7', 'relu7', 'drop7', 'fc8_euclidean']\n",
    "\n",
    "for x in range (0,25):\n",
    "    file_path = '/Users/ramahuja/Library/CloudStorage/Dropbox-KoLab/ViTA Lab Datastore/users/ram/thesis/data/model_features/memnet/'+nodes_Memnet[x]+'.csv'\n",
    "\n",
    "    Memnet_layers = pd.read_csv(file_path)\n",
    "\n",
    "    activity_vectors_path = []\n",
    "\n",
    "    for column in Memnet_layers.columns:\n",
    "        try:\n",
    "            activity_vector = Memnet_layers[column].values.flatten().tolist()\n",
    "            activity_vectors_path.append(activity_vector)\n",
    "        except ValueError:\n",
    "            pass\n",
    "    \n",
    "    rdm_data_path = activity_vector_rdm(activity_vectors_path)\n",
    "\n",
    "    df = pd.DataFrame(rdm_data_path)\n",
    "    df.to_csv('/Users/ramahuja/Library/CloudStorage/Dropbox-KoLab/ViTA Lab Datastore/users/ram/thesis/data/model_features/memnet_rdm/'+nodes_Memnet[x]+'_rdm.csv', index=False)\n",
    "    print (x)"
   ]
  },
  {
   "cell_type": "code",
   "execution_count": 2,
   "metadata": {},
   "outputs": [
    {
     "name": "stdout",
     "output_type": "stream",
     "text": [
      "0\n",
      "1\n",
      "2\n",
      "3\n",
      "4\n",
      "5\n",
      "6\n",
      "7\n",
      "8\n",
      "9\n",
      "10\n",
      "11\n",
      "12\n",
      "13\n",
      "14\n",
      "15\n",
      "16\n",
      "17\n",
      "18\n",
      "19\n",
      "20\n",
      "21\n"
     ]
    },
    {
     "ename": "IndexError",
     "evalue": "list index out of range",
     "output_type": "error",
     "traceback": [
      "\u001b[0;31m---------------------------------------------------------------------------\u001b[0m",
      "\u001b[0;31mIndexError\u001b[0m                                Traceback (most recent call last)",
      "\u001b[1;32m/Users/ramahuja/Library/CloudStorage/Dropbox-KoLab/ViTA Lab Datastore/users/ram/thesis/code/RDM Comparisons/rdm_comparisons.ipynb Cell 3\u001b[0m line \u001b[0;36m4\n\u001b[1;32m      <a href='vscode-notebook-cell:/Users/ramahuja/Library/CloudStorage/Dropbox-KoLab/ViTA%20Lab%20Datastore/users/ram/thesis/code/RDM%20Comparisons/rdm_comparisons.ipynb#W2sZmlsZQ%3D%3D?line=0'>1</a>\u001b[0m nodes_Alexnet \u001b[39m=\u001b[39m [\u001b[39m'\u001b[39m\u001b[39mx\u001b[39m\u001b[39m'\u001b[39m, \u001b[39m'\u001b[39m\u001b[39mfeatures.0\u001b[39m\u001b[39m'\u001b[39m, \u001b[39m'\u001b[39m\u001b[39mfeatures.1\u001b[39m\u001b[39m'\u001b[39m, \u001b[39m'\u001b[39m\u001b[39mfeatures.2\u001b[39m\u001b[39m'\u001b[39m, \u001b[39m'\u001b[39m\u001b[39mfeatures.3\u001b[39m\u001b[39m'\u001b[39m, \u001b[39m'\u001b[39m\u001b[39mfeatures.4\u001b[39m\u001b[39m'\u001b[39m, \u001b[39m'\u001b[39m\u001b[39mfeatures.5\u001b[39m\u001b[39m'\u001b[39m, \u001b[39m'\u001b[39m\u001b[39mfeatures.6\u001b[39m\u001b[39m'\u001b[39m, \u001b[39m'\u001b[39m\u001b[39mfeatures.7\u001b[39m\u001b[39m'\u001b[39m, \u001b[39m'\u001b[39m\u001b[39mfeatures.8\u001b[39m\u001b[39m'\u001b[39m, \u001b[39m'\u001b[39m\u001b[39mfeatures.9\u001b[39m\u001b[39m'\u001b[39m, \u001b[39m'\u001b[39m\u001b[39mfeatures.10\u001b[39m\u001b[39m'\u001b[39m, \u001b[39m'\u001b[39m\u001b[39mfeatures.11\u001b[39m\u001b[39m'\u001b[39m, \u001b[39m'\u001b[39m\u001b[39mfeatures.12\u001b[39m\u001b[39m'\u001b[39m, \u001b[39m'\u001b[39m\u001b[39mavgpool\u001b[39m\u001b[39m'\u001b[39m, \u001b[39m'\u001b[39m\u001b[39mflatten\u001b[39m\u001b[39m'\u001b[39m, \u001b[39m'\u001b[39m\u001b[39mclassifier.0\u001b[39m\u001b[39m'\u001b[39m, \u001b[39m'\u001b[39m\u001b[39mclassifier.1\u001b[39m\u001b[39m'\u001b[39m, \u001b[39m'\u001b[39m\u001b[39mclassifier.2\u001b[39m\u001b[39m'\u001b[39m, \u001b[39m'\u001b[39m\u001b[39mclassifier.3\u001b[39m\u001b[39m'\u001b[39m, \u001b[39m'\u001b[39m\u001b[39mclassifier.4\u001b[39m\u001b[39m'\u001b[39m, \u001b[39m'\u001b[39m\u001b[39mclassifier.5\u001b[39m\u001b[39m'\u001b[39m]\n\u001b[1;32m      <a href='vscode-notebook-cell:/Users/ramahuja/Library/CloudStorage/Dropbox-KoLab/ViTA%20Lab%20Datastore/users/ram/thesis/code/RDM%20Comparisons/rdm_comparisons.ipynb#W2sZmlsZQ%3D%3D?line=2'>3</a>\u001b[0m \u001b[39mfor\u001b[39;00m x \u001b[39min\u001b[39;00m \u001b[39mrange\u001b[39m (\u001b[39m0\u001b[39m,\u001b[39m24\u001b[39m):\n\u001b[0;32m----> <a href='vscode-notebook-cell:/Users/ramahuja/Library/CloudStorage/Dropbox-KoLab/ViTA%20Lab%20Datastore/users/ram/thesis/code/RDM%20Comparisons/rdm_comparisons.ipynb#W2sZmlsZQ%3D%3D?line=3'>4</a>\u001b[0m     file_path \u001b[39m=\u001b[39m \u001b[39m'\u001b[39m\u001b[39m/Users/ramahuja/Library/CloudStorage/Dropbox-KoLab/ViTA Lab Datastore/users/ram/thesis/data/model_features/alexnet/\u001b[39m\u001b[39m'\u001b[39m\u001b[39m+\u001b[39mnodes_Alexnet[x]\u001b[39m+\u001b[39m\u001b[39m'\u001b[39m\u001b[39m.csv\u001b[39m\u001b[39m'\u001b[39m\n\u001b[1;32m      <a href='vscode-notebook-cell:/Users/ramahuja/Library/CloudStorage/Dropbox-KoLab/ViTA%20Lab%20Datastore/users/ram/thesis/code/RDM%20Comparisons/rdm_comparisons.ipynb#W2sZmlsZQ%3D%3D?line=5'>6</a>\u001b[0m     Alexnet_layers \u001b[39m=\u001b[39m pd\u001b[39m.\u001b[39mread_csv(file_path)\n\u001b[1;32m      <a href='vscode-notebook-cell:/Users/ramahuja/Library/CloudStorage/Dropbox-KoLab/ViTA%20Lab%20Datastore/users/ram/thesis/code/RDM%20Comparisons/rdm_comparisons.ipynb#W2sZmlsZQ%3D%3D?line=7'>8</a>\u001b[0m     activity_vectors_path \u001b[39m=\u001b[39m []\n",
      "\u001b[0;31mIndexError\u001b[0m: list index out of range"
     ]
    }
   ],
   "source": [
    "nodes_Alexnet = ['x', 'features.0', 'features.1', 'features.2', 'features.3', 'features.4', 'features.5', 'features.6', 'features.7', 'features.8', 'features.9', 'features.10', 'features.11', 'features.12', 'avgpool', 'flatten', 'classifier.0', 'classifier.1', 'classifier.2', 'classifier.3', 'classifier.4', 'classifier.5']\n",
    "\n",
    "for x in range (0,24):\n",
    "    file_path = '/Users/ramahuja/Library/CloudStorage/Dropbox-KoLab/ViTA Lab Datastore/users/ram/thesis/data/model_features/alexnet/'+nodes_Alexnet[x]+'.csv'\n",
    "\n",
    "    Alexnet_layers = pd.read_csv(file_path)\n",
    "\n",
    "    activity_vectors_path = []\n",
    "\n",
    "    for column in Alexnet_layers.columns:\n",
    "        try:\n",
    "            activity_vector = Alexnet_layers[column].values.flatten().tolist()\n",
    "            activity_vectors_path.append(activity_vector)\n",
    "        except ValueError:\n",
    "            pass\n",
    "    \n",
    "    rdm_data_path = activity_vector_rdm(activity_vectors_path)\n",
    "\n",
    "    df = pd.DataFrame(rdm_data_path)\n",
    "    df.to_csv('/Users/ramahuja/Library/CloudStorage/Dropbox-KoLab/ViTA Lab Datastore/users/ram/thesis/data/model_features/alexnet_rdm/'+nodes_Alexnet[x]+'_rdm.csv', index=False)\n",
    "    print (x)"
   ]
  },
  {
   "cell_type": "code",
   "execution_count": 3,
   "metadata": {},
   "outputs": [
    {
     "name": "stdout",
     "output_type": "stream",
     "text": [
      "0 (19900,)\n",
      "0 (19900,)\n",
      "1 (19900,)\n",
      "1 (19900,)\n",
      "2 (19900,)\n",
      "2 (19900,)\n",
      "3 (19900,)\n",
      "3 (19900,)\n",
      "4 (19900,)\n",
      "4 (19900,)\n",
      "5 (19900,)\n",
      "5 (19900,)\n",
      "6 (19900,)\n",
      "6 (19900,)\n",
      "7 (19900,)\n",
      "7 (19900,)\n",
      "8 (19900,)\n",
      "8 (19900,)\n",
      "9 (19900,)\n",
      "9 (19900,)\n",
      "10 (19900,)\n",
      "10 (19900,)\n",
      "11 (19900,)\n",
      "11 (19900,)\n",
      "12 (19900,)\n",
      "12 (19900,)\n",
      "13 (19900,)\n",
      "13 (19900,)\n",
      "14 (19900,)\n",
      "14 (19900,)\n",
      "15 (19900,)\n",
      "15 (19900,)\n",
      "16 (19900,)\n",
      "16 (19900,)\n",
      "17 (19900,)\n",
      "17 (19900,)\n",
      "18 (19900,)\n",
      "18 (19900,)\n",
      "19 (19900,)\n",
      "19 (19900,)\n",
      "20 (19900,)\n",
      "20 (19900,)\n",
      "21 (19900,)\n",
      "21 (19900,)\n"
     ]
    }
   ],
   "source": [
    "nodes_Memnet = ['x', 'conv1', 'relu1', 'pool1', 'norm1', 'conv2', 'relu2', 'pool2', 'norm2', 'conv3', 'relu3', 'conv4', 'relu4', 'conv5', 'relu5', 'pool5', 'view', 'fc6', 'relu6', 'drop6', 'fc7', 'relu7', 'drop7']\n",
    "\n",
    "nodes_Alexnet = ['x', 'features.0', 'features.1', 'features.2', 'features.3', 'features.4', 'features.5', 'features.6', 'features.7', 'features.8', 'features.9', 'features.10', 'features.11', 'features.12', 'avgpool', 'flatten', 'classifier.0', 'classifier.1', 'classifier.2', 'classifier.3', 'classifier.4', 'classifier.5']\n",
    "\n",
    "r_value = []\n",
    "layer_number = []\n",
    "\n",
    "for x in range(0,22):\n",
    "\n",
    "    memnet_path = '/Users/ramahuja/Library/CloudStorage/Dropbox-KoLab/ViTA Lab Datastore/users/ram/thesis/data/model_features/memnet_rdm/'+nodes_Memnet[x]+'_rdm.csv'\n",
    "    alexnet_path = '/Users/ramahuja/Library/CloudStorage/Dropbox-KoLab/ViTA Lab Datastore/users/ram/thesis/data/model_features/alexnet_rdm/'+nodes_Alexnet[x]+'_rdm.csv'\n",
    "    \n",
    "    rdm_memnet_df = pd.read_csv(memnet_path)\n",
    "    rdm_alexnet_df = pd.read_csv(alexnet_path)\n",
    "\n",
    "    # Make sure that the DataFrames are square matrices\n",
    "    assert rdm_memnet_df.shape[0] == rdm_memnet_df.shape[1], \"RDM DataFrame is not a square matrix\"\n",
    "    assert rdm_alexnet_df.shape[0] == rdm_alexnet_df.shape[1], \"RDM DataFrame is not a square matrix\"\n",
    "\n",
    "    # Convert the DataFrames to NumPy arrays\n",
    "    rdm_memnet = rdm_memnet_df.to_numpy()\n",
    "    rdm_alexnet = rdm_alexnet_df.to_numpy()\n",
    "    \n",
    "    # Use the `upper` function to get the upper triangle of the arrays\n",
    "    rdm_memnet_upper = upper(rdm_memnet)\n",
    "    rdm_alexnet_upper = upper(rdm_alexnet)\n",
    "    \n",
    "    print(x, rdm_memnet_upper.shape)\n",
    "    print(x, rdm_alexnet_upper.shape)\n",
    "    \n",
    "    # Calculate Spearman's correlation\n",
    "    spearman_r, _ = spearmanr(rdm_memnet_upper, rdm_alexnet_upper)\n",
    "    \n",
    "    r_value.append(spearman_r)\n",
    "    layer_number.append(x)\n",
    "\n"
   ]
  },
  {
   "cell_type": "code",
   "execution_count": 4,
   "metadata": {},
   "outputs": [
    {
     "data": {
      "text/plain": [
       "(0.0, 1.0)"
      ]
     },
     "execution_count": 4,
     "metadata": {},
     "output_type": "execute_result"
    },
    {
     "data": {
      "image/png": "[encoded data removed]",
      "text/plain": [
       "<Figure size 432x288 with 1 Axes>"
      ]
     },
     "metadata": {
      "needs_background": "light"
     },
     "output_type": "display_data"
    }
   ],
   "source": [
    "plt.plot(layer_number,r_value)\n",
    "\n",
    "plt.xlabel('Layer')\n",
    "plt.ylabel('R')\n",
    "\n",
    "plt.ylim(0, 1)"
   ]
  }
 ],
 "metadata": {
  "kernelspec": {
   "display_name": "feature",
   "language": "python",
   "name": "python3"
  },
  "language_info": {
   "codemirror_mode": {
    "name": "ipython",
    "version": 3
   },
   "file_extension": ".py",
   "mimetype": "text/x-python",
   "name": "python",
   "nbconvert_exporter": "python",
   "pygments_lexer": "ipython3",
   "version": "3.8.18"
  }
 },
 "nbformat": 4,
 "nbformat_minor": 2
}
