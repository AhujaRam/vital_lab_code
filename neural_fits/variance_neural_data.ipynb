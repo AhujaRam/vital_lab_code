{
 "cells": [
  {
   "cell_type": "markdown",
   "metadata": {},
   "source": [
    "import all dependencies"
   ]
  },
  {
   "cell_type": "code",
   "execution_count": 31,
   "metadata": {},
   "outputs": [],
   "source": [
    "import h5py\n",
    "import numpy as np\n",
    "import matplotlib.pyplot as plt\n",
    "\n",
    "import pandas as pd\n"
   ]
  },
  {
   "cell_type": "code",
   "execution_count": 32,
   "metadata": {},
   "outputs": [],
   "source": [
    "from models_predictions import get_modelpredictions, predictivity, get_model_neural_splithalfcorr"
   ]
  },
  {
   "cell_type": "code",
   "execution_count": 33,
   "metadata": {},
   "outputs": [
    {
     "name": "stdout",
     "output_type": "stream",
     "text": [
      "Keys: <KeysViewHDF5 ['monkey1']>\n",
      "\n",
      "Group:  monkey1\n",
      "Datasets:  ['rates']\n"
     ]
    }
   ],
   "source": [
    "import h5py\n",
    "\n",
    "\n",
    "file_path = '/Users/ramahuja/Library/CloudStorage/Dropbox-KoLab/ViTA Lab Datastore/users/ram/thesis/data/neural/coco_neural.h5'\n",
    "\n",
    "try:\n",
    "    with h5py.File(file_path, 'r') as file:\n",
    "        # List all groups\n",
    "        print(\"Keys: %s\" % file.keys())\n",
    "        for key in file.keys():\n",
    "            print(\"\\nGroup: \", key)\n",
    "            # Get the object by key\n",
    "            data = file[key]\n",
    "            # Check if the object is a group (folder) or a dataset (file)\n",
    "            if isinstance(data, h5py.Group):\n",
    "                # It's a group, list all datasets in this group\n",
    "                print(\"Datasets: \", list(data.keys()))\n",
    "            elif isinstance(data, h5py.Dataset):\n",
    "                # It's a dataset, display its shape\n",
    "                print(\"Shape: \", data.shape)\n",
    "except Exception as e:\n",
    "    print(\"Error: \", str(e))"
   ]
  },
  {
   "cell_type": "code",
   "execution_count": 30,
   "metadata": {},
   "outputs": [
    {
     "name": "stdout",
     "output_type": "stream",
     "text": [
      "(200, 4096)\n"
     ]
    }
   ],
   "source": [
    "csv_file = pd.read_csv('/Users/ramahuja/Library/CloudStorage/Dropbox-KoLab/ViTA Lab Datastore/users/ram/thesis/data/model_features/alexnet/classifier.4.csv')\n",
    "alexnet = csv_file.to_numpy()\n",
    "mf = alexnet.T\n",
    "\n",
    "print (mf.shape)"
   ]
  },
  {
   "cell_type": "code",
   "execution_count": 34,
   "metadata": {},
   "outputs": [],
   "source": [
    "csv_file = pd.read_csv('/Users/ramahuja/Library/CloudStorage/Dropbox-KoLab/ViTA Lab Datastore/users/ram/thesis/data/model_features/alexnet/classifier.4.csv')\n",
    "alexnet = csv_file.to_numpy()\n",
    "mf = alexnet.T\n",
    "file_name = '/Users/ramahuja/Library/CloudStorage/Dropbox-KoLab/ViTA Lab Datastore/users/ram/thesis/data/neural/coco_neural.h5'  \n",
    "\n",
    "with h5py.File(file_name, 'r') as file:\n",
    "    data = file['monkey1/rates']  \n",
    "    neuron_data_dict = {}\n",
    "\n",
    "    for neuron_index in range(data.shape[1]):\n",
    "        neuron_data = data[:, neuron_index, :]\n",
    "\n",
    "        neuron_data_dict[neuron_index] = neuron_data\n",
    "\n",
    "ev_alexnet = []\n",
    "\n",
    "for neuron_index, rates in neuron_data_dict.items():\n",
    "    rates = np.array(rates)\n",
    "\n",
    "    p = get_modelpredictions(rates, mf, ncomp=20)  \n",
    "\n",
    "\n",
    "    mshc, nshc = get_model_neural_splithalfcorr(rates, mf, ncomp=20)\n",
    "\n",
    "    ev, rc, nrc = predictivity(np.mean(rates, axis=1), p, nshc, mshc)\n",
    "\n",
    "    ev_alexnet.append(ev)\n",
    "\n"
   ]
  },
  {
   "cell_type": "code",
   "execution_count": null,
   "metadata": {},
   "outputs": [
    {
     "name": "stdout",
     "output_type": "stream",
     "text": [
      "(200, 9216)\n",
      "(200, 42)\n"
     ]
    }
   ],
   "source": [
    "print (mf.shape)\n",
    "\n",
    "first_item = neuron_data_dict[next(iter(neuron_data_dict))]\n",
    "\n",
    "print (first_item.shape)"
   ]
  },
  {
   "cell_type": "code",
   "execution_count": null,
   "metadata": {},
   "outputs": [
    {
     "name": "stdout",
     "output_type": "stream",
     "text": [
      "(200, 100, 42)\n"
     ]
    }
   ],
   "source": [
    "print (data.shape)"
   ]
  },
  {
   "cell_type": "code",
   "execution_count": null,
   "metadata": {},
   "outputs": [],
   "source": [
    "csv_file_mement = pd.read_csv('/Users/ramahuja/Library/CloudStorage/Dropbox-KoLab/ViTA Lab Datastore/users/ram/thesis/data/model_features/memnet/fc6.csv')\n",
    "memnet = csv_file_mement.to_numpy()\n",
    "mf_memnet = memnet.T\n",
    "file_name = '/Users/ramahuja/Library/CloudStorage/Dropbox-KoLab/ViTA Lab Datastore/users/ram/thesis/data/neural/coco_neural.h5'  \n",
    "\n",
    "with h5py.File(file_name, 'r') as file:\n",
    "    data = file['monkey1/rates']  \n",
    "    neuron_data_dict_memnet = {}\n",
    "\n",
    "    for neuron_index in range(data.shape[1]):\n",
    "        neuron_data = data[:, neuron_index, :]\n",
    "\n",
    "        neuron_data_dict_memnet[neuron_index] = neuron_data\n",
    "\n",
    "ev_memnet = []\n",
    "\n",
    "for neuron_index, rates in neuron_data_dict_memnet.items():\n",
    "    rates = np.array(rates)\n",
    "\n",
    "    p = get_modelpredictions(rates, mf_memnet, ncomp=20)  \n",
    "\n",
    "\n",
    "    mshc, nshc = get_model_neural_splithalfcorr(rates, mf_memnet, ncomp=20)\n",
    "\n",
    "    ev, rc, nrc = predictivity(np.mean(rates, axis=1), p, nshc, mshc)\n",
    "\n",
    "    ev_memnet.append(ev)\n"
   ]
  },
  {
   "cell_type": "code",
   "execution_count": null,
   "metadata": {},
   "outputs": [
    {
     "name": "stdout",
     "output_type": "stream",
     "text": [
      "(200, 4096)\n",
      "(200, 42)\n"
     ]
    }
   ],
   "source": [
    "print (mf_memnet.shape)\n",
    "\n",
    "first_item = neuron_data_dict_memnet[next(iter(neuron_data_dict_memnet))]\n",
    "\n",
    "print (first_item.shape)"
   ]
  },
  {
   "cell_type": "code",
   "execution_count": null,
   "metadata": {},
   "outputs": [
    {
     "name": "stdout",
     "output_type": "stream",
     "text": [
      "[2.3221711746113116, 1.0304542898148696, 9.992955577552035, 0.9832235343631408, 2.369899683099174, 7.091456772113805, nan, 1.5104009694233274, 4.176705951509165, 2.2161775340082563, 2.00944130964169, 0.1480114004476685, 1.8911347036173163, 1.5728541964075577, 0.7935648674216733, 0.002190508859650696, 33.0001372248496, 0.5353696670457112, 43.50114227251746, 0.006045079555402011, 7.101923999860897, 1.8174083638733223, 0.16633111866458825, 0.04584967233579119, 0.9243228454274345, 2.184276068030253, nan, nan, 2.060304049151502, 2.3146024510399874, nan, 0.44256456371339703, 0.5526713084030442, 0.45229730976520066, nan, 1.5799498125046847, 10.222155959277995, 1.0073875929546632, nan, 5.21054487074011, 10.937259112729524, 62.593074710785125, 0.3735005008703612, 2.3925222538372926, 5.108277139309025, 8.159372233669556, 0.18487681203197662, nan, 2.4134276849889016, 8.583934408264103, 7.314382272075731, 9.818228284945874, 22.785517041916957, nan, 26.026825288172674, 9.647924484033641, 45.298074436033744, 3.0882964222790847, 30.57772438203929, 0.7803696981122946, 4.318330148202899, nan, 26.50505618325508, 0.2248272618164452, nan, nan, 75.20877550165743, 14.193136034960544, 154.37052276768614, 15.90253887459866, 1.859878454493105, 4.286258122994313, 0.3696934174121858, 0.572904774116658, 315.7456231794378, 14.937920455828484, nan, 3.158591620882033, 3.8586610920614146, 2.203153620175449, 0.20130060358667393, 4.068669391101942, nan, nan, 0.5318862575604477, 3.2785722056386644, 24.596747657751745, 0.22130554452060724, 0.019615310239191823, 2.005312855074214, 0.14113793480610748, 5.963613790719696, 54.52462570215823, 1.5788313285988997, nan, 0.09378869492991988, 4.622091237256241, 1.1652138693278704, 18.721128602487454, 2.7337083525913335]\n",
      "[41.673342790119776, 13.802048946999045, 29.47423444630754, 25.23342423326576, 30.214173089472794, 40.37604163415821, 66.4850334276454, 65.54875631078096, 42.58746863152806, 26.095576967042717, 61.36052926755939, 26.435645560500415, 19.34742693235913, 20.79639379259019, 19.041444680026117, 15.388461040436002, 9.774220573946875, 18.301686920163444, 43.810565402586946, 19.59188977693353, 36.183409894495156, 19.717732539694644, 8.321546823094073, 4.954470014920787, 23.066961136162966, 26.33297245950459, 50.09803708796768, 29.60122152930454, 38.0951873166334, 32.87797313403868, 36.36585526820718, 8.379519625801393, 21.50718745398861, 4.913753812699311, 27.105522365932156, 12.729741480798848, 21.457998155128013, 26.09635123240914, 28.71188365383172, 5.244756613962817, 50.215413885758885, 26.803433243321408, 53.070972821793475, 31.11588707479666, 4.962847571598274, 7.306266435314466, 27.595948047510976, 61.43466492160843, 37.84167605535774, 11.748246901208068, 21.953821221480187, 36.38321608379541, 28.654927102265177, 20.253947172714224, 26.23649784374176, 57.70470470574853, 23.75002011902728, 42.07103834155654, 37.44990329469919, 39.096383852671515, 39.46132402019556, 51.19064297310092, 41.94983134008007, 40.406771710285895, 77.02871940885989, 53.0355214351412, 45.38645565840416, 69.89386084255769, 46.72526289266264, 42.39301873497984, 16.664816227994248, 51.04225108150119, 5.509834709271029, 11.559824319090037, 65.35744233185783, 44.01156541160096, 43.4124892006586, 26.915204642895517, 46.10049850181418, 23.136222785735512, 6.329110519357674, 23.27962462853431, 37.744756729408515, 13.55643150448207, 28.074348620674694, 49.12957658603367, 31.472665489227992, 40.29856902092128, 22.469320574961067, 40.10355505055201, 26.33840620077042, 17.33900848500252, 26.670753018571425, 10.860776560274733, 9.638946457182799, 11.06400930736081, 15.683158388338208, 2.1064832682152095, 44.97611721321826, 32.93171357000658]\n"
     ]
    }
   ],
   "source": [
    "print (ev_alexnet)\n",
    "\n",
    "print (ev_memnet)"
   ]
  },
  {
   "cell_type": "markdown",
   "metadata": {},
   "source": [
    "Read all the data"
   ]
  },
  {
   "cell_type": "code",
   "execution_count": null,
   "metadata": {},
   "outputs": [
    {
     "data": {
      "image/png": "[encoded data removed]",
      "text/plain": [
       "<Figure size 432x288 with 1 Axes>"
      ]
     },
     "metadata": {
      "needs_background": "light"
     },
     "output_type": "display_data"
    }
   ],
   "source": [
    "#fig_size = 6  # 6 inches by 6 inches square figure\n",
    "\n",
    "# Create the figure with the desired size\n",
    "#plt.figure(figsize=(fig_size, fig_size))\n",
    "\n",
    "# Create scatter plot with error bars\n",
    "plt.scatter(ev_memnet, ev_alexnet)\n",
    "\n",
    "# Title and labels\n",
    "plt.title('Scatter Plot')\n",
    "plt.xlabel('MemNet Predicatability')\n",
    "plt.ylabel('AlexNet Predicatability')\n",
    "\n",
    "# Remove right and top spines\n",
    "# plt.gca().spines['right'].set_visible(False)\n",
    "# plt.gca().spines['top'].set_visible(False)\n",
    "\n",
    "plt.gca().set_aspect('equal', 'box')\n",
    "\n",
    "plt.plot([0, 100], [0, 100], color='blue', linestyle='--', linewidth=2, label='x=y Line')\n",
    "\n",
    "plt.xlim(0, 100)\n",
    "plt.ylim(0, 100)\n",
    "\n",
    "# Show the plot with a tight layout to ensure all data is visible\n",
    "plt.tight_layout()\n",
    "plt.show()"
   ]
  },
  {
   "cell_type": "code",
   "execution_count": null,
   "metadata": {},
   "outputs": [
    {
     "data": {
      "image/png": "[encoded data removed]",
      "text/plain": [
       "<Figure size 432x288 with 1 Axes>"
      ]
     },
     "metadata": {
      "needs_background": "light"
     },
     "output_type": "display_data"
    }
   ],
   "source": [
    "fig = plt.figure()\n",
    "ax = fig.add_subplot(111)\n",
    "plt.scatter(p,np.mean(rates,axis=1))\n",
    "plt.ylabel('Neural Firing Rates')\n",
    "plt.xlabel('Model Predictions')\n",
    "plt.plot([0,3],[0,3],'k')\n",
    "plt.xlim(0.5,3)\n",
    "plt.ylim(0.5,3)\n",
    "ax.set_aspect(aspect=1)\n",
    "plt.show()"
   ]
  }
 ],
 "metadata": {
  "kernelspec": {
   "display_name": "Python 3",
   "language": "python",
   "name": "python3"
  },
  "language_info": {
   "codemirror_mode": {
    "name": "ipython",
    "version": 3
   },
   "file_extension": ".py",
   "mimetype": "text/x-python",
   "name": "python",
   "nbconvert_exporter": "python",
   "pygments_lexer": "ipython3",
   "version": "3.8.18"
  }
 },
 "nbformat": 4,
 "nbformat_minor": 4
}
