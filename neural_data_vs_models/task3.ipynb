{
 "cells": [
  {
   "cell_type": "code",
   "execution_count": 1,
   "metadata": {},
   "outputs": [],
   "source": [
    "import torch\n",
    "import matplotlib.pyplot as plt\n",
    "from models import MemNet\n",
    "from LaMemDataset import LaMemEvalDataset\n",
    "from torchvision import transforms\n",
    "import numpy as np\n",
    "import PIL.Image\n",
    "from PIL import Image\n",
    "from torchvision.models.feature_extraction import get_graph_node_names, create_feature_extractor\n",
    "from matplotlib.colors import LinearSegmentedColormap\n",
    "\n",
    "import pandas as pd\n",
    "\n",
    "from layer_activity import features\n",
    "\n",
    "import torchvision.models as Alexnet\n",
    "from torchvision import transforms\n",
    "\n",
    "import torch\n",
    "import torchvision.models as models\n",
    "\n",
    "from scipy import stats"
   ]
  },
  {
   "cell_type": "code",
   "execution_count": 2,
   "metadata": {},
   "outputs": [],
   "source": [
    "import numpy as np\n",
    "from scipy.spatial import distance\n",
    "import pandas as pd\n",
    "import math\n",
    "import os\n",
    "import nibabel as nib\n",
    "import seaborn as sns\n",
    "import matplotlib.pyplot as plt\n",
    "from glob import glob\n",
    "from nilearn import image, datasets, plotting, masking\n",
    "\n",
    "from rdm_plot_function import plot_rdm\n",
    "from rdm_calc_function import activity_vector_rdm\n",
    "\n",
    "import matplotlib.pyplot as plt\n",
    "from scipy.stats import spearmanr\n",
    "import matplotlib.pyplot as plt\n",
    "\n",
    "import random\n",
    "\n",
    "import csv\n",
    "\n",
    "def upper(df):\n",
    "    try:\n",
    "        assert(type(df)==np.ndarray)\n",
    "    except:\n",
    "        if type(df)==pd.DataFrame:\n",
    "            df = df.values\n",
    "        else:\n",
    "            raise TypeError('Must be np.ndarray or pd.DataFrame')\n",
    "    mask = np.triu_indices(df.shape[0], k=1)\n",
    "    return df[mask]"
   ]
  },
  {
   "cell_type": "code",
   "execution_count": 4,
   "metadata": {},
   "outputs": [],
   "source": [
    "memnet_path = '/Users/ramahuja/Library/CloudStorage/Dropbox-KoLab/ViTA Lab Datastore/users/ram/thesis/data/model_features/memnet_rdm/fc7_rdm.csv'\n",
    "alexnet_path = '/Users/ramahuja/Library/CloudStorage/Dropbox-KoLab/ViTA Lab Datastore/users/ram/thesis/data/model_features/alexnet_rdm/features.12_rdm.csv'\n",
    "resnet_50_path = '/Users/ramahuja/Library/CloudStorage/Dropbox-KoLab/ViTA Lab Datastore/users/ram/thesis/data/model_features/resnet50/layer3.2.bn1.csv'\n",
    "resnet_18_path = '/Users/ramahuja/Library/CloudStorage/Dropbox-KoLab/ViTA Lab Datastore/users/ram/thesis/data/model_features/resnet18/layer3.1.bn2.csv'\n",
    "resnet_101_path = '/Users/ramahuja/Library/CloudStorage/Dropbox-KoLab/ViTA Lab Datastore/users/ram/thesis/data/model_features/resnet101/ITlayer_resnet101.csv'\n",
    "vgg16_path = '/Users/ramahuja/Library/CloudStorage/Dropbox-KoLab/ViTA Lab Datastore/users/ram/thesis/data/model_features/vgg16/ITlayer_vgg16.csv'\n",
    "vgg19_path = '/Users/ramahuja/Library/CloudStorage/Dropbox-KoLab/ViTA Lab Datastore/users/ram/thesis/data/model_features/vgg19/ITlayer_vgg19.csv'\n",
    "googlenet_path = '/Users/ramahuja/Library/CloudStorage/Dropbox-KoLab/ViTA Lab Datastore/users/ram/thesis/data/model_features/googlenet/ITlayer_googlenet.csv'\n",
    "inception_path = '/Users/ramahuja/Library/CloudStorage/Dropbox-KoLab/ViTA Lab Datastore/users/ram/thesis/data/model_features/inception/ITlayer_inception.csv'\n",
    "densenet_path = '/Users/ramahuja/Library/CloudStorage/Dropbox-KoLab/ViTA Lab Datastore/users/ram/thesis/data/model_features/densenet/ITlayer_densenet.csv'\n",
    "mobilenet_v2_path = '/Users/ramahuja/Library/CloudStorage/Dropbox-KoLab/ViTA Lab Datastore/users/ram/thesis/data/model_features/mobilenet_v2/ITlayer_mobilenet_v2.csv'\n",
    "squeezenet_path = '/Users/ramahuja/Library/CloudStorage/Dropbox-KoLab/ViTA Lab Datastore/users/ram/thesis/data/model_features/squeezenet/ITlayer_squeezenet.csv'\n",
    "shufflenet_v2_path = '/Users/ramahuja/Library/CloudStorage/Dropbox-KoLab/ViTA Lab Datastore/users/ram/thesis/data/model_features/shufflenet_v2/ITlayer_shufflenet_v2.csv'\n",
    "mnasnet_path = '/Users/ramahuja/Library/CloudStorage/Dropbox-KoLab/ViTA Lab Datastore/users/ram/thesis/data/model_features/mnasnet/ITlayer_mnasnet.csv'\n",
    "resnext_path = '/Users/ramahuja/Library/CloudStorage/Dropbox-KoLab/ViTA Lab Datastore/users/ram/thesis/data/model_features/resnext/ITlayer_resnext.csv'\n",
    "wide_resnet_path = '/Users/ramahuja/Library/CloudStorage/Dropbox-KoLab/ViTA Lab Datastore/users/ram/thesis/data/model_features/wide_resnet/ITlayer_wide_resnet.csv'\n",
    "\n"
   ]
  },
  {
   "cell_type": "code",
   "execution_count": 5,
   "metadata": {},
   "outputs": [
    {
     "name": "stdout",
     "output_type": "stream",
     "text": [
      "(200, 200)\n"
     ]
    }
   ],
   "source": [
    "rdm_memnet_df = pd.read_csv(memnet_path)\n",
    "rdm_alexnet_df = pd.read_csv(alexnet_path)\n",
    "\n",
    "\n",
    "print (rdm_memnet_df.shape)"
   ]
  },
  {
   "cell_type": "code",
   "execution_count": 9,
   "metadata": {},
   "outputs": [],
   "source": [
    "from rdm_calc_function import activity_vector_rdm\n",
    "\n",
    "resnet_50 = pd.read_csv(resnet_50_path)\n",
    "\n",
    "\n",
    "rdm_resnet_50 = []\n",
    "for column in resnet_50.columns:\n",
    "        try:\n",
    "            activity_vector = resnet_50[column].astype(float).tolist()\n",
    "            rdm_resnet_50.append(activity_vector)\n",
    "        except ValueError:\n",
    "            pass\n",
    "\n",
    "rdm_resnet_50_df = activity_vector_rdm(rdm_resnet_50)\n"
   ]
  },
  {
   "cell_type": "code",
   "execution_count": 31,
   "metadata": {},
   "outputs": [],
   "source": [
    "resnet_18 = pd.read_csv(resnet_18_path)\n",
    "\n",
    "rdm_resnet_18 = []\n",
    "for column in resnet_18.columns:\n",
    "        try:\n",
    "            activity_vector = resnet_18[column].astype(float).tolist()\n",
    "            rdm_resnet_18.append(activity_vector)\n",
    "        except ValueError:\n",
    "            pass\n",
    "\n",
    "rdm_resnet_18_df = activity_vector_rdm(rdm_resnet_18)"
   ]
  },
  {
   "cell_type": "code",
   "execution_count": 21,
   "metadata": {},
   "outputs": [],
   "source": [
    "resnet_101 = pd.read_csv(resnet_101_path)\n",
    "\n",
    "rdm_resnet_101 = []\n",
    "for column in resnet_101.columns:\n",
    "        try:\n",
    "            activity_vector = resnet_101[column].astype(float).tolist()\n",
    "            rdm_resnet_101.append(activity_vector)\n",
    "        except ValueError:\n",
    "            pass\n",
    "\n",
    "rdm_resnet_101_df = activity_vector_rdm(rdm_resnet_101)"
   ]
  },
  {
   "cell_type": "code",
   "execution_count": 24,
   "metadata": {},
   "outputs": [],
   "source": [
    "vgg16 = pd.read_csv(vgg16_path)\n",
    "\n",
    "rdm_vgg16 = []\n",
    "for column in vgg16.columns:\n",
    "        try:\n",
    "            activity_vector = vgg16[column].astype(float).tolist()\n",
    "            rdm_vgg16.append(activity_vector)\n",
    "        except ValueError:\n",
    "            pass\n",
    "\n",
    "rdm_vgg16_df = activity_vector_rdm(rdm_vgg16)"
   ]
  },
  {
   "cell_type": "code",
   "execution_count": 25,
   "metadata": {},
   "outputs": [],
   "source": [
    "vgg19 = pd.read_csv(vgg19_path)\n",
    "\n",
    "rdm_vgg19 = []\n",
    "for column in vgg19.columns:\n",
    "        try:\n",
    "            activity_vector = vgg19[column].astype(float).tolist()\n",
    "            rdm_vgg19.append(activity_vector)\n",
    "        except ValueError:\n",
    "            pass\n",
    "\n",
    "rdm_vgg19_df = activity_vector_rdm(rdm_vgg19)"
   ]
  },
  {
   "cell_type": "code",
   "execution_count": 26,
   "metadata": {},
   "outputs": [],
   "source": [
    "googlenet = pd.read_csv(googlenet_path)\n",
    "\n",
    "rdm_googlenet = []\n",
    "for column in googlenet.columns:\n",
    "        try:\n",
    "            activity_vector = googlenet[column].astype(float).tolist()\n",
    "            rdm_googlenet.append(activity_vector)\n",
    "        except ValueError:\n",
    "            pass\n",
    "\n",
    "rdm_googlenet_df = activity_vector_rdm(rdm_googlenet)"
   ]
  },
  {
   "cell_type": "code",
   "execution_count": 27,
   "metadata": {},
   "outputs": [],
   "source": [
    "inception = pd.read_csv(inception_path)\n",
    "\n",
    "rdm_inception = []\n",
    "for column in inception.columns:\n",
    "        try:\n",
    "            activity_vector = inception[column].astype(float).tolist()\n",
    "            rdm_inception.append(activity_vector)\n",
    "        except ValueError:\n",
    "            pass\n",
    "\n",
    "rdm_inception_df = activity_vector_rdm(rdm_inception)"
   ]
  },
  {
   "cell_type": "code",
   "execution_count": 28,
   "metadata": {},
   "outputs": [],
   "source": [
    "mobilenet_v2 = pd.read_csv(mobilenet_v2_path)\n",
    "\n",
    "rdm_mobilenet_v2 = []\n",
    "for column in mobilenet_v2.columns:\n",
    "        try:\n",
    "            activity_vector = mobilenet_v2[column].astype(float).tolist()\n",
    "            rdm_mobilenet_v2.append(activity_vector)\n",
    "        except ValueError:\n",
    "            pass\n",
    "\n",
    "rdm_mobilenet_v2_df = activity_vector_rdm(rdm_mobilenet_v2)"
   ]
  },
  {
   "cell_type": "code",
   "execution_count": 29,
   "metadata": {},
   "outputs": [],
   "source": [
    "squeezenet = pd.read_csv(squeezenet_path)\n",
    "\n",
    "rdm_squeezenet = []\n",
    "for column in squeezenet.columns:\n",
    "        try:\n",
    "            activity_vector = squeezenet[column].astype(float).tolist()\n",
    "            rdm_squeezenet.append(activity_vector)\n",
    "        except ValueError:\n",
    "            pass\n",
    "\n",
    "rdm_squeezenet_df = activity_vector_rdm(rdm_squeezenet)"
   ]
  },
  {
   "cell_type": "code",
   "execution_count": 30,
   "metadata": {},
   "outputs": [],
   "source": [
    "shufflenet = pd.read_csv(shufflenet_v2_path)\n",
    "\n",
    "rdm_shufflenet = []\n",
    "for column in shufflenet.columns:\n",
    "        try:\n",
    "            activity_vector = shufflenet[column].astype(float).tolist()\n",
    "            rdm_shufflenet.append(activity_vector)\n",
    "        except ValueError:\n",
    "            pass\n",
    "\n",
    "rdm_shufflenet_df = activity_vector_rdm(rdm_shufflenet)"
   ]
  },
  {
   "cell_type": "code",
   "execution_count": 32,
   "metadata": {},
   "outputs": [],
   "source": [
    "mnasnet = pd.read_csv(mnasnet_path)\n",
    "\n",
    "rdm_mnasnet = []\n",
    "for column in mnasnet.columns:\n",
    "        try:\n",
    "            activity_vector = mnasnet[column].astype(float).tolist()\n",
    "            rdm_mnasnet.append(activity_vector)\n",
    "        except ValueError:\n",
    "            pass\n",
    "\n",
    "rdm_mnasnet_df = activity_vector_rdm(rdm_mnasnet)"
   ]
  },
  {
   "cell_type": "code",
   "execution_count": 33,
   "metadata": {},
   "outputs": [],
   "source": [
    "resnext = pd.read_csv(resnext_path)\n",
    "\n",
    "rdm_resnext = []\n",
    "for column in resnext.columns:\n",
    "        try:\n",
    "            activity_vector = resnext[column].astype(float).tolist()\n",
    "            rdm_resnext.append(activity_vector)\n",
    "        except ValueError:\n",
    "            pass\n",
    "\n",
    "rdm_resnext_df = activity_vector_rdm(rdm_resnext)"
   ]
  },
  {
   "cell_type": "code",
   "execution_count": 34,
   "metadata": {},
   "outputs": [],
   "source": [
    "wide_resnet = pd.read_csv(wide_resnet_path)\n",
    "\n",
    "rdm_wide_resnet = []\n",
    "for column in resnext.columns:\n",
    "        try:\n",
    "            activity_vector = wide_resnet[column].astype(float).tolist()\n",
    "            rdm_wide_resnet.append(activity_vector)\n",
    "        except ValueError:\n",
    "            pass\n",
    "\n",
    "rdm_wide_resnet_df = activity_vector_rdm(rdm_wide_resnet)"
   ]
  },
  {
   "cell_type": "code",
   "execution_count": 35,
   "metadata": {},
   "outputs": [],
   "source": [
    "densenet = pd.read_csv(densenet_path)\n",
    "\n",
    "rdm_densenet = []\n",
    "for column in resnext.columns:\n",
    "        try:\n",
    "            activity_vector = densenet[column].astype(float).tolist()\n",
    "            rdm_densenet.append(activity_vector)\n",
    "        except ValueError:\n",
    "            pass\n",
    "\n",
    "rdm_densenet_df = activity_vector_rdm(rdm_densenet)"
   ]
  },
  {
   "cell_type": "code",
   "execution_count": 36,
   "metadata": {},
   "outputs": [
    {
     "name": "stdout",
     "output_type": "stream",
     "text": [
      "(200, 100, 42)\n"
     ]
    }
   ],
   "source": [
    "import h5py\n",
    "import numpy as np\n",
    "import matplotlib.pyplot as plt\n",
    "\n",
    "import pandas as pd\n",
    "file_path = '/Users/ramahuja/Library/CloudStorage/Dropbox-KoLab/ViTA Lab Datastore/users/ram/thesis/data/neural/coco_neural.h5'\n",
    "\n",
    "with h5py.File(file_path, 'r') as f:\n",
    "    # Access the 'monkey1' group\n",
    "    monkey1_group = f['monkey1']\n",
    "\n",
    "    # Access the 'rates' dataset within the 'monkey1' group\n",
    "    rates = np.array(monkey1_group['rates'])\n",
    "    print(rates.shape)\n"
   ]
  },
  {
   "cell_type": "code",
   "execution_count": 37,
   "metadata": {},
   "outputs": [
    {
     "name": "stdout",
     "output_type": "stream",
     "text": [
      "(200, 100)\n"
     ]
    }
   ],
   "source": [
    "import numpy as np\n",
    "\n",
    "average_rates = np.mean(rates, axis=2)\n",
    "\n",
    "print(average_rates.shape)\n"
   ]
  },
  {
   "cell_type": "code",
   "execution_count": 38,
   "metadata": {},
   "outputs": [
    {
     "name": "stdout",
     "output_type": "stream",
     "text": [
      "(200, 200)\n"
     ]
    }
   ],
   "source": [
    "from rdm_calc_function import activity_vector_rdm\n",
    "\n",
    "neural_rdm = activity_vector_rdm(average_rates)\n",
    "print (neural_rdm.shape)"
   ]
  },
  {
   "cell_type": "code",
   "execution_count": 39,
   "metadata": {},
   "outputs": [],
   "source": [
    "import matplotlib.pyplot as plt\n",
    "from scipy.stats import spearmanr\n",
    "import matplotlib.pyplot as plt\n",
    "\n",
    "import random\n",
    "\n",
    "import csv\n",
    "def upper(df):\n",
    "    try:\n",
    "        assert(type(df)==np.ndarray)\n",
    "    except:\n",
    "        if type(df)==pd.DataFrame:\n",
    "            df = df.values\n",
    "        else:\n",
    "            raise TypeError('Must be np.ndarray or pd.DataFrame')\n",
    "    mask = np.triu_indices(df.shape[0], k=1)\n",
    "    return df[mask]\n",
    "\n",
    "neural_rdm_upper = upper(neural_rdm)\n",
    "rdm_memnet_upper = upper(rdm_memnet_df)\n",
    "rdm_alexnet_upper = upper(rdm_alexnet_df)\n",
    "rdm_resnet_50_upper = upper(rdm_resnet_50_df)\n",
    "rdm_resnet_18_upper = upper(rdm_resnet_18_df)\n",
    "rdm_resnet_101_upper = upper(rdm_resnet_101_df)\n",
    "rdm_vgg16_upper = upper(rdm_vgg16_df)\n",
    "rdm_vgg19_upper = upper(rdm_vgg19_df)\n",
    "rdm_googlenet_upper = upper(rdm_googlenet_df)\n",
    "rdm_inception_upper = upper(rdm_inception_df)\n",
    "rdm_mobilenet_v2_upper = upper(rdm_mobilenet_v2_df)\n",
    "rdm_shufflenet_v2_upper = upper(rdm_shufflenet_df)\n",
    "rdm_mnasnet_upper = upper(rdm_mnasnet_df)\n",
    "rdm_squeezenet_upper = upper(rdm_squeezenet_df)\n",
    "rdm_resnext_upper = upper(rdm_resnext_df)\n",
    "rdm_wide_resnet_upper = upper(rdm_wide_resnet_df)\n",
    "rdm_densenet_upper = upper(rdm_densenet_df)"
   ]
  },
  {
   "cell_type": "code",
   "execution_count": 40,
   "metadata": {},
   "outputs": [
    {
     "name": "stdout",
     "output_type": "stream",
     "text": [
      "0.26266252355865527\n"
     ]
    }
   ],
   "source": [
    "spearman_r_Memnet, _ = spearmanr(rdm_memnet_upper, neural_rdm_upper)\n",
    "\n",
    "print (spearman_r_Memnet)"
   ]
  },
  {
   "cell_type": "code",
   "execution_count": 41,
   "metadata": {},
   "outputs": [
    {
     "name": "stdout",
     "output_type": "stream",
     "text": [
      "0.2964425640899807\n"
     ]
    }
   ],
   "source": [
    "spearman_r_Alexnet, _ = spearmanr(rdm_alexnet_upper, neural_rdm_upper)\n",
    "\n",
    "print (spearman_r_Alexnet)"
   ]
  },
  {
   "cell_type": "code",
   "execution_count": 42,
   "metadata": {},
   "outputs": [
    {
     "name": "stdout",
     "output_type": "stream",
     "text": [
      "-0.034916177045331814\n"
     ]
    }
   ],
   "source": [
    "spearman_r_resnet_50, _ = spearmanr(rdm_resnet_50_upper, neural_rdm_upper)\n",
    "\n",
    "print (spearman_r_resnet_50)"
   ]
  },
  {
   "cell_type": "code",
   "execution_count": 43,
   "metadata": {},
   "outputs": [
    {
     "name": "stdout",
     "output_type": "stream",
     "text": [
      "-0.034916177045331814\n"
     ]
    }
   ],
   "source": [
    "spearman_r_resnet_18, _ = spearmanr(rdm_resnet_18_upper, neural_rdm_upper)\n",
    "\n",
    "print (spearman_r_resnet_18)"
   ]
  },
  {
   "cell_type": "code",
   "execution_count": 44,
   "metadata": {},
   "outputs": [
    {
     "name": "stdout",
     "output_type": "stream",
     "text": [
      "-0.034916177045331814\n"
     ]
    }
   ],
   "source": [
    "spearman_r_resnet_18, _ = spearmanr(rdm_resnet_18_upper, neural_rdm_upper)\n",
    "\n",
    "print (spearman_r_resnet_18)"
   ]
  },
  {
   "cell_type": "code",
   "execution_count": 45,
   "metadata": {},
   "outputs": [
    {
     "name": "stdout",
     "output_type": "stream",
     "text": [
      "0.21512864942701182\n"
     ]
    }
   ],
   "source": [
    "spearman_r_vgg16, _ = spearmanr(rdm_vgg16_upper, neural_rdm_upper)\n",
    "\n",
    "print (spearman_r_vgg16)"
   ]
  },
  {
   "cell_type": "code",
   "execution_count": 46,
   "metadata": {},
   "outputs": [
    {
     "name": "stdout",
     "output_type": "stream",
     "text": [
      "0.21280635555886712\n"
     ]
    }
   ],
   "source": [
    "spearman_r_vgg19, _ = spearmanr(rdm_vgg19_upper, neural_rdm_upper)\n",
    "\n",
    "print (spearman_r_vgg19)"
   ]
  },
  {
   "cell_type": "code",
   "execution_count": 47,
   "metadata": {},
   "outputs": [
    {
     "name": "stdout",
     "output_type": "stream",
     "text": [
      "0.11157591941326225\n"
     ]
    }
   ],
   "source": [
    "spearman_r_googlenet, _ = spearmanr(rdm_googlenet_upper, neural_rdm_upper)\n",
    "\n",
    "print (spearman_r_googlenet)"
   ]
  },
  {
   "cell_type": "code",
   "execution_count": 48,
   "metadata": {},
   "outputs": [
    {
     "name": "stdout",
     "output_type": "stream",
     "text": [
      "0.18089725997545417\n"
     ]
    }
   ],
   "source": [
    "spearman_r_inception, _ = spearmanr(rdm_inception_upper, neural_rdm_upper)\n",
    "\n",
    "print (spearman_r_inception)"
   ]
  },
  {
   "cell_type": "code",
   "execution_count": 49,
   "metadata": {},
   "outputs": [
    {
     "name": "stdout",
     "output_type": "stream",
     "text": [
      "0.2450107450999666\n"
     ]
    }
   ],
   "source": [
    "spearman_r_densenet, _ = spearmanr(rdm_densenet_upper, neural_rdm_upper)\n",
    "\n",
    "print (spearman_r_densenet)"
   ]
  },
  {
   "cell_type": "code",
   "execution_count": 50,
   "metadata": {},
   "outputs": [
    {
     "name": "stdout",
     "output_type": "stream",
     "text": [
      "0.22243416794713505\n"
     ]
    }
   ],
   "source": [
    "spearman_r_mobilenet_v2, _ = spearmanr(rdm_mobilenet_v2_upper, neural_rdm_upper)\n",
    "\n",
    "print (spearman_r_mobilenet_v2)"
   ]
  },
  {
   "cell_type": "code",
   "execution_count": 51,
   "metadata": {},
   "outputs": [
    {
     "name": "stdout",
     "output_type": "stream",
     "text": [
      "0.07307505099113548\n"
     ]
    }
   ],
   "source": [
    "spearman_r_shufflenet, _ = spearmanr(rdm_shufflenet_v2_upper, neural_rdm_upper)\n",
    "\n",
    "print (spearman_r_shufflenet)"
   ]
  },
  {
   "cell_type": "code",
   "execution_count": 52,
   "metadata": {},
   "outputs": [
    {
     "name": "stdout",
     "output_type": "stream",
     "text": [
      "0.04178613231921641\n"
     ]
    }
   ],
   "source": [
    "spearman_r_wide_resnet, _ = spearmanr(rdm_wide_resnet_upper, neural_rdm_upper)\n",
    "\n",
    "print (spearman_r_wide_resnet)"
   ]
  },
  {
   "cell_type": "code",
   "execution_count": 53,
   "metadata": {},
   "outputs": [
    {
     "name": "stdout",
     "output_type": "stream",
     "text": [
      "0.18740377784947337\n"
     ]
    }
   ],
   "source": [
    "spearman_r_squeezenet, _ = spearmanr(rdm_squeezenet_upper, neural_rdm_upper)\n",
    "\n",
    "print (spearman_r_squeezenet)"
   ]
  },
  {
   "cell_type": "code",
   "execution_count": 54,
   "metadata": {},
   "outputs": [
    {
     "name": "stdout",
     "output_type": "stream",
     "text": [
      "0.11818287424226191\n"
     ]
    }
   ],
   "source": [
    "spearman_r_resnext, _ = spearmanr(rdm_resnext_upper, neural_rdm_upper)\n",
    "\n",
    "print (spearman_r_resnext)"
   ]
  }
 ],
 "metadata": {
  "kernelspec": {
   "display_name": "feature",
   "language": "python",
   "name": "python3"
  },
  "language_info": {
   "codemirror_mode": {
    "name": "ipython",
    "version": 3
   },
   "file_extension": ".py",
   "mimetype": "text/x-python",
   "name": "python",
   "nbconvert_exporter": "python",
   "pygments_lexer": "ipython3",
   "version": "3.8.18"
  }
 },
 "nbformat": 4,
 "nbformat_minor": 2
}
