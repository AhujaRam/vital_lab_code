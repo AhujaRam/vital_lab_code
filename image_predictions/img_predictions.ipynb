{
 "cells": [
  {
   "cell_type": "code",
   "execution_count": 2,
   "metadata": {},
   "outputs": [
    {
     "ename": "ModuleNotFoundError",
     "evalue": "No module named 'models'",
     "output_type": "error",
     "traceback": [
      "\u001b[0;31m---------------------------------------------------------------------------\u001b[0m",
      "\u001b[0;31mModuleNotFoundError\u001b[0m                       Traceback (most recent call last)",
      "\u001b[1;32m/Users/ramahuja/Library/CloudStorage/Dropbox-KoLab/ViTA Lab Datastore/users/ram/thesis/code/features_extraction/image_predictions/img_predictions.ipynb Cell 1\u001b[0m line \u001b[0;36m3\n\u001b[1;32m      <a href='vscode-notebook-cell:/Users/ramahuja/Library/CloudStorage/Dropbox-KoLab/ViTA%20Lab%20Datastore/users/ram/thesis/code/features_extraction/image_predictions/img_predictions.ipynb#W0sZmlsZQ%3D%3D?line=0'>1</a>\u001b[0m \u001b[39mimport\u001b[39;00m \u001b[39mtorch\u001b[39;00m\n\u001b[1;32m      <a href='vscode-notebook-cell:/Users/ramahuja/Library/CloudStorage/Dropbox-KoLab/ViTA%20Lab%20Datastore/users/ram/thesis/code/features_extraction/image_predictions/img_predictions.ipynb#W0sZmlsZQ%3D%3D?line=1'>2</a>\u001b[0m \u001b[39mimport\u001b[39;00m \u001b[39mmatplotlib\u001b[39;00m\u001b[39m.\u001b[39;00m\u001b[39mpyplot\u001b[39;00m \u001b[39mas\u001b[39;00m \u001b[39mplt\u001b[39;00m\n\u001b[0;32m----> <a href='vscode-notebook-cell:/Users/ramahuja/Library/CloudStorage/Dropbox-KoLab/ViTA%20Lab%20Datastore/users/ram/thesis/code/features_extraction/image_predictions/img_predictions.ipynb#W0sZmlsZQ%3D%3D?line=2'>3</a>\u001b[0m \u001b[39mfrom\u001b[39;00m \u001b[39mmodels\u001b[39;00m \u001b[39mimport\u001b[39;00m MemNet\n\u001b[1;32m      <a href='vscode-notebook-cell:/Users/ramahuja/Library/CloudStorage/Dropbox-KoLab/ViTA%20Lab%20Datastore/users/ram/thesis/code/features_extraction/image_predictions/img_predictions.ipynb#W0sZmlsZQ%3D%3D?line=3'>4</a>\u001b[0m \u001b[39mfrom\u001b[39;00m \u001b[39mLaMemDataset\u001b[39;00m \u001b[39mimport\u001b[39;00m LaMemEvalDataset\n\u001b[1;32m      <a href='vscode-notebook-cell:/Users/ramahuja/Library/CloudStorage/Dropbox-KoLab/ViTA%20Lab%20Datastore/users/ram/thesis/code/features_extraction/image_predictions/img_predictions.ipynb#W0sZmlsZQ%3D%3D?line=4'>5</a>\u001b[0m \u001b[39mfrom\u001b[39;00m \u001b[39mtorchvision\u001b[39;00m \u001b[39mimport\u001b[39;00m transforms\n",
      "\u001b[0;31mModuleNotFoundError\u001b[0m: No module named 'models'"
     ]
    }
   ],
   "source": [
    "import torch\n",
    "import matplotlib.pyplot as plt\n",
    "from models import MemNet\n",
    "from LaMemDataset import LaMemEvalDataset\n",
    "from torchvision import transforms\n",
    "import numpy as np\n",
    "import PIL.Image\n",
    "from PIL import Image\n",
    "from torchvision.models.feature_extraction import get_graph_node_names, create_feature_extractor\n",
    "from matplotlib.colors import LinearSegmentedColormap\n",
    "\n",
    "import pandas as pd\n",
    "\n",
    "from layer_activity import features\n",
    "\n",
    "import torchvision.models as Alexnet\n",
    "from torchvision import transforms\n",
    "\n",
    "import torch\n",
    "import torchvision.models as models\n",
    "\n",
    "from scipy import stats"
   ]
  },
  {
   "cell_type": "code",
   "execution_count": null,
   "metadata": {},
   "outputs": [],
   "source": []
  }
 ],
 "metadata": {
  "kernelspec": {
   "display_name": "feature",
   "language": "python",
   "name": "python3"
  },
  "language_info": {
   "codemirror_mode": {
    "name": "ipython",
    "version": 3
   },
   "file_extension": ".py",
   "mimetype": "text/x-python",
   "name": "python",
   "nbconvert_exporter": "python",
   "pygments_lexer": "ipython3",
   "version": "3.8.18"
  }
 },
 "nbformat": 4,
 "nbformat_minor": 2
}
